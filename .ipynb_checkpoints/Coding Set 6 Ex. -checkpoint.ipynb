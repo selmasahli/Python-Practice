{
 "cells": [
  {
   "cell_type": "markdown",
   "id": "6193f73f",
   "metadata": {},
   "source": [
    "# Coding Set 6 Exercises"
   ]
  },
  {
   "cell_type": "markdown",
   "id": "8411bab4",
   "metadata": {},
   "source": [
    "## Algorithm Workbench : Number 1\n",
    "#### This code is asking me to write a program that opens an output file with the filename my_name.txt, writes your name to the file, then closes the file."
   ]
  },
  {
   "cell_type": "code",
   "execution_count": 1,
   "id": "05737872",
   "metadata": {},
   "outputs": [],
   "source": [
    "#first I have to open a file but do it in the 'w' mode since I'm asking the user to input a name "
   ]
  },
  {
   "cell_type": "code",
   "execution_count": 2,
   "id": "9eb06f41",
   "metadata": {},
   "outputs": [],
   "source": [
    "#since I'm going to write the code with a \"with\" statement the program will automatically close \n",
    "with open('my_name.txt', 'w') as file:\n",
    "    #I'm going to input my actual name \n",
    "    file.write('Selma') \n",
    "    #I predict this will be correct since I don't need to close the program with the 'with' statement"
   ]
  },
  {
   "cell_type": "markdown",
   "id": "8bbab411",
   "metadata": {},
   "source": [
    "### Algorithm Workbench : Number 2 (continuation of first problem)"
   ]
  },
  {
   "cell_type": "code",
   "execution_count": 5,
   "id": "496012ea",
   "metadata": {},
   "outputs": [
    {
     "name": "stdout",
     "output_type": "stream",
     "text": [
      "Selma\n"
     ]
    }
   ],
   "source": [
    "#I'm going to paste what I have already since it's a continuation\n",
    "with open('my_name.txt', 'w') as file:\n",
    "    file.write('Selma') \n",
    "    #I have to reopen the file but this time as read since it is not asking the user to add anything. \n",
    "    # I also have to realign the with statements \n",
    "with open('my_name.txt', 'r') as file:\n",
    "    print('Selma')"
   ]
  },
  {
   "cell_type": "code",
   "execution_count": null,
   "id": "81e0e0e8",
   "metadata": {},
   "outputs": [],
   "source": []
  }
 ],
 "metadata": {
  "kernelspec": {
   "display_name": "Python 3 (ipykernel)",
   "language": "python",
   "name": "python3"
  },
  "language_info": {
   "codemirror_mode": {
    "name": "ipython",
    "version": 3
   },
   "file_extension": ".py",
   "mimetype": "text/x-python",
   "name": "python",
   "nbconvert_exporter": "python",
   "pygments_lexer": "ipython3",
   "version": "3.11.4"
  }
 },
 "nbformat": 4,
 "nbformat_minor": 5
}
