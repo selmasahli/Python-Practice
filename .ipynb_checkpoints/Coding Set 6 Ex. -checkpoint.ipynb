{
 "cells": [
  {
   "cell_type": "markdown",
   "id": "723f9047",
   "metadata": {},
   "source": [
    "# Coding Set 6 Exercises"
   ]
  },
  {
   "cell_type": "markdown",
   "id": "692a162a",
   "metadata": {},
   "source": [
    "## Algorithm Workbench : Number 1\n",
    "#### This code is asking me to write a program that opens an output file with the filename my_name.txt, writes your name to the file, then closes the file."
   ]
  },
  {
   "cell_type": "code",
   "execution_count": 1,
   "id": "243e0f5d",
   "metadata": {},
   "outputs": [],
   "source": [
    "#first I have to open a file but do it in the 'w' mode since I'm asking the user to input a name "
   ]
  },
  {
   "cell_type": "code",
   "execution_count": 2,
   "id": "98c62882",
   "metadata": {},
   "outputs": [],
   "source": [
    "#since I'm going to write the code with a \"with\" statement the program will automatically close \n",
    "with open('my_name.txt', 'w') as file:\n",
    "    #I'm going to input my actual name \n",
    "    file.write('Selma') \n",
    "    #I predict this will be correct since I don't need to close the program with the 'with' statement"
   ]
  },
  {
   "cell_type": "markdown",
   "id": "71c6a1ff",
   "metadata": {},
   "source": [
    "### Algorithm Workbench : Number 2 (continuation of first problem)"
   ]
  },
  {
   "cell_type": "code",
   "execution_count": 5,
   "id": "cc294234",
   "metadata": {},
   "outputs": [
    {
     "name": "stdout",
     "output_type": "stream",
     "text": [
      "Selma\n"
     ]
    }
   ],
   "source": [
    "#I'm going to paste what I have already since it's a continuation\n",
    "with open('my_name.txt', 'w') as file:\n",
    "    file.write('Selma') \n",
    "    #I have to reopen the file but this time as read since it is not asking the user to add anything. \n",
    "    # I also have to realign the with statements \n",
    "with open('my_name.txt', 'r') as file:\n",
    "    print('Selma')"
   ]
  },
  {
   "cell_type": "markdown",
   "id": "a0f44a98",
   "metadata": {},
   "source": [
    "### Programming Questions : Question 1"
   ]
  },
  {
   "cell_type": "code",
   "execution_count": 10,
   "id": "7bade91c",
   "metadata": {},
   "outputs": [
    {
     "ename": "IndentationError",
     "evalue": "expected an indented block after function definition on line 2 (3750647073.py, line 4)",
     "output_type": "error",
     "traceback": [
      "\u001b[0;36m  Cell \u001b[0;32mIn[10], line 4\u001b[0;36m\u001b[0m\n\u001b[0;31m    infile = open('numbers.txt', 'r')\u001b[0m\n\u001b[0m    ^\u001b[0m\n\u001b[0;31mIndentationError\u001b[0m\u001b[0;31m:\u001b[0m expected an indented block after function definition on line 2\n"
     ]
    }
   ],
   "source": [
    "#This program needs to display the contents of the numbers.txt file \n",
    "def main(): \n",
    "    #open a file names numbers.txt\n",
    "infile = open('numbers.txt', 'r')\n",
    "    #read the files contents \n",
    "    file_contents = infile.read()\n",
    "    #close the file \n",
    "    infile.close()\n",
    "    #Print the data that was in the contents of the file\n",
    "    print(file_contents)\n",
    "    # Call the main function.\n",
    "if __name__ == '__main__':\n",
    "    main()"
   ]
  },
  {
   "cell_type": "markdown",
   "id": "510ca8e0",
   "metadata": {},
   "source": [
    "### Programming Questions : Number 6"
   ]
  },
  {
   "cell_type": "code",
   "execution_count": 14,
   "id": "89a99d0a",
   "metadata": {},
   "outputs": [],
   "source": [
    "#I'm going to use the previous code start up because it starts off the same\n",
    "def main():\n",
    "    with open('numbers.txt', 'r') as file:\n",
    "    #I am using the 'r' since i have to read the file contents\n",
    "        if infile: \n",
    "            total = 0\n",
    "            count = 0\n",
    "        # I am doing this to see if these variables exist in the file \n",
    "    # I am going to seperate all the numbers by a space\n",
    "    number = line.strip()\n",
    "    for i in numbers:\n",
    "        total+= number\n",
    "        count+= 1\n",
    "        #I have to take the average of the numbers\n",
    "        average = total / count \n",
    "        print(average)\n",
    "\n",
    "if __name__ == '__main__':\n",
    "    main()\n",
    "            \n",
    "    #oops I forgot to initially add that!"
   ]
  },
  {
   "cell_type": "markdown",
   "id": "bde69661",
   "metadata": {},
   "source": [
    "### Programming Question : number 9"
   ]
  },
  {
   "cell_type": "code",
   "execution_count": 17,
   "id": "552f2866",
   "metadata": {},
   "outputs": [
    {
     "ename": "NameError",
     "evalue": "name 'numbers' is not defined",
     "output_type": "error",
     "traceback": [
      "\u001b[0;31m---------------------------------------------------------------------------\u001b[0m",
      "\u001b[0;31mNameError\u001b[0m                                 Traceback (most recent call last)",
      "Cell \u001b[0;32mIn[17], line 18\u001b[0m\n\u001b[1;32m     16\u001b[0m         \u001b[38;5;28mprint\u001b[39m(average)\n\u001b[1;32m     17\u001b[0m \u001b[38;5;66;03m#My guess is in order to complete this continuation i have to add an if else statement\u001b[39;00m\n\u001b[0;32m---> 18\u001b[0m \u001b[38;5;28;01mif\u001b[39;00m (numbers\u001b[38;5;241m.\u001b[39mtxt) \u001b[38;5;241m!=\u001b[39m \u001b[38;5;28mint\u001b[39m:\n\u001b[1;32m     19\u001b[0m     \u001b[38;5;28mprint\u001b[39m(\u001b[38;5;124m'\u001b[39m\u001b[38;5;124mThat file does not exist\u001b[39m\u001b[38;5;124m'\u001b[39m)\n\u001b[1;32m     20\u001b[0m     \u001b[38;5;66;03m# I don't think this is correct but I have been on this problem for almost 2 hrs and cannot figure it out.\u001b[39;00m\n\u001b[1;32m     21\u001b[0m     \u001b[38;5;66;03m#I tried looking at external sites as well but they recommend the 'try except' method which I'm not too familiar with.\u001b[39;00m\n\u001b[1;32m     22\u001b[0m \u001b[38;5;66;03m# Call the main function\u001b[39;00m\n",
      "\u001b[0;31mNameError\u001b[0m: name 'numbers' is not defined"
     ]
    }
   ],
   "source": [
    "#Since it is adding on i am going to paste the problem I just had in the previos question. \n",
    "def main():\n",
    "    with open('numbers.txt', 'r') as file:\n",
    "    #I am using the 'r' since i have to read the file contents\n",
    "        if infile: \n",
    "            total = 0\n",
    "            count = 0\n",
    "        # I am doing this to see if these variables exist in the file \n",
    "    # I am going to seperate all the numbers by a space\n",
    "    number = line.strip()\n",
    "    for i in numbers:\n",
    "        total+= number\n",
    "        count+= 1\n",
    "        #I have to take the average of the numbers\n",
    "        average = total / count \n",
    "        print(average)\n",
    "#My guess is in order to complete this continuation i have to add an if else statement\n",
    "if (numbers.txt) != int:\n",
    "    print('That file does not exist')\n",
    "    # I don't think this is correct but I have been on this problem for almost 2 hrs and cannot figure it out.\n",
    "    #I tried looking at external sites as well but they recommend the 'try except' method which I'm not too familiar with.\n",
    "# Call the main function\n",
    "if __name__ == '__main__':\n",
    "    main()"
   ]
  },
  {
   "cell_type": "markdown",
   "id": "c543b7e1",
   "metadata": {},
   "source": [
    "### Programming Exercise Number 4: Item Counter "
   ]
  },
  {
   "cell_type": "code",
   "execution_count": null,
   "id": "5ee0ce1e",
   "metadata": {},
   "outputs": [],
   "source": [
    "#I am starting over"
   ]
  },
  {
   "cell_type": "code",
   "execution_count": null,
   "id": "406bb036",
   "metadata": {},
   "outputs": [],
   "source": []
  }
 ],
 "metadata": {
  "kernelspec": {
   "display_name": "Python 3 (ipykernel)",
   "language": "python",
   "name": "python3"
  },
  "language_info": {
   "codemirror_mode": {
    "name": "ipython",
    "version": 3
   },
   "file_extension": ".py",
   "mimetype": "text/x-python",
   "name": "python",
   "nbconvert_exporter": "python",
   "pygments_lexer": "ipython3",
   "version": "3.11.4"
  }
 },
 "nbformat": 4,
 "nbformat_minor": 5
}
