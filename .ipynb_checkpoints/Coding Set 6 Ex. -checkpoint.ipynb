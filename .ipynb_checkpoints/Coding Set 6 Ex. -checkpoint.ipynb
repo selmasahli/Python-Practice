{
 "cells": [
  {
   "cell_type": "markdown",
   "id": "fffeca3e",
   "metadata": {},
   "source": [
    "# Coding Set 6 Exercises"
   ]
  },
  {
   "cell_type": "markdown",
   "id": "31917f8c",
   "metadata": {},
   "source": [
    "## Algorithm Workbench : Number 1\n",
    "#### This code is asking me to write a program that opens an output file with the filename my_name.txt, writes your name to the file, then closes the file."
   ]
  },
  {
   "cell_type": "code",
   "execution_count": 1,
   "id": "02cade69",
   "metadata": {},
   "outputs": [],
   "source": [
    "#first I have to open a file but do it in the 'w' mode since I'm asking the user to input a name "
   ]
  },
  {
   "cell_type": "code",
   "execution_count": 2,
   "id": "ab665baf",
   "metadata": {},
   "outputs": [],
   "source": [
    "#since I'm going to write the code with a \"with\" statement the program will automatically close \n",
    "with open('my_name.txt', 'w') as file:\n",
    "    #I'm going to input my actual name \n",
    "    file.write('Selma') \n",
    "    #I predict this will be correct since I don't need to close the program with the 'with' statement"
   ]
  },
  {
   "cell_type": "markdown",
   "id": "d75b4297",
   "metadata": {},
   "source": [
    "### Algorithm Workbench : Number 2 (continuation of first problem)"
   ]
  },
  {
   "cell_type": "code",
   "execution_count": 5,
   "id": "9b4e66d0",
   "metadata": {},
   "outputs": [
    {
     "name": "stdout",
     "output_type": "stream",
     "text": [
      "Selma\n"
     ]
    }
   ],
   "source": [
    "#I'm going to paste what I have already since it's a continuation\n",
    "with open('my_name.txt', 'w') as file:\n",
    "    file.write('Selma') \n",
    "    #I have to reopen the file but this time as read since it is not asking the user to add anything. \n",
    "    # I also have to realign the with statements \n",
    "with open('my_name.txt', 'r') as file:\n",
    "    print('Selma')"
   ]
  },
  {
   "cell_type": "markdown",
   "id": "fce4dc77",
   "metadata": {},
   "source": [
    "### Programming Questions : Question 1"
   ]
  },
  {
   "cell_type": "code",
   "execution_count": 6,
   "id": "4af9fc92",
   "metadata": {},
   "outputs": [],
   "source": [
    "#This program needs to display the contents of the numbers.txt file \n",
    "def main(): \n",
    "    #open a file names numbers.txt\n",
    "    infile = open('numbers.txt', 'r')\n",
    "    #read the files contents \n",
    "    file_contents = infile.read()\n",
    "    #close the file \n",
    "    infile.close()\n",
    "    #Print the data that was in the contents of the file\n",
    "    print(file_contents)\n",
    "    # Call the main function.\n",
    "if __name__ == '__main__':\n",
    "    main()"
   ]
  },
  {
   "cell_type": "markdown",
   "id": "ba085b0e",
   "metadata": {},
   "source": [
    "### Programming Questions : Number 6"
   ]
  },
  {
   "cell_type": "code",
   "execution_count": 7,
   "id": "d3a54e09",
   "metadata": {},
   "outputs": [
    {
     "ename": "NameError",
     "evalue": "name 'infile' is not defined",
     "output_type": "error",
     "traceback": [
      "\u001b[0;31m---------------------------------------------------------------------------\u001b[0m",
      "\u001b[0;31mNameError\u001b[0m                                 Traceback (most recent call last)",
      "Cell \u001b[0;32mIn[7], line 9\u001b[0m\n\u001b[1;32m      7\u001b[0m         count \u001b[38;5;241m=\u001b[39m \u001b[38;5;241m0\u001b[39m\n\u001b[1;32m      8\u001b[0m         \u001b[38;5;66;03m# I am doing this to see if these variables exist in the file \u001b[39;00m\n\u001b[0;32m----> 9\u001b[0m \u001b[38;5;28;01mfor\u001b[39;00m line \u001b[38;5;129;01min\u001b[39;00m infile:\n\u001b[1;32m     10\u001b[0m     \u001b[38;5;66;03m# I am going to seperate all the numbers by a space\u001b[39;00m\n\u001b[1;32m     11\u001b[0m     number \u001b[38;5;241m=\u001b[39m line\u001b[38;5;241m.\u001b[39mstrip()\n\u001b[1;32m     12\u001b[0m     \u001b[38;5;28;01mfor\u001b[39;00m i \u001b[38;5;129;01min\u001b[39;00m numbers:\n",
      "\u001b[0;31mNameError\u001b[0m: name 'infile' is not defined"
     ]
    }
   ],
   "source": [
    "#I'm going to use the previous code start up because it starts off the same\n",
    "def main():\n",
    "    file = open('numbers.txt', 'r')\n",
    "    #I am using the 'r' since i have to read the file contents\n",
    "    if infile: \n",
    "        total = 0\n",
    "        count = 0\n",
    "        # I am doing this to see if these variables exist in the file \n",
    "for line in file:\n",
    "    # I am going to seperate all the numbers by a space\n",
    "    number = line.strip()\n",
    "    for i in numbers:\n",
    "        total+= number\n",
    "        count+= 1\n",
    "        average = total / count \n",
    "        print(average)\n",
    "            \n",
    "    "
   ]
  },
  {
   "cell_type": "code",
   "execution_count": null,
   "id": "33a71c02",
   "metadata": {},
   "outputs": [],
   "source": []
  }
 ],
 "metadata": {
  "kernelspec": {
   "display_name": "Python 3 (ipykernel)",
   "language": "python",
   "name": "python3"
  },
  "language_info": {
   "codemirror_mode": {
    "name": "ipython",
    "version": 3
   },
   "file_extension": ".py",
   "mimetype": "text/x-python",
   "name": "python",
   "nbconvert_exporter": "python",
   "pygments_lexer": "ipython3",
   "version": "3.11.4"
  }
 },
 "nbformat": 4,
 "nbformat_minor": 5
}
