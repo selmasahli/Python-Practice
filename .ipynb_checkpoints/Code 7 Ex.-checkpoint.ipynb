{
 "cells": [
  {
   "cell_type": "markdown",
   "id": "7a59b94d",
   "metadata": {},
   "source": [
    "## Coding Set 7 Ex."
   ]
  },
  {
   "cell_type": "markdown",
   "id": "b2bbcf70",
   "metadata": {},
   "source": [
    "### Algorithm Workbench question 1"
   ]
  },
  {
   "cell_type": "code",
   "execution_count": 1,
   "id": "9e4eb5da",
   "metadata": {},
   "outputs": [],
   "source": [
    "# I am told to create a list with the names 'Einstein', 'Newton', 'Copernicus', and 'Kepler'.\n",
    "#This one is fairly simple since I just have to assign them all to one variable\n",
    "people = ['Einstein', 'Newton', 'Copernicus','Kepler']\n",
    "#now when i use ('people') in a code it will print the list\n"
   ]
  },
  {
   "cell_type": "markdown",
   "id": "3ffa31e3",
   "metadata": {},
   "source": [
    "### Algorithm Workbench question 2"
   ]
  },
  {
   "cell_type": "code",
   "execution_count": 2,
   "id": "567a2f81",
   "metadata": {},
   "outputs": [
    {
     "name": "stdout",
     "output_type": "stream",
     "text": [
      "Einstein\n",
      "Newton\n",
      "Copernicus\n",
      "Kepler\n"
     ]
    }
   ],
   "source": [
    "#I am going to add off of the previous code since the instructions say to.. \n",
    "#Assume 'names' references a list. Write a for loop that displays each element of the list\n",
    "#I am going to change the variable assigned name from 'people' to 'names'\n",
    "names = ['Einstein', 'Newton', 'Copernicus','Kepler']\n",
    "for person in names:\n",
    "    print(person)"
   ]
  },
  {
   "cell_type": "code",
   "execution_count": 3,
   "id": "2defe393",
   "metadata": {},
   "outputs": [],
   "source": [
    "#yay it worked!"
   ]
  },
  {
   "cell_type": "markdown",
   "id": "5c5eb6d4",
   "metadata": {},
   "source": [
    "### Programming Question 1"
   ]
  },
  {
   "cell_type": "code",
   "execution_count": 4,
   "id": "ff98e538",
   "metadata": {},
   "outputs": [],
   "source": [
    "#I decided to start over because I got stuck and didn't know where to go from there\n",
    "                "
   ]
  },
  {
   "cell_type": "code",
   "execution_count": 12,
   "id": "cac1ecca",
   "metadata": {},
   "outputs": [
    {
     "name": "stdout",
     "output_type": "stream",
     "text": [
      "34\n",
      "43\n",
      "43\n",
      "4\n",
      "3\n",
      "45\n",
      "34\n",
      "Total sales amount is 206\n"
     ]
    }
   ],
   "source": [
    "#first I'm going to have an open bracket for the daily_amount\n",
    "daily_sales = []\n",
    "#next I'm going to define the days of the week\n",
    "days_of_week = [\"Monday\", \"Tuesday\", \"Wednesday\", \"Thursday\", \"Friday\", \"Saturday\", \"Sunday\"]\n",
    "#next i am going to create a loop to run the amount for each day \n",
    "for amount in days_of_week:\n",
    "    one_day = int(input())\n",
    "    #now I'm going to add this daily sale to the initial amount\n",
    "    daily_sales.append(one_day)\n",
    "total_sales = sum(daily_sales)\n",
    "print(f'Total sales amount is {total_sales}')"
   ]
  },
  {
   "cell_type": "code",
   "execution_count": 11,
   "id": "01a2c11c",
   "metadata": {},
   "outputs": [],
   "source": [
    "#I have to make my print statement a float"
   ]
  },
  {
   "cell_type": "code",
   "execution_count": 13,
   "id": "2547228b",
   "metadata": {},
   "outputs": [],
   "source": [
    "#Yay!! It worked"
   ]
  },
  {
   "cell_type": "markdown",
   "id": "bdaff869",
   "metadata": {},
   "source": [
    "### Programming Question 14"
   ]
  },
  {
   "cell_type": "code",
   "execution_count": 15,
   "id": "38046a34",
   "metadata": {},
   "outputs": [
    {
     "ename": "SyntaxError",
     "evalue": "invalid syntax (1030412320.py, line 2)",
     "output_type": "error",
     "traceback": [
      "\u001b[0;36m  Cell \u001b[0;32mIn[15], line 2\u001b[0;36m\u001b[0m\n\u001b[0;31m    def(main):\u001b[0m\n\u001b[0m       ^\u001b[0m\n\u001b[0;31mSyntaxError\u001b[0m\u001b[0;31m:\u001b[0m invalid syntax\n"
     ]
    }
   ],
   "source": [
    "import matplotlib.pyplot as plt\n",
    "def(main):\n",
    "    #I have to create a list for each of the different quadrants\n",
    "    rent = int(input())\n",
    "    Gas = int(input)\n",
    "    Food = int(input)\n",
    "    Clothing = int(input)\n",
    "    Car_payment = int(input)\n",
    "    Misc = int(input)\n",
    "    #now I have to create a pie chart from these inputs \n",
    "    plt.pie(rent,Gas,Food,Clothing,Car_payment)\n",
    "    #I have to add a title\n",
    "    plt.title('Expense Pie Chart')\n",
    "    plt.show()\n",
    "#Call the main function \n",
    "if __name__ == '__main__':\n",
    "main()"
   ]
  },
  {
   "cell_type": "code",
   "execution_count": null,
   "id": "047db1af",
   "metadata": {},
   "outputs": [],
   "source": []
  }
 ],
 "metadata": {
  "kernelspec": {
   "display_name": "Python 3 (ipykernel)",
   "language": "python",
   "name": "python3"
  },
  "language_info": {
   "codemirror_mode": {
    "name": "ipython",
    "version": 3
   },
   "file_extension": ".py",
   "mimetype": "text/x-python",
   "name": "python",
   "nbconvert_exporter": "python",
   "pygments_lexer": "ipython3",
   "version": "3.11.4"
  }
 },
 "nbformat": 4,
 "nbformat_minor": 5
}
