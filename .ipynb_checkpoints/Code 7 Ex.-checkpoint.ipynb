{
 "cells": [
  {
   "cell_type": "markdown",
   "id": "4cc86485",
   "metadata": {},
   "source": [
    "## Coding Set 7 Ex."
   ]
  },
  {
   "cell_type": "markdown",
   "id": "7f36ace0",
   "metadata": {},
   "source": [
    "### Algorithm Workbench question 1"
   ]
  },
  {
   "cell_type": "code",
   "execution_count": 1,
   "id": "3a01da63",
   "metadata": {},
   "outputs": [],
   "source": [
    "# I am told to create a list with the names 'Einstein', 'Newton', 'Copernicus', and 'Kepler'.\n",
    "#This one is fairly simple since I just have to assign them all to one variable\n",
    "people = ['Einstein', 'Newton', 'Copernicus','Kepler']\n",
    "#now when i use ('people') in a code it will print the list\n"
   ]
  },
  {
   "cell_type": "markdown",
   "id": "4eea83a1",
   "metadata": {},
   "source": [
    "### Algorithm Workbench question 2"
   ]
  },
  {
   "cell_type": "code",
   "execution_count": 2,
   "id": "9a8d18f2",
   "metadata": {},
   "outputs": [
    {
     "name": "stdout",
     "output_type": "stream",
     "text": [
      "Einstein\n",
      "Newton\n",
      "Copernicus\n",
      "Kepler\n"
     ]
    }
   ],
   "source": [
    "#I am going to add off of the previous code since the instructions say to.. \n",
    "#Assume 'names' references a list. Write a for loop that displays each element of the list\n",
    "#I am going to change the variable assigned name from 'people' to 'names'\n",
    "names = ['Einstein', 'Newton', 'Copernicus','Kepler']\n",
    "for person in names:\n",
    "    print(person)"
   ]
  },
  {
   "cell_type": "code",
   "execution_count": 3,
   "id": "7636375c",
   "metadata": {},
   "outputs": [],
   "source": [
    "#yay it worked!"
   ]
  },
  {
   "cell_type": "markdown",
   "id": "3ae4fefe",
   "metadata": {},
   "source": [
    "### Programming Question 1"
   ]
  },
  {
   "cell_type": "code",
   "execution_count": 4,
   "id": "a6329834",
   "metadata": {},
   "outputs": [],
   "source": [
    "#I decided to start over because I got stuck and didn't know where to go from there\n",
    "                "
   ]
  },
  {
   "cell_type": "code",
   "execution_count": 10,
   "id": "afe4853c",
   "metadata": {},
   "outputs": [
    {
     "name": "stdout",
     "output_type": "stream",
     "text": [
      "45\n",
      "55\n",
      "65\n",
      "56\n",
      "65\n",
      "45\n",
      "43\n",
      "Total sales amount is (total_sales)\n"
     ]
    }
   ],
   "source": [
    "#first I'm going to have an open bracket for the daily_amount\n",
    "daily_sales = []\n",
    "#next I'm going to define the days of the week\n",
    "days_of_week = [\"Monday\", \"Tuesday\", \"Wednesday\", \"Thursday\", \"Friday\", \"Saturday\", \"Sunday\"]\n",
    "#next i am going to create a loop to run the amount for each day \n",
    "for amount in days_of_week:\n",
    "    one_day = int(input())\n",
    "    #now I'm going to add this daily sale to the initial amount\n",
    "    daily_sales.append(one_day)\n",
    "total_sales = sum(daily_sales)\n",
    "print('Total sales amount is (total_sales)')"
   ]
  },
  {
   "cell_type": "code",
   "execution_count": null,
   "id": "eb7b8d8c",
   "metadata": {},
   "outputs": [],
   "source": [
    "#"
   ]
  },
  {
   "cell_type": "code",
   "execution_count": null,
   "id": "2651c663",
   "metadata": {},
   "outputs": [],
   "source": []
  }
 ],
 "metadata": {
  "kernelspec": {
   "display_name": "Python 3 (ipykernel)",
   "language": "python",
   "name": "python3"
  },
  "language_info": {
   "codemirror_mode": {
    "name": "ipython",
    "version": 3
   },
   "file_extension": ".py",
   "mimetype": "text/x-python",
   "name": "python",
   "nbconvert_exporter": "python",
   "pygments_lexer": "ipython3",
   "version": "3.11.4"
  }
 },
 "nbformat": 4,
 "nbformat_minor": 5
}
