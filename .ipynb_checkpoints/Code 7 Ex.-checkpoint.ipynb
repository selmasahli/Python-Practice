{
 "cells": [
  {
   "cell_type": "markdown",
   "id": "f1e111dc",
   "metadata": {},
   "source": [
    "## Coding Set 7 Ex."
   ]
  },
  {
   "cell_type": "markdown",
   "id": "b38e1bda",
   "metadata": {},
   "source": [
    "### Algorithm Workbench question 1"
   ]
  },
  {
   "cell_type": "code",
   "execution_count": 1,
   "id": "050b329f",
   "metadata": {},
   "outputs": [],
   "source": [
    "# I am told to create a list with the names 'Einstein', 'Newton', 'Copernicus', and 'Kepler'.\n",
    "#This one is fairly simple since I just have to assign them all to one variable\n",
    "people = ['Einstein', 'Newton', 'Copernicus','Kepler']\n",
    "#now when i use ('people') in a code it will print the list\n"
   ]
  },
  {
   "cell_type": "markdown",
   "id": "5bcde697",
   "metadata": {},
   "source": [
    "### Algorithm Workbench question 2"
   ]
  },
  {
   "cell_type": "code",
   "execution_count": 2,
   "id": "9ca15367",
   "metadata": {},
   "outputs": [
    {
     "name": "stdout",
     "output_type": "stream",
     "text": [
      "Einstein\n",
      "Newton\n",
      "Copernicus\n",
      "Kepler\n"
     ]
    }
   ],
   "source": [
    "#I am going to add off of the previous code since the instructions say to.. \n",
    "#Assume 'names' references a list. Write a for loop that displays each element of the list\n",
    "#I am going to change the variable assigned name from 'people' to 'names'\n",
    "names = ['Einstein', 'Newton', 'Copernicus','Kepler']\n",
    "for person in names:\n",
    "    print(person)"
   ]
  },
  {
   "cell_type": "code",
   "execution_count": 3,
   "id": "3105ff58",
   "metadata": {},
   "outputs": [],
   "source": [
    "#yay it worked!"
   ]
  },
  {
   "cell_type": "markdown",
   "id": "e0e3c8d3",
   "metadata": {},
   "source": [
    "### Programming Question 1"
   ]
  },
  {
   "cell_type": "code",
   "execution_count": 4,
   "id": "16fbfdbb",
   "metadata": {},
   "outputs": [],
   "source": [
    "#I decided to start over because I got stuck and didn't know where to go from there\n",
    "                "
   ]
  },
  {
   "cell_type": "code",
   "execution_count": 12,
   "id": "bea5cf45",
   "metadata": {},
   "outputs": [
    {
     "name": "stdout",
     "output_type": "stream",
     "text": [
      "34\n",
      "43\n",
      "43\n",
      "4\n",
      "3\n",
      "45\n",
      "34\n",
      "Total sales amount is 206\n"
     ]
    }
   ],
   "source": [
    "#first I'm going to have an open bracket for the daily_amount\n",
    "daily_sales = []\n",
    "#next I'm going to define the days of the week\n",
    "days_of_week = [\"Monday\", \"Tuesday\", \"Wednesday\", \"Thursday\", \"Friday\", \"Saturday\", \"Sunday\"]\n",
    "#next i am going to create a loop to run the amount for each day \n",
    "for amount in days_of_week:\n",
    "    one_day = int(input())\n",
    "    #now I'm going to add this daily sale to the initial amount\n",
    "    daily_sales.append(one_day)\n",
    "total_sales = sum(daily_sales)\n",
    "print(f'Total sales amount is {total_sales}')"
   ]
  },
  {
   "cell_type": "code",
   "execution_count": 11,
   "id": "674904e3",
   "metadata": {},
   "outputs": [],
   "source": [
    "#I have to make my print statement a float"
   ]
  },
  {
   "cell_type": "code",
   "execution_count": 13,
   "id": "d67ac6cf",
   "metadata": {},
   "outputs": [],
   "source": [
    "#Yay!! It worked"
   ]
  },
  {
   "cell_type": "markdown",
   "id": "4b0b1cc6",
   "metadata": {},
   "source": [
    "### Programming Question 14"
   ]
  },
  {
   "cell_type": "code",
   "execution_count": null,
   "id": "aa0d46ea",
   "metadata": {},
   "outputs": [],
   "source": [
    "# import matplotlib.pyplot as plt\n",
    "def main():\n",
    "    #I have to create a list for each of the different quadrants\n",
    "    rent = int(input())\n",
    "    gas = int(input())\n",
    "    food = int(input())\n",
    "    clothing = int(input())\n",
    "    car_payment = int(input())\n",
    "    misc = int(input())\n",
    "    categories = ['Rent', 'Gas', 'Food', 'Clothing', 'Car Payment', 'Misc']\n",
    "    #now I have to create a pie chart from these inputs \n",
    "    plt.pie(rent, labels=categories)\n",
    "    #I have to add a title\n",
    "    plt.title('Expense Pie Chart')\n",
    "    plt.show()\n",
    "#Call the main function \n",
    "if __name__ == '__main__':\n",
    "    main()"
   ]
  },
  {
   "cell_type": "code",
   "execution_count": 20,
   "id": "bd2f0210",
   "metadata": {},
   "outputs": [],
   "source": [
    "#oops I'm missing parenthesis!"
   ]
  },
  {
   "cell_type": "code",
   "execution_count": 24,
   "id": "2bac676d",
   "metadata": {},
   "outputs": [],
   "source": [
    "#I am lost, I followed the text example!"
   ]
  },
  {
   "cell_type": "markdown",
   "id": "f7583b18",
   "metadata": {},
   "source": [
    "## Programming Question number 2"
   ]
  },
  {
   "cell_type": "code",
   "execution_count": null,
   "id": "f1273cd7",
   "metadata": {},
   "outputs": [],
   "source": []
  },
  {
   "cell_type": "code",
   "execution_count": 32,
   "id": "66f8d744",
   "metadata": {},
   "outputs": [
    {
     "name": "stdout",
     "output_type": "stream",
     "text": [
      "Lottery Numbers:\n",
      "5\n",
      "3\n",
      "8\n",
      "7\n",
      "8\n",
      "0\n",
      "2\n"
     ]
    }
   ],
   "source": [
    "import random \n",
    "\n",
    "def lottery_numbers():\n",
    "#I have to generate random numbers from the random file i imported ranging 0 - 9 \n",
    "    random_lottery_numbers = [random.randint(0, 9) for _ in range(7)]\n",
    "    return random_lottery_numbers\n",
    "\n",
    "# Call the main function \n",
    "def main():\n",
    "    # Generate the lottery numbers\n",
    "    lottery_number = lottery_numbers()\n",
    "\n",
    "    # Display the contents of the list\n",
    "    print(\"Lottery Numbers:\")\n",
    "    # I have to run it through the program so I'm going to use a loop\n",
    "    for number in lottery_number:\n",
    "        print(number)\n",
    "\n",
    "if __name__ == \"__main__\":\n",
    "    main()"
   ]
  },
  {
   "cell_type": "markdown",
   "id": "c3b0b0cd",
   "metadata": {},
   "source": [
    "## Programming Question 4"
   ]
  },
  {
   "cell_type": "code",
   "execution_count": 37,
   "id": "7011c5cd",
   "metadata": {},
   "outputs": [
    {
     "name": "stdout",
     "output_type": "stream",
     "text": [
      "23\n",
      "44\n",
      "55\n",
      "44\n",
      "33\n",
      "44\n",
      "55\n",
      "55\n",
      "4\n",
      "4\n",
      "54\n",
      "4\n",
      "55656\n",
      "7\n",
      "57\n",
      "57\n",
      "5\n",
      "57\n",
      "7\n",
      "7\n",
      "4\n",
      "55656\n",
      "56272\n",
      "2813.6\n"
     ]
    }
   ],
   "source": [
    "def main():\n",
    "    #first I have to get 20 numbers from the user \n",
    "    number_list = []\n",
    "    for num in range (1,21):\n",
    "        #I did 1 - 21 so it actually gathers numbers in the range 1-20 \n",
    "        first = int(input())\n",
    "        number_list.append(first)\n",
    "# now i have to find the min number \n",
    "    low_num = min(number_list)\n",
    "    print(low_num)\n",
    "#same for highest num \n",
    "    high_num = max(number_list)\n",
    "    print(high_num)\n",
    "#now I have to find the total amount\n",
    "    total = sum(number_list)\n",
    "    print(total)\n",
    "#and now the average\n",
    "    average = total / len(number_list)\n",
    "    print(average)\n",
    "\n",
    "if __name__ == \"__main__\":\n",
    "    main()"
   ]
  },
  {
   "cell_type": "code",
   "execution_count": 36,
   "id": "65f3419a",
   "metadata": {},
   "outputs": [],
   "source": [
    "#I have to call the main function!\n",
    "#I have to indent them so they're within the main function! I predict this will now be correct!\n"
   ]
  },
  {
   "cell_type": "code",
   "execution_count": null,
   "id": "ec393ad3",
   "metadata": {},
   "outputs": [],
   "source": []
  }
 ],
 "metadata": {
  "kernelspec": {
   "display_name": "Python 3 (ipykernel)",
   "language": "python",
   "name": "python3"
  },
  "language_info": {
   "codemirror_mode": {
    "name": "ipython",
    "version": 3
   },
   "file_extension": ".py",
   "mimetype": "text/x-python",
   "name": "python",
   "nbconvert_exporter": "python",
   "pygments_lexer": "ipython3",
   "version": "3.11.4"
  }
 },
 "nbformat": 4,
 "nbformat_minor": 5
}
