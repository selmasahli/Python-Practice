{
 "cells": [
  {
   "cell_type": "code",
   "execution_count": 18,
   "id": "e94d4d5a",
   "metadata": {},
   "outputs": [],
   "source": [
    "class person:\n",
    "    # I am defining each of the variables so the uder understands what variables I am using\n",
    "    def __init__(self, name, address, phone):\n",
    "        self.__name = name \n",
    "        #i have put name in since I will be asking the user to input this\n",
    "        self.__address = address \n",
    "        # I will also need the user to input the address \n",
    "        self.__phone = phone \n",
    "        # I will need the user to input their phonenumber \n",
    "        #I spaced it out so it is more organized and I can rename each variable \n",
    "    def set_name(self, name):\n",
    "         self.__name\n",
    "    def set_address(self, address):\n",
    "         self.__address\n",
    "    #I am not returning anything since I am trying to change the name instead\n",
    "    def set_phone(self, phone):\n",
    "        self.__phone \n",
    "        #this is where I switched from 'set' to 'get'\n",
    "        #I did this because I already renamed the variables and now I am looking to return\n",
    "    def get_name(self):\n",
    "        return self.__name\n",
    "    def get_address(self):\n",
    "        return self.__address\n",
    "    def get_phone(self):\n",
    "        return self.__phone"
   ]
  },
  {
   "cell_type": "code",
   "execution_count": 12,
   "id": "4b9f8d06",
   "metadata": {},
   "outputs": [],
   "source": [
    "#It seems like it worked! "
   ]
  },
  {
   "cell_type": "code",
   "execution_count": 19,
   "id": "93e6e3dc",
   "metadata": {},
   "outputs": [],
   "source": [
    "person = person(\"selma\", \"East Lansing\", \"888-888-8888\")"
   ]
  },
  {
   "cell_type": "code",
   "execution_count": 20,
   "id": "6341e846",
   "metadata": {},
   "outputs": [
    {
     "data": {
      "text/plain": [
       "'selma'"
      ]
     },
     "execution_count": 20,
     "metadata": {},
     "output_type": "execute_result"
    }
   ],
   "source": [
    "person.get_name()"
   ]
  },
  {
   "cell_type": "code",
   "execution_count": 7,
   "id": "1d745404",
   "metadata": {},
   "outputs": [],
   "source": [
    "#I accidentally used telephone instead of writing phone"
   ]
  },
  {
   "cell_type": "code",
   "execution_count": 17,
   "id": "1b6d5312",
   "metadata": {},
   "outputs": [],
   "source": [
    "#my code literally matches exactly so im not sure why it's not working"
   ]
  },
  {
   "cell_type": "code",
   "execution_count": 21,
   "id": "d123603e",
   "metadata": {},
   "outputs": [],
   "source": [
    "#Yay! it worked"
   ]
  },
  {
   "cell_type": "code",
   "execution_count": null,
   "id": "57de5fd8",
   "metadata": {},
   "outputs": [],
   "source": []
  }
 ],
 "metadata": {
  "kernelspec": {
   "display_name": "Python 3 (ipykernel)",
   "language": "python",
   "name": "python3"
  },
  "language_info": {
   "codemirror_mode": {
    "name": "ipython",
    "version": 3
   },
   "file_extension": ".py",
   "mimetype": "text/x-python",
   "name": "python",
   "nbconvert_exporter": "python",
   "pygments_lexer": "ipython3",
   "version": "3.11.4"
  }
 },
 "nbformat": 4,
 "nbformat_minor": 5
}
