{
 "cells": [
  {
   "cell_type": "markdown",
   "id": "3205ef96",
   "metadata": {},
   "source": [
    "## Chapter 5 Exercises : Algorithm Workbench "
   ]
  },
  {
   "cell_type": "markdown",
   "id": "ae876480",
   "metadata": {},
   "source": [
    "###Number 1: this code asks me to create a code that asks the user for an input and prints it times ten. "
   ]
  },
  {
   "cell_type": "code",
   "execution_count": 5,
   "id": "bec08d2e",
   "metadata": {},
   "outputs": [],
   "source": [
    "#Since the code is asking me to define a variable named 'times_ten' I am going to use the def function \n",
    "def times_ten(number):\n",
    "    #Now I'm going to input the math so the code multiplies by ten.\n",
    "    answer = number * 10\n",
    "    #lastly I'm going to print the statement\n",
    "    print(answer)"
   ]
  },
  {
   "cell_type": "code",
   "execution_count": 4,
   "id": "9b4f46bc",
   "metadata": {},
   "outputs": [],
   "source": [
    "#It won't submit so I am going to plug it into an outside source. "
   ]
  },
  {
   "cell_type": "code",
   "execution_count": 6,
   "id": "022fa7a1",
   "metadata": {},
   "outputs": [],
   "source": [
    "#It works!! "
   ]
  },
  {
   "cell_type": "markdown",
   "id": "60b30b78",
   "metadata": {},
   "source": [
    "### Algorithm Workbench question 3"
   ]
  },
  {
   "cell_type": "code",
   "execution_count": 7,
   "id": "e5d65fa5",
   "metadata": {},
   "outputs": [],
   "source": [
    "#Look at the following function header:\n",
    "#def my_function(a, b, c):\n",
    "#Now look at the following call to my_function:\n",
    "#my_function(3, 2, 1)\n",
    "#When this call executes, what value will be assigned to a? What value will be assigned to b? What value will be assigned to c?"
   ]
  },
  {
   "cell_type": "markdown",
   "id": "6c4f62d3",
   "metadata": {},
   "source": [
    "The number 3 will be assigned to letter a, the number 2 will be assigned to letter b and the number 1 will be assigned to letter c. This is because after they defined the function (a,b,c) they assigned it to the numbers (3,2,1) in that order."
   ]
  },
  {
   "cell_type": "markdown",
   "id": "1eddf0ad",
   "metadata": {},
   "source": [
    "## Programming Questions"
   ]
  },
  {
   "cell_type": "markdown",
   "id": "6e3179b9",
   "metadata": {},
   "source": [
    "Prime question "
   ]
  },
  {
   "cell_type": "code",
   "execution_count": 8,
   "id": "b5db252a",
   "metadata": {},
   "outputs": [],
   "source": [
    "def is_prime(num):\n",
    "    for i in range(2,num):\n",
    "        if num % i == 0:\n",
    "            return False\n",
    "        return True "
   ]
  },
  {
   "cell_type": "code",
   "execution_count": 9,
   "id": "159373fa",
   "metadata": {},
   "outputs": [
    {
     "data": {
      "text/plain": [
       "False"
      ]
     },
     "execution_count": 9,
     "metadata": {},
     "output_type": "execute_result"
    }
   ],
   "source": [
    "is_prime(4)"
   ]
  },
  {
   "cell_type": "code",
   "execution_count": 10,
   "id": "a3052d14",
   "metadata": {},
   "outputs": [
    {
     "data": {
      "text/plain": [
       "True"
      ]
     },
     "execution_count": 10,
     "metadata": {},
     "output_type": "execute_result"
    }
   ],
   "source": [
    "is_prime(7)"
   ]
  },
  {
   "cell_type": "code",
   "execution_count": 11,
   "id": "b93eabdd",
   "metadata": {},
   "outputs": [],
   "source": [
    "##^^ prime number question from walkthrough video"
   ]
  },
  {
   "cell_type": "markdown",
   "id": "2c1b5d98",
   "metadata": {},
   "source": [
    "Prime number List Question"
   ]
  },
  {
   "cell_type": "code",
   "execution_count": 12,
   "id": "5c772a2b",
   "metadata": {},
   "outputs": [],
   "source": [
    "#I am going to use the previous code and add onto it since they are similar. "
   ]
  },
  {
   "cell_type": "code",
   "execution_count": 15,
   "id": "aed7a47b",
   "metadata": {},
   "outputs": [
    {
     "name": "stdout",
     "output_type": "stream",
     "text": [
      "[3, 5, 7, 9, 11, 13, 15, 17, 19, 21, 23, 25, 27, 29, 31, 33, 35, 37, 39, 41, 43, 45, 47, 49, 51, 53, 55, 57, 59, 61, 63, 65, 67, 69, 71, 73, 75, 77, 79, 81, 83, 85, 87, 89, 91, 93, 95, 97, 99]\n"
     ]
    }
   ],
   "source": [
    "def is_prime(num):\n",
    "    for i in range(2,num):\n",
    "        if num % i == 0:\n",
    "            return False\n",
    "        return True\n",
    "#I am going to create a range of numbers from 1-100 since that is what the directions are asking for.\n",
    "#I am going to do the range starting at 2 since 1 is not considered a prime number.\n",
    "prime_number = [num for num in range(2, 101) if is_prime(num)]\n",
    "print(prime_number)"
   ]
  },
  {
   "cell_type": "code",
   "execution_count": null,
   "id": "c5f982d8",
   "metadata": {},
   "outputs": [],
   "source": [
    "#It worked!"
   ]
  }
 ],
 "metadata": {
  "kernelspec": {
   "display_name": "Python 3 (ipykernel)",
   "language": "python",
   "name": "python3"
  },
  "language_info": {
   "codemirror_mode": {
    "name": "ipython",
    "version": 3
   },
   "file_extension": ".py",
   "mimetype": "text/x-python",
   "name": "python",
   "nbconvert_exporter": "python",
   "pygments_lexer": "ipython3",
   "version": "3.11.4"
  }
 },
 "nbformat": 4,
 "nbformat_minor": 5
}
