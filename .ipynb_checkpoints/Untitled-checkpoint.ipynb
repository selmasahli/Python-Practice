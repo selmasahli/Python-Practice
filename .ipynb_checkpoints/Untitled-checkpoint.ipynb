{
 "cells": [
  {
   "cell_type": "markdown",
   "id": "021dfb66",
   "metadata": {},
   "source": [
    "## Chapter 5 Exercises : Algorithm Workbench "
   ]
  },
  {
   "cell_type": "markdown",
   "id": "9c5b6e19",
   "metadata": {},
   "source": [
    "###Number 1: this code asks me to create a code that asks the user for an input and prints it times ten. "
   ]
  },
  {
   "cell_type": "code",
   "execution_count": 5,
   "id": "86a67daa",
   "metadata": {},
   "outputs": [],
   "source": [
    "#Since the code is asking me to define a variable named 'times_ten' I am going to use the def function \n",
    "def times_ten(number):\n",
    "    #Now I'm going to input the math so the code multiplies by ten.\n",
    "    answer = number * 10\n",
    "    #lastly I'm going to print the statement\n",
    "    print(answer)"
   ]
  },
  {
   "cell_type": "code",
   "execution_count": 4,
   "id": "f16ee7a3",
   "metadata": {},
   "outputs": [],
   "source": [
    "#It won't submit so I am going to plug it into an outside source. "
   ]
  },
  {
   "cell_type": "code",
   "execution_count": 6,
   "id": "9474e6e8",
   "metadata": {},
   "outputs": [],
   "source": [
    "#It works!! "
   ]
  },
  {
   "cell_type": "markdown",
   "id": "6ef21ed9",
   "metadata": {},
   "source": [
    "### Algorithm Workbench question 3"
   ]
  },
  {
   "cell_type": "code",
   "execution_count": 7,
   "id": "167f185e",
   "metadata": {},
   "outputs": [],
   "source": [
    "#Look at the following function header:\n",
    "#def my_function(a, b, c):\n",
    "#Now look at the following call to my_function:\n",
    "#my_function(3, 2, 1)\n",
    "#When this call executes, what value will be assigned to a? What value will be assigned to b? What value will be assigned to c?"
   ]
  },
  {
   "cell_type": "markdown",
   "id": "cac41b27",
   "metadata": {},
   "source": [
    "The number 3 will be assigned to letter a, the number 2 will be assigned to letter b and the number 1 will be assigned to letter c. This is because after they defined the function (a,b,c) they assigned it to the numbers (3,2,1) in that order."
   ]
  },
  {
   "cell_type": "markdown",
   "id": "b61dab7b",
   "metadata": {},
   "source": [
    "## Programming Questions"
   ]
  },
  {
   "cell_type": "markdown",
   "id": "f2abda71",
   "metadata": {},
   "source": [
    "Prime question "
   ]
  },
  {
   "cell_type": "code",
   "execution_count": 8,
   "id": "86dab64a",
   "metadata": {},
   "outputs": [],
   "source": [
    "def is_prime(num):\n",
    "    for i in range(2,num):\n",
    "        if num % i == 0:\n",
    "            return False\n",
    "        return True "
   ]
  },
  {
   "cell_type": "code",
   "execution_count": 9,
   "id": "24d46b2d",
   "metadata": {},
   "outputs": [
    {
     "data": {
      "text/plain": [
       "False"
      ]
     },
     "execution_count": 9,
     "metadata": {},
     "output_type": "execute_result"
    }
   ],
   "source": [
    "is_prime(4)"
   ]
  },
  {
   "cell_type": "code",
   "execution_count": 10,
   "id": "f42344f6",
   "metadata": {},
   "outputs": [
    {
     "data": {
      "text/plain": [
       "True"
      ]
     },
     "execution_count": 10,
     "metadata": {},
     "output_type": "execute_result"
    }
   ],
   "source": [
    "is_prime(7)"
   ]
  },
  {
   "cell_type": "code",
   "execution_count": null,
   "id": "3d482d29",
   "metadata": {},
   "outputs": [],
   "source": []
  }
 ],
 "metadata": {
  "kernelspec": {
   "display_name": "Python 3 (ipykernel)",
   "language": "python",
   "name": "python3"
  },
  "language_info": {
   "codemirror_mode": {
    "name": "ipython",
    "version": 3
   },
   "file_extension": ".py",
   "mimetype": "text/x-python",
   "name": "python",
   "nbconvert_exporter": "python",
   "pygments_lexer": "ipython3",
   "version": "3.11.4"
  }
 },
 "nbformat": 4,
 "nbformat_minor": 5
}
