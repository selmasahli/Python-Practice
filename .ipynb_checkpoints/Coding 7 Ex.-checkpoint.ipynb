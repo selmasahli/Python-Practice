{
 "cells": [
  {
   "cell_type": "markdown",
   "id": "c31fda1c",
   "metadata": {},
   "source": [
    "## Coding 7 Algorithm Workbench Problems"
   ]
  },
  {
   "cell_type": "markdown",
   "id": "9b3c66ac",
   "metadata": {},
   "source": [
    "### Problem Number 1"
   ]
  },
  {
   "cell_type": "code",
   "execution_count": 5,
   "id": "14aaeed7",
   "metadata": {},
   "outputs": [
    {
     "name": "stdout",
     "output_type": "stream",
     "text": [
      "\n"
     ]
    }
   ],
   "source": [
    "#Since they don't want me to use the \"or\" operator I am going to convert it to lowercase by using the lower method \n",
    "#as suggested in the hint!\n",
    "choice = 'Y'\n",
    "if choice.lower() == 'y':\n",
    "    print()"
   ]
  },
  {
   "cell_type": "markdown",
   "id": "a489aec9",
   "metadata": {},
   "source": [
    "### Problem Number 10"
   ]
  },
  {
   "cell_type": "code",
   "execution_count": 6,
   "id": "2b4121f4",
   "metadata": {},
   "outputs": [
    {
     "name": "stdout",
     "output_type": "stream",
     "text": [
      "['cookies', 'milk', 'fudge', 'cake', 'ice cream']\n"
     ]
    }
   ],
   "source": [
    "#first I have to input the initial string they gave me \n",
    "mystring = 'cookies>milk>fudge>cake>ice cream'\n",
    "#Next i have to change the '>' by using the split operation\n",
    "list = mystring.split('>')\n",
    "#I predict this will work! It should remove the '>' sign\n",
    "print(list)"
   ]
  },
  {
   "cell_type": "code",
   "execution_count": 7,
   "id": "ad52cc22",
   "metadata": {},
   "outputs": [],
   "source": [
    "#It worked!"
   ]
  },
  {
   "cell_type": "markdown",
   "id": "6cbb8ec2",
   "metadata": {},
   "source": [
    "## Programming Questions"
   ]
  },
  {
   "cell_type": "code",
   "execution_count": 20,
   "id": "9d1034a7",
   "metadata": {},
   "outputs": [
    {
     "name": "stdout",
     "output_type": "stream",
     "text": [
      "Enter first, middle, and last nameElle Lee Smith\n",
      "EE.LE.L.S"
     ]
    }
   ],
   "source": [
    "def initials(full_name):\n",
    "    #I have to split the full name in seperate names so I could distingush the initials\n",
    "    names = full_name.split()\n",
    "    initials = ''\n",
    "    for name in names:\n",
    "        #I have to seperate each of the names with a variable so I'm going to use ','\n",
    "        initials += name[0].upper() + '.'\n",
    "        #Next I have to display these initials with the 'print' function but take out the spaces in between them\n",
    "        print(initials[:-1], end='')\n",
    "user_name = input('Enter first, middle, and last name')\n",
    "#now I have to display the initials from the initial file I defined\n",
    "initials(user_name)"
   ]
  },
  {
   "cell_type": "code",
   "execution_count": 12,
   "id": "de7c7d4d",
   "metadata": {},
   "outputs": [],
   "source": [
    "#I just realized the problems asks to have periods not commas so I need to change that symbol.\n",
    "#since it is printing 3 seperate lines I think I have to change it from a split function. "
   ]
  },
  {
   "cell_type": "code",
   "execution_count": null,
   "id": "a9c85ad7",
   "metadata": {},
   "outputs": [],
   "source": []
  }
 ],
 "metadata": {
  "kernelspec": {
   "display_name": "Python 3 (ipykernel)",
   "language": "python",
   "name": "python3"
  },
  "language_info": {
   "codemirror_mode": {
    "name": "ipython",
    "version": 3
   },
   "file_extension": ".py",
   "mimetype": "text/x-python",
   "name": "python",
   "nbconvert_exporter": "python",
   "pygments_lexer": "ipython3",
   "version": "3.11.4"
  }
 },
 "nbformat": 4,
 "nbformat_minor": 5
}
