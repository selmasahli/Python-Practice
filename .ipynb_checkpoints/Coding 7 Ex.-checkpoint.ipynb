{
 "cells": [
  {
   "cell_type": "markdown",
   "id": "b50b09de",
   "metadata": {},
   "source": [
    "## Coding 7 Algorithm Workbench Problems"
   ]
  },
  {
   "cell_type": "markdown",
   "id": "8972b4d4",
   "metadata": {},
   "source": [
    "### Problem Number 1"
   ]
  },
  {
   "cell_type": "code",
   "execution_count": 5,
   "id": "9d439f69",
   "metadata": {},
   "outputs": [
    {
     "name": "stdout",
     "output_type": "stream",
     "text": [
      "\n"
     ]
    }
   ],
   "source": [
    "#Since they don't want me to use the \"or\" operator I am going to convert it to lowercase by using the lower method \n",
    "#as suggested in the hint!\n",
    "choice = 'Y'\n",
    "if choice.lower() == 'y':\n",
    "    print()"
   ]
  },
  {
   "cell_type": "markdown",
   "id": "766fbe29",
   "metadata": {},
   "source": [
    "### Problem Number 10"
   ]
  },
  {
   "cell_type": "code",
   "execution_count": 6,
   "id": "edbce4c3",
   "metadata": {},
   "outputs": [
    {
     "name": "stdout",
     "output_type": "stream",
     "text": [
      "['cookies', 'milk', 'fudge', 'cake', 'ice cream']\n"
     ]
    }
   ],
   "source": [
    "#first I have to input the initial string they gave me \n",
    "mystring = 'cookies>milk>fudge>cake>ice cream'\n",
    "#Next i have to change the '>' by using the split operation\n",
    "list = mystring.split('>')\n",
    "#I predict this will work! It should remove the '>' sign\n",
    "print(list)"
   ]
  },
  {
   "cell_type": "code",
   "execution_count": 7,
   "id": "4f1e00e4",
   "metadata": {},
   "outputs": [],
   "source": [
    "#It worked!"
   ]
  },
  {
   "cell_type": "markdown",
   "id": "88d449fd",
   "metadata": {},
   "source": [
    "## Programming Questions"
   ]
  },
  {
   "cell_type": "code",
   "execution_count": 30,
   "id": "75fd822e",
   "metadata": {
    "scrolled": false
   },
   "outputs": [
    {
     "name": "stdout",
     "output_type": "stream",
     "text": [
      "Enter first, middle, and last name Elle Lee Smith\n",
      "E.\n",
      "E.L.\n",
      "E.L.S.\n"
     ]
    }
   ],
   "source": [
    "def initials(full_name):\n",
    "    #I have to split the full name in seperate names so I could distingush the initials\n",
    "    names = full_name.split()\n",
    "    initials = ''\n",
    "    for name in names:\n",
    "        #I have to seperate each of the names with a variable so I'm going to use ','\n",
    "        initials += name[0].upper() + '.'\n",
    "        #Next I have to display these initials with the 'print' function but take out the spaces in between them\n",
    "        print(initials[-6:])\n",
    "user_name = input('Enter first, middle, and last name ')\n",
    "#now I have to display the initials from the initial file I defined\n",
    "initials(user_name)"
   ]
  },
  {
   "cell_type": "code",
   "execution_count": 12,
   "id": "5adfc622",
   "metadata": {},
   "outputs": [],
   "source": [
    "#I just realized the problems asks to have periods not commas so I need to change that symbol.\n",
    "#since it is printing 3 seperate lines I think I have to change it from a split function. "
   ]
  },
  {
   "cell_type": "markdown",
   "id": "377526e1",
   "metadata": {},
   "source": [
    "### Question number 2"
   ]
  },
  {
   "cell_type": "code",
   "execution_count": 54,
   "id": "7d53c660",
   "metadata": {
    "scrolled": true
   },
   "outputs": [
    {
     "ename": "TypeError",
     "evalue": "'method' object is not iterable",
     "output_type": "error",
     "traceback": [
      "\u001b[0;31m---------------------------------------------------------------------------\u001b[0m",
      "\u001b[0;31mTypeError\u001b[0m                                 Traceback (most recent call last)",
      "Cell \u001b[0;32mIn[54], line 11\u001b[0m\n\u001b[1;32m      9\u001b[0m     \u001b[38;5;28;01mreturn\u001b[39;00m sum_of_numbers \n\u001b[1;32m     10\u001b[0m user_numbers \u001b[38;5;241m=\u001b[39m (\u001b[38;5;28minput\u001b[39m)\n\u001b[0;32m---> 11\u001b[0m result \u001b[38;5;241m=\u001b[39m digits(user_numbers)\n\u001b[1;32m     12\u001b[0m \u001b[38;5;28mprint\u001b[39m(result)\n",
      "Cell \u001b[0;32mIn[54], line 4\u001b[0m, in \u001b[0;36mdigits\u001b[0;34m(string)\u001b[0m\n\u001b[1;32m      1\u001b[0m \u001b[38;5;28;01mdef\u001b[39;00m \u001b[38;5;21mdigits\u001b[39m(string):\n\u001b[1;32m      2\u001b[0m     \u001b[38;5;66;03m#first I have to set the total to 0 for a fresh start\u001b[39;00m\n\u001b[1;32m      3\u001b[0m     sum_of_numbers \u001b[38;5;241m=\u001b[39m \u001b[38;5;241m0\u001b[39m\n\u001b[0;32m----> 4\u001b[0m     \u001b[38;5;28;01mfor\u001b[39;00m char \u001b[38;5;129;01min\u001b[39;00m string:\n\u001b[1;32m      5\u001b[0m         \u001b[38;5;66;03m#I am going to check if the input is between 0 and 9 to make sure it's a number since it didn't orginally \u001b[39;00m\n\u001b[1;32m      6\u001b[0m         \u001b[38;5;66;03m#work when I tried doing 'int(input())'\u001b[39;00m\n\u001b[1;32m      7\u001b[0m         \u001b[38;5;28;01mif\u001b[39;00m \u001b[38;5;124m'\u001b[39m\u001b[38;5;124m0\u001b[39m\u001b[38;5;124m'\u001b[39m\u001b[38;5;241m<\u001b[39m\u001b[38;5;241m=\u001b[39m char \u001b[38;5;241m<\u001b[39m\u001b[38;5;241m=\u001b[39m \u001b[38;5;124m'\u001b[39m\u001b[38;5;124m9\u001b[39m\u001b[38;5;124m'\u001b[39m:\n\u001b[1;32m      8\u001b[0m             sum_of_numbers \u001b[38;5;241m+\u001b[39m\u001b[38;5;241m=\u001b[39m (char)\n",
      "\u001b[0;31mTypeError\u001b[0m: 'method' object is not iterable"
     ]
    }
   ],
   "source": []
  },
  {
   "cell_type": "code",
   "execution_count": 57,
   "id": "a38412e8",
   "metadata": {},
   "outputs": [
    {
     "name": "stdout",
     "output_type": "stream",
     "text": [
      "541\n",
      "10\n"
     ]
    }
   ],
   "source": [
    "def digits(string):\n",
    "    #first I have to set the total to 0 for a fresh start\n",
    "    sum_of_numbers = 0\n",
    "    for char in string:\n",
    "         #I am going to check if the input is between 0 and 9 to make sure it's a number since it didn't orginally \n",
    "        #work when I tried doing 'int(input())'\n",
    "        if '0' <= char <= '9':\n",
    "            sum_of_numbers += int(char)\n",
    "    return sum_of_numbers\n",
    "\n",
    "user_input = input()\n",
    "result = digits(user_input)\n",
    "print(result)"
   ]
  },
  {
   "cell_type": "code",
   "execution_count": null,
   "id": "8905a82b",
   "metadata": {},
   "outputs": [],
   "source": []
  },
  {
   "cell_type": "code",
   "execution_count": null,
   "id": "9889a8a7",
   "metadata": {},
   "outputs": [],
   "source": []
  }
 ],
 "metadata": {
  "kernelspec": {
   "display_name": "Python 3 (ipykernel)",
   "language": "python",
   "name": "python3"
  },
  "language_info": {
   "codemirror_mode": {
    "name": "ipython",
    "version": 3
   },
   "file_extension": ".py",
   "mimetype": "text/x-python",
   "name": "python",
   "nbconvert_exporter": "python",
   "pygments_lexer": "ipython3",
   "version": "3.11.4"
  }
 },
 "nbformat": 4,
 "nbformat_minor": 5
}
