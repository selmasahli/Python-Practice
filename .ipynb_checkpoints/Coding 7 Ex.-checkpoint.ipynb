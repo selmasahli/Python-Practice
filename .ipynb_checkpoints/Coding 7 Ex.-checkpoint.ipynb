{
 "cells": [
  {
   "cell_type": "markdown",
   "id": "d5833535",
   "metadata": {},
   "source": [
    "## Coding 7 Algorithm Workbench Problems"
   ]
  },
  {
   "cell_type": "markdown",
   "id": "3eea77f9",
   "metadata": {},
   "source": [
    "### Problem Number 1"
   ]
  },
  {
   "cell_type": "code",
   "execution_count": 5,
   "id": "701e2edc",
   "metadata": {},
   "outputs": [
    {
     "name": "stdout",
     "output_type": "stream",
     "text": [
      "\n"
     ]
    }
   ],
   "source": [
    "#Since they don't want me to use the \"or\" operator I am going to convert it to lowercase by using the lower method \n",
    "#as suggested in the hint!\n",
    "choice = 'Y'\n",
    "if choice.lower() == 'y':\n",
    "    print()"
   ]
  },
  {
   "cell_type": "markdown",
   "id": "d0a55f95",
   "metadata": {},
   "source": [
    "### Problem Number 10"
   ]
  },
  {
   "cell_type": "code",
   "execution_count": 6,
   "id": "fadb010a",
   "metadata": {},
   "outputs": [
    {
     "name": "stdout",
     "output_type": "stream",
     "text": [
      "['cookies', 'milk', 'fudge', 'cake', 'ice cream']\n"
     ]
    }
   ],
   "source": [
    "#first I have to input the initial string they gave me \n",
    "mystring = 'cookies>milk>fudge>cake>ice cream'\n",
    "#Next i have to change the '>' by using the split operation\n",
    "list = mystring.split('>')\n",
    "#I predict this will work! It should remove the '>' sign\n",
    "print(list)"
   ]
  },
  {
   "cell_type": "code",
   "execution_count": 7,
   "id": "311a6e04",
   "metadata": {},
   "outputs": [],
   "source": [
    "#It worked!"
   ]
  },
  {
   "cell_type": "markdown",
   "id": "78a7d799",
   "metadata": {},
   "source": [
    "## Programming Questions"
   ]
  },
  {
   "cell_type": "code",
   "execution_count": 30,
   "id": "25c29807",
   "metadata": {
    "scrolled": false
   },
   "outputs": [
    {
     "name": "stdout",
     "output_type": "stream",
     "text": [
      "Enter first, middle, and last name Elle Lee Smith\n",
      "E.\n",
      "E.L.\n",
      "E.L.S.\n"
     ]
    }
   ],
   "source": [
    "def initials(full_name):\n",
    "    #I have to split the full name in seperate names so I could distingush the initials\n",
    "    names = full_name.split()\n",
    "    initials = ''\n",
    "    for name in names:\n",
    "        #I have to seperate each of the names with a variable so I'm going to use ','\n",
    "        initials += name[0].upper() + '.'\n",
    "        #Next I have to display these initials with the 'print' function but take out the spaces in between them\n",
    "        print(initials[-6:])\n",
    "user_name = input('Enter first, middle, and last name ')\n",
    "#now I have to display the initials from the initial file I defined\n",
    "initials(user_name)"
   ]
  },
  {
   "cell_type": "code",
   "execution_count": 12,
   "id": "efd50b59",
   "metadata": {},
   "outputs": [],
   "source": [
    "#I just realized the problems asks to have periods not commas so I need to change that symbol.\n",
    "#since it is printing 3 seperate lines I think I have to change it from a split function. "
   ]
  },
  {
   "cell_type": "markdown",
   "id": "49c5f4c1",
   "metadata": {},
   "source": [
    "### Question number 2"
   ]
  },
  {
   "cell_type": "code",
   "execution_count": 54,
   "id": "2aa9f118",
   "metadata": {
    "scrolled": true
   },
   "outputs": [
    {
     "ename": "TypeError",
     "evalue": "'method' object is not iterable",
     "output_type": "error",
     "traceback": [
      "\u001b[0;31m---------------------------------------------------------------------------\u001b[0m",
      "\u001b[0;31mTypeError\u001b[0m                                 Traceback (most recent call last)",
      "Cell \u001b[0;32mIn[54], line 11\u001b[0m\n\u001b[1;32m      9\u001b[0m     \u001b[38;5;28;01mreturn\u001b[39;00m sum_of_numbers \n\u001b[1;32m     10\u001b[0m user_numbers \u001b[38;5;241m=\u001b[39m (\u001b[38;5;28minput\u001b[39m)\n\u001b[0;32m---> 11\u001b[0m result \u001b[38;5;241m=\u001b[39m digits(user_numbers)\n\u001b[1;32m     12\u001b[0m \u001b[38;5;28mprint\u001b[39m(result)\n",
      "Cell \u001b[0;32mIn[54], line 4\u001b[0m, in \u001b[0;36mdigits\u001b[0;34m(string)\u001b[0m\n\u001b[1;32m      1\u001b[0m \u001b[38;5;28;01mdef\u001b[39;00m \u001b[38;5;21mdigits\u001b[39m(string):\n\u001b[1;32m      2\u001b[0m     \u001b[38;5;66;03m#first I have to set the total to 0 for a fresh start\u001b[39;00m\n\u001b[1;32m      3\u001b[0m     sum_of_numbers \u001b[38;5;241m=\u001b[39m \u001b[38;5;241m0\u001b[39m\n\u001b[0;32m----> 4\u001b[0m     \u001b[38;5;28;01mfor\u001b[39;00m char \u001b[38;5;129;01min\u001b[39;00m string:\n\u001b[1;32m      5\u001b[0m         \u001b[38;5;66;03m#I am going to check if the input is between 0 and 9 to make sure it's a number since it didn't orginally \u001b[39;00m\n\u001b[1;32m      6\u001b[0m         \u001b[38;5;66;03m#work when I tried doing 'int(input())'\u001b[39;00m\n\u001b[1;32m      7\u001b[0m         \u001b[38;5;28;01mif\u001b[39;00m \u001b[38;5;124m'\u001b[39m\u001b[38;5;124m0\u001b[39m\u001b[38;5;124m'\u001b[39m\u001b[38;5;241m<\u001b[39m\u001b[38;5;241m=\u001b[39m char \u001b[38;5;241m<\u001b[39m\u001b[38;5;241m=\u001b[39m \u001b[38;5;124m'\u001b[39m\u001b[38;5;124m9\u001b[39m\u001b[38;5;124m'\u001b[39m:\n\u001b[1;32m      8\u001b[0m             sum_of_numbers \u001b[38;5;241m+\u001b[39m\u001b[38;5;241m=\u001b[39m (char)\n",
      "\u001b[0;31mTypeError\u001b[0m: 'method' object is not iterable"
     ]
    }
   ],
   "source": []
  },
  {
   "cell_type": "code",
   "execution_count": 57,
   "id": "4071f06d",
   "metadata": {},
   "outputs": [
    {
     "name": "stdout",
     "output_type": "stream",
     "text": [
      "541\n",
      "10\n"
     ]
    }
   ],
   "source": [
    "def digits(string):\n",
    "    #first I have to set the total to 0 for a fresh start\n",
    "    sum_of_numbers = 0\n",
    "    for char in string:\n",
    "         #I am going to check if the input is between 0 and 9 to make sure it's a number since it didn't orginally \n",
    "        #work when I tried doing 'int(input())'\n",
    "        if '0' <= char <= '9':\n",
    "            sum_of_numbers += int(char)\n",
    "    return sum_of_numbers\n",
    "\n",
    "user_input = input()\n",
    "result = digits(user_input)\n",
    "print(result)"
   ]
  },
  {
   "cell_type": "markdown",
   "id": "eed9ccbb",
   "metadata": {},
   "source": [
    "### Problem number 8"
   ]
  },
  {
   "cell_type": "code",
   "execution_count": null,
   "id": "9274f1c8",
   "metadata": {},
   "outputs": [],
   "source": []
  },
  {
   "cell_type": "code",
   "execution_count": 60,
   "id": "22053bd1",
   "metadata": {},
   "outputs": [],
   "source": []
  },
  {
   "cell_type": "code",
   "execution_count": 62,
   "id": "9b3a5ab7",
   "metadata": {},
   "outputs": [
    {
     "name": "stdout",
     "output_type": "stream",
     "text": [
      "my name is Selma. i am excited for break.\n",
      "My name is Selma. I am excited for break.. \n"
     ]
    }
   ],
   "source": [
    "#This problem is asking me to capitalize setences. I am going to use the capitalize function. \n",
    "def capitalize_sentences(text):\n",
    "    #now I have to split the sentences so I could capitalize each one\n",
    "    sentences = text.split('. ')\n",
    "    capitalized_text = ''\n",
    "    for sentence in sentences:\n",
    "        if sentence:\n",
    "            capitalized_text += sentence[0].capitalize() + sentence[1:] + '. '\n",
    "    return capitalized_text\n",
    "# I have to ask the user to input a couple sentences for the code to work \n",
    "# Asking the user to input a couple of sentences\n",
    "user_sentences = input()\n",
    "new_txt = capitalize_sentences(user_sentences)\n",
    "#lastly I have to print the function\n",
    "print(new_txt)"
   ]
  },
  {
   "cell_type": "code",
   "execution_count": 63,
   "id": "118caa58",
   "metadata": {},
   "outputs": [],
   "source": [
    "#I have an error\n",
    "#yay it worked!"
   ]
  },
  {
   "cell_type": "code",
   "execution_count": null,
   "id": "b6ec0a49",
   "metadata": {},
   "outputs": [],
   "source": []
  }
 ],
 "metadata": {
  "kernelspec": {
   "display_name": "Python 3 (ipykernel)",
   "language": "python",
   "name": "python3"
  },
  "language_info": {
   "codemirror_mode": {
    "name": "ipython",
    "version": 3
   },
   "file_extension": ".py",
   "mimetype": "text/x-python",
   "name": "python",
   "nbconvert_exporter": "python",
   "pygments_lexer": "ipython3",
   "version": "3.11.4"
  }
 },
 "nbformat": 4,
 "nbformat_minor": 5
}
