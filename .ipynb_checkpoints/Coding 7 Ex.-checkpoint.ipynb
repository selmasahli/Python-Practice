{
 "cells": [
  {
   "cell_type": "markdown",
   "id": "352fcd98",
   "metadata": {},
   "source": [
    "## Coding 7 Algorithm Workbench Problems"
   ]
  },
  {
   "cell_type": "markdown",
   "id": "425b74d4",
   "metadata": {},
   "source": [
    "### Problem Number 1"
   ]
  },
  {
   "cell_type": "code",
   "execution_count": 5,
   "id": "232e0657",
   "metadata": {},
   "outputs": [
    {
     "name": "stdout",
     "output_type": "stream",
     "text": [
      "\n"
     ]
    }
   ],
   "source": [
    "#Since they don't want me to use the \"or\" operator I am going to convert it to lowercase by using the lower method \n",
    "#as suggested in the hint!\n",
    "choice = 'Y'\n",
    "if choice.lower() == 'y':\n",
    "    print()"
   ]
  },
  {
   "cell_type": "markdown",
   "id": "cee89053",
   "metadata": {},
   "source": [
    "### Problem Number 10"
   ]
  },
  {
   "cell_type": "code",
   "execution_count": 6,
   "id": "c2a9abee",
   "metadata": {},
   "outputs": [
    {
     "name": "stdout",
     "output_type": "stream",
     "text": [
      "['cookies', 'milk', 'fudge', 'cake', 'ice cream']\n"
     ]
    }
   ],
   "source": [
    "#first I have to input the initial string they gave me \n",
    "mystring = 'cookies>milk>fudge>cake>ice cream'\n",
    "#Next i have to change the '>' by using the split operation\n",
    "list = mystring.split('>')\n",
    "#I predict this will work! It should remove the '>' sign\n",
    "print(list)"
   ]
  },
  {
   "cell_type": "code",
   "execution_count": 7,
   "id": "c83044ac",
   "metadata": {},
   "outputs": [],
   "source": [
    "#It worked!"
   ]
  },
  {
   "cell_type": "markdown",
   "id": "0b9741ec",
   "metadata": {},
   "source": [
    "## Programming Questions"
   ]
  },
  {
   "cell_type": "code",
   "execution_count": 25,
   "id": "43fb50a8",
   "metadata": {
    "scrolled": true
   },
   "outputs": [
    {
     "ename": "SyntaxError",
     "evalue": "invalid syntax (2936928534.py, line 9)",
     "output_type": "error",
     "traceback": [
      "\u001b[0;36m  Cell \u001b[0;32mIn[25], line 9\u001b[0;36m\u001b[0m\n\u001b[0;31m    print(, initials.replace\" \")\u001b[0m\n\u001b[0m          ^\u001b[0m\n\u001b[0;31mSyntaxError\u001b[0m\u001b[0;31m:\u001b[0m invalid syntax\n"
     ]
    }
   ],
   "source": [
    "def initials(full_name):\n",
    "    #I have to split the full name in seperate names so I could distingush the initials\n",
    "    names = full_name.split()\n",
    "    initials = ''\n",
    "    for name in names:\n",
    "        #I have to seperate each of the names with a variable so I'm going to use ','\n",
    "        initials += name[0].upper() + '.'\n",
    "        #Next I have to display these initials with the 'print' function but take out the spaces in between them\n",
    "        print(initials[:3])\n",
    "user_name = input('Enter first, middle, and last name ')\n",
    "#now I have to display the initials from the initial file I defined\n",
    "initials(user_name)"
   ]
  },
  {
   "cell_type": "code",
   "execution_count": 12,
   "id": "d069f997",
   "metadata": {},
   "outputs": [],
   "source": [
    "#I just realized the problems asks to have periods not commas so I need to change that symbol.\n",
    "#since it is printing 3 seperate lines I think I have to change it from a split function. "
   ]
  },
  {
   "cell_type": "code",
   "execution_count": null,
   "id": "e3bcda9f",
   "metadata": {},
   "outputs": [],
   "source": []
  }
 ],
 "metadata": {
  "kernelspec": {
   "display_name": "Python 3 (ipykernel)",
   "language": "python",
   "name": "python3"
  },
  "language_info": {
   "codemirror_mode": {
    "name": "ipython",
    "version": 3
   },
   "file_extension": ".py",
   "mimetype": "text/x-python",
   "name": "python",
   "nbconvert_exporter": "python",
   "pygments_lexer": "ipython3",
   "version": "3.11.4"
  }
 },
 "nbformat": 4,
 "nbformat_minor": 5
}
