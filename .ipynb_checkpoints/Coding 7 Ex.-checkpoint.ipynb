{
 "cells": [
  {
   "cell_type": "markdown",
   "id": "1605aa0b",
   "metadata": {},
   "source": [
    "## Coding 7 Algorithm Workbench Problems"
   ]
  },
  {
   "cell_type": "markdown",
   "id": "7edd3b8a",
   "metadata": {},
   "source": [
    "### Problem Number 1"
   ]
  },
  {
   "cell_type": "code",
   "execution_count": 5,
   "id": "01598c4b",
   "metadata": {},
   "outputs": [
    {
     "name": "stdout",
     "output_type": "stream",
     "text": [
      "\n"
     ]
    }
   ],
   "source": [
    "#Since they don't want me to use the \"or\" operator I am going to convert it to lowercase by using the lower method \n",
    "#as suggested in the hint!\n",
    "choice = 'Y'\n",
    "if choice.lower() == 'y':\n",
    "    print()"
   ]
  },
  {
   "cell_type": "markdown",
   "id": "4ff9e3bc",
   "metadata": {},
   "source": [
    "### Problem Number 10"
   ]
  },
  {
   "cell_type": "code",
   "execution_count": 6,
   "id": "6ccc2014",
   "metadata": {},
   "outputs": [
    {
     "name": "stdout",
     "output_type": "stream",
     "text": [
      "['cookies', 'milk', 'fudge', 'cake', 'ice cream']\n"
     ]
    }
   ],
   "source": [
    "#first I have to input the initial string they gave me \n",
    "mystring = 'cookies>milk>fudge>cake>ice cream'\n",
    "#Next i have to change the '>' by using the split operation\n",
    "list = mystring.split('>')\n",
    "#I predict this will work! It should remove the '>' sign\n",
    "print(list)"
   ]
  },
  {
   "cell_type": "code",
   "execution_count": 7,
   "id": "051ac7e4",
   "metadata": {},
   "outputs": [],
   "source": [
    "#It worked!"
   ]
  },
  {
   "cell_type": "markdown",
   "id": "be0f2f9e",
   "metadata": {},
   "source": [
    "## Programming Questions"
   ]
  },
  {
   "cell_type": "code",
   "execution_count": 30,
   "id": "f6bf05ab",
   "metadata": {
    "scrolled": false
   },
   "outputs": [
    {
     "name": "stdout",
     "output_type": "stream",
     "text": [
      "Enter first, middle, and last name Elle Lee Smith\n",
      "E.\n",
      "E.L.\n",
      "E.L.S.\n"
     ]
    }
   ],
   "source": [
    "def initials(full_name):\n",
    "    #I have to split the full name in seperate names so I could distingush the initials\n",
    "    names = full_name.split()\n",
    "    initials = ''\n",
    "    for name in names:\n",
    "        #I have to seperate each of the names with a variable so I'm going to use ','\n",
    "        initials += name[0].upper() + '.'\n",
    "        #Next I have to display these initials with the 'print' function but take out the spaces in between them\n",
    "        print(initials[-6:])\n",
    "user_name = input('Enter first, middle, and last name ')\n",
    "#now I have to display the initials from the initial file I defined\n",
    "initials(user_name)"
   ]
  },
  {
   "cell_type": "code",
   "execution_count": 12,
   "id": "b5efefbb",
   "metadata": {},
   "outputs": [],
   "source": [
    "#I just realized the problems asks to have periods not commas so I need to change that symbol.\n",
    "#since it is printing 3 seperate lines I think I have to change it from a split function. "
   ]
  },
  {
   "cell_type": "code",
   "execution_count": null,
   "id": "4e84f809",
   "metadata": {},
   "outputs": [],
   "source": []
  }
 ],
 "metadata": {
  "kernelspec": {
   "display_name": "Python 3 (ipykernel)",
   "language": "python",
   "name": "python3"
  },
  "language_info": {
   "codemirror_mode": {
    "name": "ipython",
    "version": 3
   },
   "file_extension": ".py",
   "mimetype": "text/x-python",
   "name": "python",
   "nbconvert_exporter": "python",
   "pygments_lexer": "ipython3",
   "version": "3.11.4"
  }
 },
 "nbformat": 4,
 "nbformat_minor": 5
}
