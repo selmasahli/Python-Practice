{
 "cells": [
  {
   "cell_type": "markdown",
   "id": "a8c2fa8e",
   "metadata": {},
   "source": [
    "## Chapter 5 Exercises : Algorithm Workbench "
   ]
  },
  {
   "cell_type": "markdown",
   "id": "5cfe435b",
   "metadata": {},
   "source": [
    "###Number 1: this code asks me to create a code that asks the user for an input and prints it times ten. "
   ]
  },
  {
   "cell_type": "code",
   "execution_count": 5,
   "id": "5e175723",
   "metadata": {},
   "outputs": [],
   "source": [
    "#Since the code is asking me to define a variable named 'times_ten' I am going to use the def function \n",
    "def times_ten(number):\n",
    "    #Now I'm going to input the math so the code multiplies by ten.\n",
    "    answer = number * 10\n",
    "    #lastly I'm going to print the statement\n",
    "    print(answer)"
   ]
  },
  {
   "cell_type": "code",
   "execution_count": 4,
   "id": "a8082c85",
   "metadata": {},
   "outputs": [],
   "source": [
    "#It won't submit so I am going to plug it into an outside source. "
   ]
  },
  {
   "cell_type": "code",
   "execution_count": 6,
   "id": "e34c85d0",
   "metadata": {},
   "outputs": [],
   "source": [
    "#It works!! "
   ]
  },
  {
   "cell_type": "markdown",
   "id": "6b5e9ef4",
   "metadata": {},
   "source": [
    "### Algorithm Workbench question 3"
   ]
  },
  {
   "cell_type": "code",
   "execution_count": 7,
   "id": "7fbec9e7",
   "metadata": {},
   "outputs": [],
   "source": [
    "#Look at the following function header:\n",
    "#def my_function(a, b, c):\n",
    "#Now look at the following call to my_function:\n",
    "#my_function(3, 2, 1)\n",
    "#When this call executes, what value will be assigned to a? What value will be assigned to b? What value will be assigned to c?"
   ]
  },
  {
   "cell_type": "markdown",
   "id": "e1fbee74",
   "metadata": {},
   "source": [
    "The number 3 will be assigned to letter a, the number 2 will be assigned to letter b and the number 1 will be assigned to letter c. This is because after they defined the function (a,b,c) they assigned it to the numbers (3,2,1) in that order."
   ]
  },
  {
   "cell_type": "markdown",
   "id": "3084b508",
   "metadata": {},
   "source": [
    "## Programming Questions"
   ]
  },
  {
   "cell_type": "markdown",
   "id": "5a81f90d",
   "metadata": {},
   "source": [
    "Prime question "
   ]
  },
  {
   "cell_type": "code",
   "execution_count": 8,
   "id": "d4ff36e0",
   "metadata": {},
   "outputs": [],
   "source": [
    "def is_prime(num):\n",
    "    for i in range(2,num):\n",
    "        if num % i == 0:\n",
    "            return False\n",
    "        return True "
   ]
  },
  {
   "cell_type": "code",
   "execution_count": 9,
   "id": "c31d114f",
   "metadata": {},
   "outputs": [
    {
     "data": {
      "text/plain": [
       "False"
      ]
     },
     "execution_count": 9,
     "metadata": {},
     "output_type": "execute_result"
    }
   ],
   "source": [
    "is_prime(4)"
   ]
  },
  {
   "cell_type": "code",
   "execution_count": 10,
   "id": "0dba4be4",
   "metadata": {},
   "outputs": [
    {
     "data": {
      "text/plain": [
       "True"
      ]
     },
     "execution_count": 10,
     "metadata": {},
     "output_type": "execute_result"
    }
   ],
   "source": [
    "is_prime(7)"
   ]
  },
  {
   "cell_type": "code",
   "execution_count": 11,
   "id": "f255f3e2",
   "metadata": {},
   "outputs": [],
   "source": [
    "##^^ prime number question from walkthrough video"
   ]
  },
  {
   "cell_type": "markdown",
   "id": "52f7cb57",
   "metadata": {},
   "source": [
    "Prime number List Question"
   ]
  },
  {
   "cell_type": "code",
   "execution_count": 12,
   "id": "5f94cc13",
   "metadata": {},
   "outputs": [],
   "source": [
    "#I am going to use the previous code and add onto it since they are similar. "
   ]
  },
  {
   "cell_type": "code",
   "execution_count": 15,
   "id": "8c0ab801",
   "metadata": {},
   "outputs": [
    {
     "name": "stdout",
     "output_type": "stream",
     "text": [
      "[3, 5, 7, 9, 11, 13, 15, 17, 19, 21, 23, 25, 27, 29, 31, 33, 35, 37, 39, 41, 43, 45, 47, 49, 51, 53, 55, 57, 59, 61, 63, 65, 67, 69, 71, 73, 75, 77, 79, 81, 83, 85, 87, 89, 91, 93, 95, 97, 99]\n"
     ]
    }
   ],
   "source": [
    "def is_prime(num):\n",
    "    for i in range(2,num):\n",
    "        if num % i == 0:\n",
    "            return False\n",
    "        return True\n",
    "#I am going to create a range of numbers from 1-100 since that is what the directions are asking for.\n",
    "#I am going to do the range starting at 2 since 1 is not considered a prime number.\n",
    "prime_number = [num for num in range(2, 101) if is_prime(num)]\n",
    "print(prime_number)"
   ]
  },
  {
   "cell_type": "code",
   "execution_count": 16,
   "id": "c4d56e57",
   "metadata": {},
   "outputs": [],
   "source": [
    "#It worked!"
   ]
  },
  {
   "cell_type": "markdown",
   "id": "5924b745",
   "metadata": {},
   "source": [
    "Question 3 : Many financial experts advise that property owners should insure their homes or buildings for at least 80 percent of the amount it would cost to replace the structure. Write a program that asks the user to enter the replacement cost of a building, then displays the minimum amount of insurance he or she should buy for the property.\n"
   ]
  },
  {
   "cell_type": "code",
   "execution_count": 17,
   "id": "84ebc7da",
   "metadata": {},
   "outputs": [
    {
     "name": "stdout",
     "output_type": "stream",
     "text": [
      "600\n",
      "480.0\n"
     ]
    }
   ],
   "source": [
    "#first I am going to ask the user for the replacement cost \n",
    "replacement_cost = int(input())\n",
    "#next i am going to calculate the minimum insurance by multiplying the cost by 0.8\n",
    "min_insurance = replacement_cost * 0.8\n",
    "#next I have to print the math\n",
    "print(min_insurance)"
   ]
  },
  {
   "cell_type": "code",
   "execution_count": null,
   "id": "3aeac672",
   "metadata": {},
   "outputs": [],
   "source": [
    "#It worked! I forgot to commit this one along the way."
   ]
  }
 ],
 "metadata": {
  "kernelspec": {
   "display_name": "Python 3 (ipykernel)",
   "language": "python",
   "name": "python3"
  },
  "language_info": {
   "codemirror_mode": {
    "name": "ipython",
    "version": 3
   },
   "file_extension": ".py",
   "mimetype": "text/x-python",
   "name": "python",
   "nbconvert_exporter": "python",
   "pygments_lexer": "ipython3",
   "version": "3.11.4"
  }
 },
 "nbformat": 4,
 "nbformat_minor": 5
}
