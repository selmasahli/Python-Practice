{
 "cells": [
  {
   "cell_type": "markdown",
   "id": "93816cae",
   "metadata": {},
   "source": [
    "#Chapter 2 Exercises "
   ]
  },
  {
   "cell_type": "markdown",
   "id": "72fbe4df",
   "metadata": {},
   "source": [
    "# Algorithm Workbench - Number 12 \n",
    "We're presented with a print function call and expected to predict what the output will be."
   ]
  },
  {
   "cell_type": "code",
   "execution_count": null,
   "id": "ea199dc3",
   "metadata": {},
   "outputs": [],
   "source": [
    "print('George','John','Paul','Ringo', sep='@')"
   ]
  },
  {
   "cell_type": "markdown",
   "id": "bb0f2e1b",
   "metadata": {},
   "source": [
    "I believe the output will be the string listed below since the sep'@' takes the space away and substitutes it with the @ symbol"
   ]
  },
  {
   "cell_type": "markdown",
   "id": "bddb4026",
   "metadata": {},
   "source": [
    "George@John@Paul@Ringo"
   ]
  },
  {
   "cell_type": "code",
   "execution_count": 1,
   "id": "272b1ac2",
   "metadata": {},
   "outputs": [
    {
     "name": "stdout",
     "output_type": "stream",
     "text": [
      "George@John@Paul@Ringo\n"
     ]
    }
   ],
   "source": [
    "print('George','John','Paul','Ringo', sep='@')"
   ]
  },
  {
   "cell_type": "markdown",
   "id": "91706945",
   "metadata": {},
   "source": [
    "My prediction was correct!"
   ]
  },
  {
   "cell_type": "markdown",
   "id": "3bf14946",
   "metadata": {},
   "source": [
    "Algorithm Workbench - Number 9 since number 12 was in the walkthrough video. In this problem I am given a print value and expected to give the output. "
   ]
  },
  {
   "cell_type": "code",
   "execution_count": null,
   "id": "20919efe",
   "metadata": {},
   "outputs": [],
   "source": [
    "num = 99\n",
    "num = 5\n",
    "print(num)"
   ]
  },
  {
   "cell_type": "markdown",
   "id": "228e8543",
   "metadata": {},
   "source": [
    "I predict the outcome will be 5 since num was reassigned"
   ]
  },
  {
   "cell_type": "code",
   "execution_count": 2,
   "id": "ffc886b9",
   "metadata": {},
   "outputs": [
    {
     "name": "stdout",
     "output_type": "stream",
     "text": [
      "5\n"
     ]
    }
   ],
   "source": [
    "num = 99\n",
    "num = 5\n",
    "print(num)"
   ]
  },
  {
   "cell_type": "markdown",
   "id": "b903dbbd",
   "metadata": {},
   "source": [
    "My prediction was correct!"
   ]
  },
  {
   "cell_type": "markdown",
   "id": "b32bb938",
   "metadata": {},
   "source": [
    "# Programming Exercises - Number 1"
   ]
  },
  {
   "cell_type": "markdown",
   "id": "3d7a5219",
   "metadata": {},
   "source": [
    "##in this exercise I am asked to write a program that displays my personal information\n",
    "specifically \n",
    "my name   \n",
    "address, with city, state, and ZIP   \n",
    "telephone number   \n",
    "college major    "
   ]
  },
  {
   "cell_type": "markdown",
   "id": "814c6b26",
   "metadata": {},
   "source": [
    "#First I have to assign each variable on a seperate line and then write the variable outside the quotations."
   ]
  },
  {
   "cell_type": "markdown",
   "id": "65c9691b",
   "metadata": {},
   "source": [
    "I predict my code will look like this \n",
    "name = Selma Sahli \n",
    "address = 123 Street East Lansing MI 48823\n",
    "telephone = \"1234567899\"\n",
    "major = marketing\n",
    "print(name)\n",
    "print(address)\n",
    "print(telephone)\n",
    "print(major)"
   ]
  },
  {
   "cell_type": "code",
   "execution_count": 15,
   "id": "0114f4ae",
   "metadata": {},
   "outputs": [
    {
     "name": "stdout",
     "output_type": "stream",
     "text": [
      "name: Selma\n",
      "address: 123 Street East Lansing MI 48823\n",
      "telephone: 1234567899\n",
      "major: marketing\n"
     ]
    }
   ],
   "source": [
    "address = \"123 Street East Lansing MI 48823\"\n",
    "telephone = \"1234567899\"\n",
    "print(\"name:\", name)\n",
    "print(\"address:\", address)\n",
    "print(\"telephone:\", telephone)\n",
    "print(\"major:\", major)"
   ]
  },
  {
   "cell_type": "markdown",
   "id": "672b3bf0",
   "metadata": {},
   "source": [
    "My prediction was wrong because I forgot I could not use spaces."
   ]
  },
  {
   "cell_type": "markdown",
   "id": "dadef37e",
   "metadata": {},
   "source": [
    "I forgot to paste the second half of my code!"
   ]
  },
  {
   "cell_type": "markdown",
   "id": "82ea0b3c",
   "metadata": {},
   "source": [
    "It was incorrect again because I didn't ask the program to input the function. I'm going about this in a different way now. "
   ]
  },
  {
   "cell_type": "markdown",
   "id": "88cc7a93",
   "metadata": {},
   "source": [
    "I can't figure out why it keeps printing the two lines before my program."
   ]
  },
  {
   "cell_type": "markdown",
   "id": "c23854eb",
   "metadata": {},
   "source": [
    "I tried just deleting the name line entirely and it somewhat worked so I'm going to try it with the major part as well."
   ]
  },
  {
   "cell_type": "markdown",
   "id": "e98d3e67",
   "metadata": {},
   "source": [
    "IT WORKED!"
   ]
  },
  {
   "cell_type": "markdown",
   "id": "deb09279",
   "metadata": {},
   "source": [
    "# Program Exercise - number 13 "
   ]
  },
  {
   "cell_type": "code",
   "execution_count": null,
   "id": "ae1434f4",
   "metadata": {},
   "outputs": [],
   "source": [
    "#first I have to ask user to input different amounts for the variables \n",
    "R = int(input('Enter length of the row'))\n",
    "E = int(input('Enter amount of space for end post assembly'))\n",
    "S = int(input('Enter amount of space between vines'))\n",
    "#Now we have to switch the math equation to a math equation we could code\n",
    "#It will be 2 * E and then subract R from that amount and divide by S\n",
    "part1 = (2 * E)\n",
    "part2 = (R - part1)\n",
    "V = (part2 / S)\n"
   ]
  },
  {
   "cell_type": "markdown",
   "id": "ed34631f",
   "metadata": {},
   "source": [
    "I predict this is the code for this exercise"
   ]
  }
 ],
 "metadata": {
  "kernelspec": {
   "display_name": "Python 3 (ipykernel)",
   "language": "python",
   "name": "python3"
  },
  "language_info": {
   "codemirror_mode": {
    "name": "ipython",
    "version": 3
   },
   "file_extension": ".py",
   "mimetype": "text/x-python",
   "name": "python",
   "nbconvert_exporter": "python",
   "pygments_lexer": "ipython3",
   "version": "3.11.4"
  }
 },
 "nbformat": 4,
 "nbformat_minor": 5
}
