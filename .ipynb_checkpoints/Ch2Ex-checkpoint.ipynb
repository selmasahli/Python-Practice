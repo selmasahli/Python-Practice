{
 "cells": [
  {
   "cell_type": "markdown",
   "id": "9ff9650b",
   "metadata": {},
   "source": [
    "#Chapter 2 Exercises "
   ]
  },
  {
   "cell_type": "markdown",
   "id": "b9494e16",
   "metadata": {},
   "source": [
    "# Algorithm Workbench - Number 12 \n",
    "We're presented with a print function call and expected to predict what the output will be."
   ]
  },
  {
   "cell_type": "code",
   "execution_count": null,
   "id": "8a6ca6ed",
   "metadata": {},
   "outputs": [],
   "source": [
    "print('George','John','Paul','Ringo', sep='@')"
   ]
  },
  {
   "cell_type": "markdown",
   "id": "f7d672e9",
   "metadata": {},
   "source": [
    "I believe the output will be the string listed below since the sep'@' takes the space away and substitutes it with the @ symbol"
   ]
  },
  {
   "cell_type": "markdown",
   "id": "8fab67a1",
   "metadata": {},
   "source": [
    "George@John@Paul@Ringo"
   ]
  },
  {
   "cell_type": "code",
   "execution_count": 1,
   "id": "dc88f2f4",
   "metadata": {},
   "outputs": [
    {
     "name": "stdout",
     "output_type": "stream",
     "text": [
      "George@John@Paul@Ringo\n"
     ]
    }
   ],
   "source": [
    "print('George','John','Paul','Ringo', sep='@')"
   ]
  },
  {
   "cell_type": "markdown",
   "id": "7c192cbe",
   "metadata": {},
   "source": [
    "My prediction was correct!"
   ]
  },
  {
   "cell_type": "markdown",
   "id": "276bc389",
   "metadata": {},
   "source": [
    "Algorithm Workbench - Number 9 since number 12 was in the walkthrough video. In this problem I am given a print value and expected to give the output. "
   ]
  },
  {
   "cell_type": "code",
   "execution_count": null,
   "id": "cd3639ea",
   "metadata": {},
   "outputs": [],
   "source": [
    "num = 99\n",
    "num = 5\n",
    "print(num)"
   ]
  },
  {
   "cell_type": "markdown",
   "id": "4c4bde89",
   "metadata": {},
   "source": [
    "I predict the outcome will be 5 since num was reassigned"
   ]
  },
  {
   "cell_type": "code",
   "execution_count": 2,
   "id": "7ba11d4f",
   "metadata": {},
   "outputs": [
    {
     "name": "stdout",
     "output_type": "stream",
     "text": [
      "5\n"
     ]
    }
   ],
   "source": [
    "num = 99\n",
    "num = 5\n",
    "print(num)"
   ]
  },
  {
   "cell_type": "markdown",
   "id": "40d11902",
   "metadata": {},
   "source": [
    "My prediction was correct!"
   ]
  },
  {
   "cell_type": "markdown",
   "id": "dfb344f1",
   "metadata": {},
   "source": [
    "# Programming Exercises - Number 1"
   ]
  },
  {
   "cell_type": "markdown",
   "id": "66cf81f5",
   "metadata": {},
   "source": [
    "##in this exercise I am asked to write a program that displays my personal information\n",
    "specifically \n",
    "my name   \n",
    "address, with city, state, and ZIP   \n",
    "telephone number   \n",
    "college major    "
   ]
  },
  {
   "cell_type": "markdown",
   "id": "0a657d1f",
   "metadata": {},
   "source": [
    "#First I have to assign each variable on a seperate line and then write the variable outside the quotations."
   ]
  },
  {
   "cell_type": "markdown",
   "id": "de9906d2",
   "metadata": {},
   "source": [
    "I predict my code will look like this \n",
    "name = Selma Sahli \n",
    "address = 123 Street East Lansing MI 48823\n",
    "telephone = \"1234567899\"\n",
    "major = marketing\n",
    "print(name)\n",
    "print(address)\n",
    "print(telephone)\n",
    "print(major)"
   ]
  },
  {
   "cell_type": "code",
   "execution_count": 15,
   "id": "e907c414",
   "metadata": {},
   "outputs": [
    {
     "name": "stdout",
     "output_type": "stream",
     "text": [
      "name: Selma\n",
      "address: 123 Street East Lansing MI 48823\n",
      "telephone: 1234567899\n",
      "major: marketing\n"
     ]
    }
   ],
   "source": [
    "address = \"123 Street East Lansing MI 48823\"\n",
    "telephone = \"1234567899\"\n",
    "print(\"name:\", name)\n",
    "print(\"address:\", address)\n",
    "print(\"telephone:\", telephone)\n",
    "print(\"major:\", major)"
   ]
  },
  {
   "cell_type": "markdown",
   "id": "ba9e28d9",
   "metadata": {},
   "source": [
    "My prediction was wrong because I forgot I could not use spaces."
   ]
  },
  {
   "cell_type": "markdown",
   "id": "463c8eed",
   "metadata": {},
   "source": [
    "I forgot to paste the second half of my code!"
   ]
  },
  {
   "cell_type": "markdown",
   "id": "186c676d",
   "metadata": {},
   "source": [
    "It was incorrect again because I didn't ask the program to input the function. I'm going about this in a different way now. "
   ]
  },
  {
   "cell_type": "markdown",
   "id": "e43765d2",
   "metadata": {},
   "source": [
    "I can't figure out why it keeps printing the two lines before my program."
   ]
  },
  {
   "cell_type": "markdown",
   "id": "5768bfef",
   "metadata": {},
   "source": [
    "I tried just deleting the name line entirely and it somewhat worked so I'm going to try it with the major part as well."
   ]
  },
  {
   "cell_type": "markdown",
   "id": "7ed2ab63",
   "metadata": {},
   "source": [
    "IT WORKED!"
   ]
  },
  {
   "cell_type": "markdown",
   "id": "059f09da",
   "metadata": {},
   "source": [
    "# Program Exercise - number 13 "
   ]
  },
  {
   "cell_type": "code",
   "execution_count": 18,
   "id": "f270d1b5",
   "metadata": {},
   "outputs": [
    {
     "name": "stdout",
     "output_type": "stream",
     "text": [
      "Enter length of the row: 20\n",
      "Enter amount of space for end post assembly: 10\n",
      "Enter amount of space between vines: 5\n",
      "0.0\n"
     ]
    }
   ],
   "source": [
    "#first I have to ask user to input different amounts for the variables \n",
    "R = int(input('Enter length of the row: '))\n",
    "E = int(input('Enter amount of space for end post assembly: '))\n",
    "S = int(input('Enter amount of space between vines: '))\n",
    "#Now we have to switch the math equation to a math equation we could code\n",
    "#It will be 2 * E and then subract R from that amount and divide by S\n",
    "part1 = (2 * E)\n",
    "part2 = (R - part1)\n",
    "V = (part2 / S)\n",
    "print(V)\n"
   ]
  },
  {
   "cell_type": "markdown",
   "id": "84fa8dea",
   "metadata": {},
   "source": [
    "I predict this is the code for this exercise"
   ]
  },
  {
   "cell_type": "markdown",
   "id": "d6b6ebac",
   "metadata": {},
   "source": [
    "It worked!"
   ]
  },
  {
   "cell_type": "code",
   "execution_count": null,
   "id": "8353b872",
   "metadata": {},
   "outputs": [],
   "source": []
  }
 ],
 "metadata": {
  "kernelspec": {
   "display_name": "Python 3 (ipykernel)",
   "language": "python",
   "name": "python3"
  },
  "language_info": {
   "codemirror_mode": {
    "name": "ipython",
    "version": 3
   },
   "file_extension": ".py",
   "mimetype": "text/x-python",
   "name": "python",
   "nbconvert_exporter": "python",
   "pygments_lexer": "ipython3",
   "version": "3.11.4"
  }
 },
 "nbformat": 4,
 "nbformat_minor": 5
}
