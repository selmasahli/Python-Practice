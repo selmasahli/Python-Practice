{
 "cells": [
  {
   "cell_type": "markdown",
   "id": "32458b53",
   "metadata": {},
   "source": [
    "#Chapter 2 Exercises "
   ]
  },
  {
   "cell_type": "markdown",
   "id": "b3633858",
   "metadata": {},
   "source": [
    "# Algorithm Workbench - Number 12 \n",
    "We're presented with a print function call and expected to predict what the output will be."
   ]
  },
  {
   "cell_type": "code",
   "execution_count": null,
   "id": "b36ba951",
   "metadata": {},
   "outputs": [],
   "source": [
    "print('George','John','Paul','Ringo', sep='@')"
   ]
  },
  {
   "cell_type": "markdown",
   "id": "0ed3e7c2",
   "metadata": {},
   "source": [
    "I believe the output will be the string listed below since the sep'@' takes the space away and substitutes it with the @ symbol"
   ]
  },
  {
   "cell_type": "markdown",
   "id": "31a56c89",
   "metadata": {},
   "source": [
    "George@John@Paul@Ringo"
   ]
  },
  {
   "cell_type": "code",
   "execution_count": 1,
   "id": "ef67b073",
   "metadata": {},
   "outputs": [
    {
     "name": "stdout",
     "output_type": "stream",
     "text": [
      "George@John@Paul@Ringo\n"
     ]
    }
   ],
   "source": [
    "print('George','John','Paul','Ringo', sep='@')"
   ]
  },
  {
   "cell_type": "markdown",
   "id": "03eeacce",
   "metadata": {},
   "source": [
    "My prediction was correct!"
   ]
  },
  {
   "cell_type": "markdown",
   "id": "51950d5e",
   "metadata": {},
   "source": [
    "Algorithm Workbench - Number 9 since number 12 was in the walkthrough video. In this problem I am given a print value and expected to give the output. "
   ]
  },
  {
   "cell_type": "code",
   "execution_count": null,
   "id": "b3c44823",
   "metadata": {},
   "outputs": [],
   "source": [
    "num = 99\n",
    "num = 5\n",
    "print(num)"
   ]
  },
  {
   "cell_type": "markdown",
   "id": "6afa2ce7",
   "metadata": {},
   "source": [
    "I predict the outcome will be 5 since num was reassigned"
   ]
  },
  {
   "cell_type": "code",
   "execution_count": 2,
   "id": "de9c61bc",
   "metadata": {},
   "outputs": [
    {
     "name": "stdout",
     "output_type": "stream",
     "text": [
      "5\n"
     ]
    }
   ],
   "source": [
    "num = 99\n",
    "num = 5\n",
    "print(num)"
   ]
  },
  {
   "cell_type": "markdown",
   "id": "1334eed6",
   "metadata": {},
   "source": [
    "My prediction was correct!"
   ]
  },
  {
   "cell_type": "markdown",
   "id": "08c8cd30",
   "metadata": {},
   "source": [
    "# Programming Exercises - Number 1"
   ]
  },
  {
   "cell_type": "markdown",
   "id": "44b9e683",
   "metadata": {},
   "source": [
    "##in this exercise I am asked to write a program that displays my personal information\n",
    "specifically \n",
    "my name   \n",
    "address, with city, state, and ZIP   \n",
    "telephone number   \n",
    "college major    "
   ]
  },
  {
   "cell_type": "markdown",
   "id": "cb60a66a",
   "metadata": {},
   "source": [
    "#First I have to assign each variable on a seperate line and then write the variable outside the quotations."
   ]
  },
  {
   "cell_type": "markdown",
   "id": "e7df28db",
   "metadata": {},
   "source": [
    "I predict my code will look like this \n",
    "name = Selma Sahli \n",
    "address = 123 Street East Lansing MI 48823\n",
    "telephone = \"1234567899\"\n",
    "major = marketing\n",
    "print(name)\n",
    "print(address)\n",
    "print(telephone)\n",
    "print(major)"
   ]
  },
  {
   "cell_type": "code",
   "execution_count": 3,
   "id": "52a34d19",
   "metadata": {},
   "outputs": [
    {
     "ename": "SyntaxError",
     "evalue": "invalid syntax (3052195359.py, line 1)",
     "output_type": "error",
     "traceback": [
      "\u001b[0;36m  Cell \u001b[0;32mIn[3], line 1\u001b[0;36m\u001b[0m\n\u001b[0;31m    name = Selma Sahli\u001b[0m\n\u001b[0m                 ^\u001b[0m\n\u001b[0;31mSyntaxError\u001b[0m\u001b[0;31m:\u001b[0m invalid syntax\n"
     ]
    }
   ],
   "source": [
    "name = ('Selma', 'Sahli' end' ') \n",
    "address = \"123 Street East Lansing MI 48823\"\n",
    "telephone = \"1234567899\"\n",
    "major = marketing\n",
    "print(name)\n",
    "print(address)\n",
    "print(telephone)\n",
    "print(major)"
   ]
  },
  {
   "cell_type": "markdown",
   "id": "05498080",
   "metadata": {},
   "source": [
    "My prediction was wrong because I forgot I could not use spaces"
   ]
  }
 ],
 "metadata": {
  "kernelspec": {
   "display_name": "Python 3 (ipykernel)",
   "language": "python",
   "name": "python3"
  },
  "language_info": {
   "codemirror_mode": {
    "name": "ipython",
    "version": 3
   },
   "file_extension": ".py",
   "mimetype": "text/x-python",
   "name": "python",
   "nbconvert_exporter": "python",
   "pygments_lexer": "ipython3",
   "version": "3.11.4"
  }
 },
 "nbformat": 4,
 "nbformat_minor": 5
}
