{
 "cells": [
  {
   "cell_type": "markdown",
   "id": "188ce802",
   "metadata": {},
   "source": [
    "#Chapter 2 Exercises "
   ]
  },
  {
   "cell_type": "markdown",
   "id": "67364eb6",
   "metadata": {},
   "source": [
    "# Algorithm Workbench - Number 12 \n",
    "We're presented with a print function call and expected to predict what the output will be."
   ]
  },
  {
   "cell_type": "code",
   "execution_count": null,
   "id": "cbd9e304",
   "metadata": {},
   "outputs": [],
   "source": [
    "print('George','John','Paul','Ringo', sep='@')"
   ]
  },
  {
   "cell_type": "markdown",
   "id": "ba4197e3",
   "metadata": {},
   "source": [
    "I believe the output will be the string listed below since the sep'@' takes the space away and substitutes it with the @ symbol"
   ]
  },
  {
   "cell_type": "markdown",
   "id": "29520989",
   "metadata": {},
   "source": [
    "George@John@Paul@Ringo"
   ]
  },
  {
   "cell_type": "code",
   "execution_count": 1,
   "id": "df31222f",
   "metadata": {},
   "outputs": [
    {
     "name": "stdout",
     "output_type": "stream",
     "text": [
      "George@John@Paul@Ringo\n"
     ]
    }
   ],
   "source": [
    "print('George','John','Paul','Ringo', sep='@')"
   ]
  },
  {
   "cell_type": "markdown",
   "id": "32f0f1ad",
   "metadata": {},
   "source": [
    "My prediction was correct!"
   ]
  },
  {
   "cell_type": "markdown",
   "id": "ead31d84",
   "metadata": {},
   "source": [
    "Algorithm Workbench - Number 9 since number 12 was in the walkthrough video. In this problem I am given a print value and expected to give the output. "
   ]
  },
  {
   "cell_type": "code",
   "execution_count": null,
   "id": "b02e309a",
   "metadata": {},
   "outputs": [],
   "source": [
    "num = 99\n",
    "num = 5\n",
    "print(num)"
   ]
  },
  {
   "cell_type": "markdown",
   "id": "9d49a82a",
   "metadata": {},
   "source": [
    "I predict the outcome will be 5 since num was reassigned"
   ]
  },
  {
   "cell_type": "code",
   "execution_count": 2,
   "id": "8e9e4c96",
   "metadata": {},
   "outputs": [
    {
     "name": "stdout",
     "output_type": "stream",
     "text": [
      "5\n"
     ]
    }
   ],
   "source": [
    "num = 99\n",
    "num = 5\n",
    "print(num)"
   ]
  },
  {
   "cell_type": "markdown",
   "id": "4e754f10",
   "metadata": {},
   "source": [
    "My prediction was correct!"
   ]
  },
  {
   "cell_type": "markdown",
   "id": "fde9c7cb",
   "metadata": {},
   "source": [
    "# Programming Exercises - Number 1"
   ]
  },
  {
   "cell_type": "markdown",
   "id": "4a6394e7",
   "metadata": {},
   "source": [
    "##in this exercise I am asked to write a program that displays my personal information\n",
    "specifically \n",
    "my name   \n",
    "address, with city, state, and ZIP   \n",
    "telephone number   \n",
    "college major    "
   ]
  },
  {
   "cell_type": "markdown",
   "id": "a58e31d7",
   "metadata": {},
   "source": [
    "#First I have to assign each variable on a seperate line and then write the variable outside the quotations."
   ]
  },
  {
   "cell_type": "markdown",
   "id": "bd367ba9",
   "metadata": {},
   "source": [
    "I predict my code will look like this \n",
    "name = Selma Sahli \n",
    "address = 123 Street East Lansing MI 48823\n",
    "telephone = \"1234567899\"\n",
    "major = marketing\n",
    "print(name)\n",
    "print(address)\n",
    "print(telephone)\n",
    "print(major)"
   ]
  },
  {
   "cell_type": "code",
   "execution_count": null,
   "id": "e815867f",
   "metadata": {},
   "outputs": [],
   "source": []
  }
 ],
 "metadata": {
  "kernelspec": {
   "display_name": "Python 3 (ipykernel)",
   "language": "python",
   "name": "python3"
  },
  "language_info": {
   "codemirror_mode": {
    "name": "ipython",
    "version": 3
   },
   "file_extension": ".py",
   "mimetype": "text/x-python",
   "name": "python",
   "nbconvert_exporter": "python",
   "pygments_lexer": "ipython3",
   "version": "3.11.4"
  }
 },
 "nbformat": 4,
 "nbformat_minor": 5
}
