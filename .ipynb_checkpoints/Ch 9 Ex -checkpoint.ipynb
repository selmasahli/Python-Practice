{
 "cells": [
  {
   "cell_type": "code",
   "execution_count": 5,
   "id": "1270fed0",
   "metadata": {},
   "outputs": [
    {
     "ename": "FileNotFoundError",
     "evalue": "[Errno 2] No such file or directory: 'some_text.txt'",
     "output_type": "error",
     "traceback": [
      "\u001b[0;31m---------------------------------------------------------------------------\u001b[0m",
      "\u001b[0;31mFileNotFoundError\u001b[0m                         Traceback (most recent call last)",
      "Cell \u001b[0;32mIn[5], line 29\u001b[0m\n\u001b[1;32m     27\u001b[0m         \u001b[38;5;28mprint\u001b[39m(\u001b[38;5;124mf\u001b[39m\u001b[38;5;124m\"\u001b[39m\u001b[38;5;132;01m{\u001b[39;00mword\u001b[38;5;132;01m}\u001b[39;00m\u001b[38;5;124m: \u001b[39m\u001b[38;5;132;01m{\u001b[39;00mcount\u001b[38;5;132;01m}\u001b[39;00m\u001b[38;5;124m\"\u001b[39m)\n\u001b[1;32m     28\u001b[0m \u001b[38;5;66;03m# everything starts here \u001b[39;00m\n\u001b[0;32m---> 29\u001b[0m main(\u001b[38;5;124m\"\u001b[39m\u001b[38;5;124msome_text.txt\u001b[39m\u001b[38;5;124m\"\u001b[39m)\n",
      "Cell \u001b[0;32mIn[5], line 19\u001b[0m, in \u001b[0;36mmain\u001b[0;34m(file_name)\u001b[0m\n\u001b[1;32m     17\u001b[0m string_contents \u001b[38;5;241m=\u001b[39m \u001b[38;5;124m'\u001b[39m\u001b[38;5;124m'\u001b[39m\n\u001b[1;32m     18\u001b[0m \u001b[38;5;66;03m# i have to use the with statement in order to automatically close a file\u001b[39;00m\n\u001b[0;32m---> 19\u001b[0m \u001b[38;5;28;01mwith\u001b[39;00m \u001b[38;5;28mopen\u001b[39m(file_name, \u001b[38;5;124m\"\u001b[39m\u001b[38;5;124mr\u001b[39m\u001b[38;5;124m\"\u001b[39m) \u001b[38;5;28;01mas\u001b[39;00m file:\n\u001b[1;32m     20\u001b[0m     \u001b[38;5;66;03m#We labled it as a read file since we aren't changing it in any way\u001b[39;00m\n\u001b[1;32m     21\u001b[0m     string_contents \u001b[38;5;241m=\u001b[39m file\u001b[38;5;241m.\u001b[39mread()\n\u001b[1;32m     22\u001b[0m word_list \u001b[38;5;241m=\u001b[39m wordcount\u001b[38;5;241m.\u001b[39mget_words_list(string_contents)\n",
      "File \u001b[0;32m~/anaconda3/lib/python3.11/site-packages/IPython/core/interactiveshell.py:284\u001b[0m, in \u001b[0;36m_modified_open\u001b[0;34m(file, *args, **kwargs)\u001b[0m\n\u001b[1;32m    277\u001b[0m \u001b[38;5;28;01mif\u001b[39;00m file \u001b[38;5;129;01min\u001b[39;00m {\u001b[38;5;241m0\u001b[39m, \u001b[38;5;241m1\u001b[39m, \u001b[38;5;241m2\u001b[39m}:\n\u001b[1;32m    278\u001b[0m     \u001b[38;5;28;01mraise\u001b[39;00m \u001b[38;5;167;01mValueError\u001b[39;00m(\n\u001b[1;32m    279\u001b[0m         \u001b[38;5;124mf\u001b[39m\u001b[38;5;124m\"\u001b[39m\u001b[38;5;124mIPython won\u001b[39m\u001b[38;5;124m'\u001b[39m\u001b[38;5;124mt let you open fd=\u001b[39m\u001b[38;5;132;01m{\u001b[39;00mfile\u001b[38;5;132;01m}\u001b[39;00m\u001b[38;5;124m by default \u001b[39m\u001b[38;5;124m\"\u001b[39m\n\u001b[1;32m    280\u001b[0m         \u001b[38;5;124m\"\u001b[39m\u001b[38;5;124mas it is likely to crash IPython. If you know what you are doing, \u001b[39m\u001b[38;5;124m\"\u001b[39m\n\u001b[1;32m    281\u001b[0m         \u001b[38;5;124m\"\u001b[39m\u001b[38;5;124myou can use builtins\u001b[39m\u001b[38;5;124m'\u001b[39m\u001b[38;5;124m open.\u001b[39m\u001b[38;5;124m\"\u001b[39m\n\u001b[1;32m    282\u001b[0m     )\n\u001b[0;32m--> 284\u001b[0m \u001b[38;5;28;01mreturn\u001b[39;00m io_open(file, \u001b[38;5;241m*\u001b[39margs, \u001b[38;5;241m*\u001b[39m\u001b[38;5;241m*\u001b[39mkwargs)\n",
      "\u001b[0;31mFileNotFoundError\u001b[0m: [Errno 2] No such file or directory: 'some_text.txt'"
     ]
    }
   ],
   "source": [
    "\n",
    "def main(file_name):\n",
    "    string_contents = ''\n",
    "    # i have to use the with statement in order to automatically close a file\n",
    "    with open(file_name, \"r\") as file:\n",
    "        #We labled it as a read file since we aren't changing it in any way\n",
    "        string_contents = file.read()\n",
    "    word_list = wordcount.get_words_list(string_contents)\n",
    "    #i have to now call functions to see how mnay word counts are in the string\n",
    "    word_count = wordcount.get_counts(word_list)\n",
    "    #now I have to loop it through the count and print them \n",
    "    for word, count in word_counts.items():\n",
    "        print(f\"{word}: {count}\")\n",
    "# everything starts here \n",
    "main(\"some_text.txt\")\n",
    "# now I'm going to diagram using a flowchart \n",
    "# i followed the walkthrough video so I'm not sure how anything is incorrect\n"
   ]
  },
  {
   "cell_type": "code",
   "execution_count": null,
   "id": "6194eeb5",
   "metadata": {},
   "outputs": [],
   "source": [
    "def get_words_list(string):\n",
    "    word_list = string.split()\n",
    "    return word_list\n",
    "\n",
    "def get_counts(word_list):\n",
    "    word_counts = dict()\n",
    "    \n",
    "    for word in word_list:\n",
    "        if not word in word_counts:\n",
    "            #equal it to 1\n",
    "            word_counts[word] = 1\n",
    "            #if else statement \n",
    "        else:\n",
    "                word_counts[word] += 1\n",
    "    return word_counts"
   ]
  }
 ],
 "metadata": {
  "kernelspec": {
   "display_name": "Python 3 (ipykernel)",
   "language": "python",
   "name": "python3"
  },
  "language_info": {
   "codemirror_mode": {
    "name": "ipython",
    "version": 3
   },
   "file_extension": ".py",
   "mimetype": "text/x-python",
   "name": "python",
   "nbconvert_exporter": "python",
   "pygments_lexer": "ipython3",
   "version": "3.11.4"
  }
 },
 "nbformat": 4,
 "nbformat_minor": 5
}
