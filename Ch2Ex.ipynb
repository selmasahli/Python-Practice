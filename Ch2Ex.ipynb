{
 "cells": [
  {
   "cell_type": "markdown",
   "id": "c4a67508",
   "metadata": {},
   "source": [
    "#Chapter 2 Exercises "
   ]
  },
  {
   "cell_type": "markdown",
   "id": "0b6781df",
   "metadata": {},
   "source": [
    "# Algorithm Workbench - Number 12 \n",
    "We're presented with a print function call and expected to predict what the output will be."
   ]
  },
  {
   "cell_type": "code",
   "execution_count": null,
   "id": "b165e495",
   "metadata": {},
   "outputs": [],
   "source": [
    "print('George','John','Paul','Ringo', sep='@')"
   ]
  },
  {
   "cell_type": "markdown",
   "id": "30b06416",
   "metadata": {},
   "source": [
    "I believe the output will be the string listed below since the sep'@' takes the space away and substitutes it with the @ symbol"
   ]
  },
  {
   "cell_type": "markdown",
   "id": "d2b0bbd8",
   "metadata": {},
   "source": [
    "George@John@Paul@Ringo"
   ]
  },
  {
   "cell_type": "code",
   "execution_count": 1,
   "id": "4c33a92a",
   "metadata": {},
   "outputs": [
    {
     "name": "stdout",
     "output_type": "stream",
     "text": [
      "George@John@Paul@Ringo\n"
     ]
    }
   ],
   "source": [
    "print('George','John','Paul','Ringo', sep='@')"
   ]
  },
  {
   "cell_type": "markdown",
   "id": "5de3ed27",
   "metadata": {},
   "source": [
    "My prediction was correct!"
   ]
  },
  {
   "cell_type": "markdown",
   "id": "9e42ec4f",
   "metadata": {},
   "source": [
    "Algorithm Workbench - Number 9 since number 12 was in the walkthrough video. In this problem I am given a print value and expected to give the output. "
   ]
  },
  {
   "cell_type": "code",
   "execution_count": null,
   "id": "f1e068d7",
   "metadata": {},
   "outputs": [],
   "source": [
    "num = 99\n",
    "num = 5\n",
    "print(num)"
   ]
  },
  {
   "cell_type": "markdown",
   "id": "246cefba",
   "metadata": {},
   "source": [
    "I predict the outcome will be 5 since num was reassigned"
   ]
  },
  {
   "cell_type": "code",
   "execution_count": 2,
   "id": "36fdc794",
   "metadata": {},
   "outputs": [
    {
     "name": "stdout",
     "output_type": "stream",
     "text": [
      "5\n"
     ]
    }
   ],
   "source": [
    "num = 99\n",
    "num = 5\n",
    "print(num)"
   ]
  },
  {
   "cell_type": "markdown",
   "id": "be3bfbad",
   "metadata": {},
   "source": [
    "My prediction was correct!"
   ]
  },
  {
   "cell_type": "markdown",
   "id": "3635a708",
   "metadata": {},
   "source": [
    "# Programming Exercises - Number 1"
   ]
  },
  {
   "cell_type": "markdown",
   "id": "518e7a99",
   "metadata": {},
   "source": [
    "##in this exercise I am asked to write a program that displays my personal information\n",
    "specifically \n",
    "my name   \n",
    "address, with city, state, and ZIP   \n",
    "telephone number   \n",
    "college major    "
   ]
  },
  {
   "cell_type": "markdown",
   "id": "50ef1f73",
   "metadata": {},
   "source": [
    "#First I have to assign each variable on a seperate line and then write the variable outside the quotations."
   ]
  },
  {
   "cell_type": "markdown",
   "id": "e14f450d",
   "metadata": {},
   "source": [
    "I predict my code will look like this \n",
    "name = Selma Sahli \n",
    "address = 123 Street East Lansing MI 48823\n",
    "telephone = \"1234567899\"\n",
    "major = marketing\n",
    "print(name)\n",
    "print(address)\n",
    "print(telephone)\n",
    "print(major)"
   ]
  },
  {
   "cell_type": "code",
   "execution_count": 15,
   "id": "949781fd",
   "metadata": {},
   "outputs": [
    {
     "name": "stdout",
     "output_type": "stream",
     "text": [
      "name: Selma\n",
      "address: 123 Street East Lansing MI 48823\n",
      "telephone: 1234567899\n",
      "major: marketing\n"
     ]
    }
   ],
   "source": [
    "address = \"123 Street East Lansing MI 48823\"\n",
    "telephone = \"1234567899\"\n",
    "print(\"name:\", name)\n",
    "print(\"address:\", address)\n",
    "print(\"telephone:\", telephone)\n",
    "print(\"major:\", major)"
   ]
  },
  {
   "cell_type": "markdown",
   "id": "299460d8",
   "metadata": {},
   "source": [
    "My prediction was wrong because I forgot I could not use spaces."
   ]
  },
  {
   "cell_type": "markdown",
   "id": "d9f1de7a",
   "metadata": {},
   "source": [
    "I forgot to paste the second half of my code!"
   ]
  },
  {
   "cell_type": "markdown",
   "id": "ff41106c",
   "metadata": {},
   "source": [
    "It was incorrect again because I didn't ask the program to input the function. I'm going about this in a different way now. "
   ]
  },
  {
   "cell_type": "markdown",
   "id": "a6f7bdd6",
   "metadata": {},
   "source": [
    "I can't figure out why it keeps printing the two lines before my program."
   ]
  },
  {
   "cell_type": "markdown",
   "id": "ffc284b3",
   "metadata": {},
   "source": [
    "I tried just deleting the name line entirely and it somewhat worked so I'm going to try it with the major part as well."
   ]
  },
  {
   "cell_type": "markdown",
   "id": "60301190",
   "metadata": {},
   "source": [
    "IT WORKED!"
   ]
  },
  {
   "cell_type": "code",
   "execution_count": null,
   "id": "8e02670c",
   "metadata": {},
   "outputs": [],
   "source": []
  }
 ],
 "metadata": {
  "kernelspec": {
   "display_name": "Python 3 (ipykernel)",
   "language": "python",
   "name": "python3"
  },
  "language_info": {
   "codemirror_mode": {
    "name": "ipython",
    "version": 3
   },
   "file_extension": ".py",
   "mimetype": "text/x-python",
   "name": "python",
   "nbconvert_exporter": "python",
   "pygments_lexer": "ipython3",
   "version": "3.11.4"
  }
 },
 "nbformat": 4,
 "nbformat_minor": 5
}
