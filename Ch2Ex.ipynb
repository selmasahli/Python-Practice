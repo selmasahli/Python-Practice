{
 "cells": [
  {
   "cell_type": "markdown",
   "id": "c73bae68",
   "metadata": {},
   "source": [
    "#Chapter 2 Exercises "
   ]
  },
  {
   "cell_type": "markdown",
   "id": "36175d01",
   "metadata": {},
   "source": [
    "##Algorithm Workbench - Number 12 \n",
    "We're presented with a print function call and expected to predict what the output will be."
   ]
  },
  {
   "cell_type": "code",
   "execution_count": null,
   "id": "0b12e59a",
   "metadata": {},
   "outputs": [],
   "source": [
    "print('George','John','Paul','Ringo', sep='@')"
   ]
  },
  {
   "cell_type": "markdown",
   "id": "515e5250",
   "metadata": {},
   "source": [
    "I believe the output will be the string listed below since the sep'@' takes the space away and substitutes it with the @ symbol"
   ]
  },
  {
   "cell_type": "markdown",
   "id": "f8504b86",
   "metadata": {},
   "source": [
    "George@John@Paul@Ringo"
   ]
  },
  {
   "cell_type": "code",
   "execution_count": 1,
   "id": "a4f00292",
   "metadata": {},
   "outputs": [
    {
     "name": "stdout",
     "output_type": "stream",
     "text": [
      "George@John@Paul@Ringo\n"
     ]
    }
   ],
   "source": [
    "print('George','John','Paul','Ringo', sep='@')"
   ]
  },
  {
   "cell_type": "markdown",
   "id": "74594567",
   "metadata": {},
   "source": [
    "My prediction was correct!"
   ]
  },
  {
   "cell_type": "markdown",
   "id": "75c81de4",
   "metadata": {},
   "source": [
    "Algorithm Workbench - Number 9 since number 12 was in the walkthrough video. In this problem I am given a print value and expected to give the output. "
   ]
  },
  {
   "cell_type": "code",
   "execution_count": null,
   "id": "27224eec",
   "metadata": {},
   "outputs": [],
   "source": [
    "num = 99\n",
    "num = 5\n",
    "print(num)"
   ]
  },
  {
   "cell_type": "markdown",
   "id": "bd748a05",
   "metadata": {},
   "source": [
    "I predict the outcome will be 5 since num was reassigned"
   ]
  },
  {
   "cell_type": "code",
   "execution_count": 2,
   "id": "8c13bbe2",
   "metadata": {},
   "outputs": [
    {
     "name": "stdout",
     "output_type": "stream",
     "text": [
      "5\n"
     ]
    }
   ],
   "source": [
    "num = 99\n",
    "num = 5\n",
    "print(num)"
   ]
  },
  {
   "cell_type": "markdown",
   "id": "b38d1703",
   "metadata": {},
   "source": [
    "My prediction was correct!"
   ]
  }
 ],
 "metadata": {
  "kernelspec": {
   "display_name": "Python 3 (ipykernel)",
   "language": "python",
   "name": "python3"
  },
  "language_info": {
   "codemirror_mode": {
    "name": "ipython",
    "version": 3
   },
   "file_extension": ".py",
   "mimetype": "text/x-python",
   "name": "python",
   "nbconvert_exporter": "python",
   "pygments_lexer": "ipython3",
   "version": "3.11.4"
  }
 },
 "nbformat": 4,
 "nbformat_minor": 5
}
