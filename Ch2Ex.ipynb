{
 "cells": [
  {
   "cell_type": "markdown",
   "id": "9153a74d",
   "metadata": {},
   "source": [
    "#Chapter 2 Exercises "
   ]
  },
  {
   "cell_type": "markdown",
   "id": "b1f4a87c",
   "metadata": {},
   "source": [
    "##Algorithm Workbench - Number 12 \n",
    "We're presented with a print function call and expected to predict what the output will be."
   ]
  },
  {
   "cell_type": "code",
   "execution_count": null,
   "id": "3c522f0b",
   "metadata": {},
   "outputs": [],
   "source": [
    "print('George','John','Paul','Ringo', sep='@')"
   ]
  },
  {
   "cell_type": "markdown",
   "id": "39f179e0",
   "metadata": {},
   "source": [
    "I believe the output will be the string listed below since the sep'@' takes the space away and substitutes it with the @ symbol"
   ]
  },
  {
   "cell_type": "markdown",
   "id": "cf172285",
   "metadata": {},
   "source": [
    "George@John@Paul@Ringo"
   ]
  },
  {
   "cell_type": "code",
   "execution_count": null,
   "id": "3331ab9e",
   "metadata": {},
   "outputs": [],
   "source": []
  }
 ],
 "metadata": {
  "kernelspec": {
   "display_name": "Python 3 (ipykernel)",
   "language": "python",
   "name": "python3"
  },
  "language_info": {
   "codemirror_mode": {
    "name": "ipython",
    "version": 3
   },
   "file_extension": ".py",
   "mimetype": "text/x-python",
   "name": "python",
   "nbconvert_exporter": "python",
   "pygments_lexer": "ipython3",
   "version": "3.11.4"
  }
 },
 "nbformat": 4,
 "nbformat_minor": 5
}
