{
 "cells": [
  {
   "cell_type": "markdown",
   "id": "7a5b0261",
   "metadata": {},
   "source": [
    "#Chapter 2 Exercises "
   ]
  },
  {
   "cell_type": "markdown",
   "id": "16a12b3e",
   "metadata": {},
   "source": [
    "# Algorithm Workbench - Number 12 \n",
    "We're presented with a print function call and expected to predict what the output will be."
   ]
  },
  {
   "cell_type": "code",
   "execution_count": null,
   "id": "3ac26ba3",
   "metadata": {},
   "outputs": [],
   "source": [
    "print('George','John','Paul','Ringo', sep='@')"
   ]
  },
  {
   "cell_type": "markdown",
   "id": "50a2534e",
   "metadata": {},
   "source": [
    "I believe the output will be the string listed below since the sep'@' takes the space away and substitutes it with the @ symbol"
   ]
  },
  {
   "cell_type": "markdown",
   "id": "f2795339",
   "metadata": {},
   "source": [
    "George@John@Paul@Ringo"
   ]
  },
  {
   "cell_type": "code",
   "execution_count": 1,
   "id": "e1e69902",
   "metadata": {},
   "outputs": [
    {
     "name": "stdout",
     "output_type": "stream",
     "text": [
      "George@John@Paul@Ringo\n"
     ]
    }
   ],
   "source": [
    "print('George','John','Paul','Ringo', sep='@')"
   ]
  },
  {
   "cell_type": "markdown",
   "id": "0ee852a9",
   "metadata": {},
   "source": [
    "My prediction was correct!"
   ]
  },
  {
   "cell_type": "markdown",
   "id": "9d80cc8f",
   "metadata": {},
   "source": [
    "Algorithm Workbench - Number 9 since number 12 was in the walkthrough video. In this problem I am given a print value and expected to give the output. "
   ]
  },
  {
   "cell_type": "code",
   "execution_count": null,
   "id": "c3cb21f5",
   "metadata": {},
   "outputs": [],
   "source": [
    "num = 99\n",
    "num = 5\n",
    "print(num)"
   ]
  },
  {
   "cell_type": "markdown",
   "id": "fbd48044",
   "metadata": {},
   "source": [
    "I predict the outcome will be 5 since num was reassigned"
   ]
  },
  {
   "cell_type": "code",
   "execution_count": 2,
   "id": "6a807fdc",
   "metadata": {},
   "outputs": [
    {
     "name": "stdout",
     "output_type": "stream",
     "text": [
      "5\n"
     ]
    }
   ],
   "source": [
    "num = 99\n",
    "num = 5\n",
    "print(num)"
   ]
  },
  {
   "cell_type": "markdown",
   "id": "6ad9397d",
   "metadata": {},
   "source": [
    "My prediction was correct!"
   ]
  },
  {
   "cell_type": "markdown",
   "id": "fb05802d",
   "metadata": {},
   "source": [
    "# Programming Exercises - Number 1"
   ]
  },
  {
   "cell_type": "markdown",
   "id": "cd07ff10",
   "metadata": {},
   "source": [
    "##in this exercise I am asked to write a program that displays my personal information\n",
    "specifically \n",
    "my name   \n",
    "address, with city, state, and ZIP   \n",
    "telephone number   \n",
    "college major    "
   ]
  },
  {
   "cell_type": "markdown",
   "id": "a123fbb5",
   "metadata": {},
   "source": [
    "#First I have to assign each variable on a seperate line and then write the variable outside the quotations."
   ]
  },
  {
   "cell_type": "markdown",
   "id": "d5f66e55",
   "metadata": {},
   "source": [
    "I predict my code will look like this \n",
    "name = Selma Sahli \n",
    "address = 123 Street East Lansing MI 48823\n",
    "telephone = \"1234567899\"\n",
    "major = marketing\n",
    "print(name)\n",
    "print(address)\n",
    "print(telephone)\n",
    "print(major)"
   ]
  },
  {
   "cell_type": "code",
   "execution_count": 9,
   "id": "9c30d5dd",
   "metadata": {},
   "outputs": [
    {
     "name": "stdout",
     "output_type": "stream",
     "text": [
      "nameSelma\n"
     ]
    },
    {
     "ename": "NameError",
     "evalue": "name 'marketing' is not defined",
     "output_type": "error",
     "traceback": [
      "\u001b[0;31m---------------------------------------------------------------------------\u001b[0m",
      "\u001b[0;31mNameError\u001b[0m                                 Traceback (most recent call last)",
      "Cell \u001b[0;32mIn[9], line 4\u001b[0m\n\u001b[1;32m      2\u001b[0m address \u001b[38;5;241m=\u001b[39m \u001b[38;5;124m\"\u001b[39m\u001b[38;5;124m123 Street East Lansing MI 48823\u001b[39m\u001b[38;5;124m\"\u001b[39m\n\u001b[1;32m      3\u001b[0m telephone \u001b[38;5;241m=\u001b[39m \u001b[38;5;124m\"\u001b[39m\u001b[38;5;124m1234567899\u001b[39m\u001b[38;5;124m\"\u001b[39m\n\u001b[0;32m----> 4\u001b[0m major \u001b[38;5;241m=\u001b[39m marketing\n\u001b[1;32m      5\u001b[0m \u001b[38;5;28mprint\u001b[39m(\u001b[38;5;124m\"\u001b[39m\u001b[38;5;124mname:\u001b[39m\u001b[38;5;124m\"\u001b[39m, name)\n\u001b[1;32m      6\u001b[0m \u001b[38;5;28mprint\u001b[39m(\u001b[38;5;124m\"\u001b[39m\u001b[38;5;124maddress:\u001b[39m\u001b[38;5;124m\"\u001b[39m, address)\n",
      "\u001b[0;31mNameError\u001b[0m: name 'marketing' is not defined"
     ]
    }
   ],
   "source": [
    "name = input('name')\n",
    "address = \"123 Street East Lansing MI 48823\"\n",
    "telephone = \"1234567899\"\n",
    "major = input('marketing')\n",
    "print(\"name:\", name)\n",
    "print(\"address:\", address)\n",
    "print(\"telephone:\", telephone)\n",
    "print(\"major:\", major)"
   ]
  },
  {
   "cell_type": "markdown",
   "id": "6bcfcef2",
   "metadata": {},
   "source": [
    "My prediction was wrong because I forgot I could not use spaces."
   ]
  },
  {
   "cell_type": "markdown",
   "id": "edbb060c",
   "metadata": {},
   "source": [
    "I forgot to paste the second half of my code!"
   ]
  },
  {
   "cell_type": "markdown",
   "id": "deb14992",
   "metadata": {},
   "source": [
    "It was incorrect again because I didn't ask the program to input the function. I'm going about this in a different way now. "
   ]
  },
  {
   "cell_type": "code",
   "execution_count": null,
   "id": "923239c4",
   "metadata": {},
   "outputs": [],
   "source": []
  }
 ],
 "metadata": {
  "kernelspec": {
   "display_name": "Python 3 (ipykernel)",
   "language": "python",
   "name": "python3"
  },
  "language_info": {
   "codemirror_mode": {
    "name": "ipython",
    "version": 3
   },
   "file_extension": ".py",
   "mimetype": "text/x-python",
   "name": "python",
   "nbconvert_exporter": "python",
   "pygments_lexer": "ipython3",
   "version": "3.11.4"
  }
 },
 "nbformat": 4,
 "nbformat_minor": 5
}
