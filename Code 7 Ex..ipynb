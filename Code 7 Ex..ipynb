{
 "cells": [
  {
   "cell_type": "markdown",
   "id": "6c0128a1",
   "metadata": {},
   "source": [
    "## Coding Set 7 Ex."
   ]
  },
  {
   "cell_type": "markdown",
   "id": "c1dbfed4",
   "metadata": {},
   "source": [
    "### Algorithm Workbench question 1"
   ]
  },
  {
   "cell_type": "code",
   "execution_count": 1,
   "id": "71274653",
   "metadata": {},
   "outputs": [],
   "source": [
    "# I am told to create a list with the names 'Einstein', 'Newton', 'Copernicus', and 'Kepler'.\n",
    "#This one is fairly simple since I just have to assign them all to one variable\n",
    "people = ['Einstein', 'Newton', 'Copernicus','Kepler']\n",
    "#now when i use ('people') in a code it will print the list\n"
   ]
  },
  {
   "cell_type": "markdown",
   "id": "4471f005",
   "metadata": {},
   "source": [
    "### Algorithm Workbench question 2"
   ]
  },
  {
   "cell_type": "code",
   "execution_count": 2,
   "id": "11f1236b",
   "metadata": {},
   "outputs": [
    {
     "name": "stdout",
     "output_type": "stream",
     "text": [
      "Einstein\n",
      "Newton\n",
      "Copernicus\n",
      "Kepler\n"
     ]
    }
   ],
   "source": [
    "#I am going to add off of the previous code since the instructions say to.. \n",
    "#Assume 'names' references a list. Write a for loop that displays each element of the list\n",
    "#I am going to change the variable assigned name from 'people' to 'names'\n",
    "names = ['Einstein', 'Newton', 'Copernicus','Kepler']\n",
    "for person in names:\n",
    "    print(person)"
   ]
  },
  {
   "cell_type": "code",
   "execution_count": 3,
   "id": "9eef0bad",
   "metadata": {},
   "outputs": [],
   "source": [
    "#yay it worked!"
   ]
  },
  {
   "cell_type": "markdown",
   "id": "0bfd484f",
   "metadata": {},
   "source": [
    "### Programming Question 1"
   ]
  },
  {
   "cell_type": "code",
   "execution_count": null,
   "id": "07536572",
   "metadata": {},
   "outputs": [],
   "source": [
    "#first i have to calculate the total amount of sales \n",
    "def total_sales(daily_sales:\n",
    "                #i have to initialize the amount by starting it out with 0\n",
    "                total_sales = 0\n",
    "                #next i have to find out how many daily sales there are \n",
    "                for amount in daily_sales:\n",
    "                # i have to add this amount to the total amount\n",
    "                total_amount = total_amount + daily_sale\n",
    "                #next i have to return the total amount to continue on with my code\n",
    "                "
   ]
  }
 ],
 "metadata": {
  "kernelspec": {
   "display_name": "Python 3 (ipykernel)",
   "language": "python",
   "name": "python3"
  },
  "language_info": {
   "codemirror_mode": {
    "name": "ipython",
    "version": 3
   },
   "file_extension": ".py",
   "mimetype": "text/x-python",
   "name": "python",
   "nbconvert_exporter": "python",
   "pygments_lexer": "ipython3",
   "version": "3.11.4"
  }
 },
 "nbformat": 4,
 "nbformat_minor": 5
}
