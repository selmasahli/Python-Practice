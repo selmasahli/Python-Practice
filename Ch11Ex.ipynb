{
 "cells": [
  {
   "cell_type": "code",
   "execution_count": 1,
   "id": "6fc5ae19",
   "metadata": {},
   "outputs": [],
   "source": [
    "\n",
    "class Person:\n",
    "    # I am defining each of the variables so the uder understands what variables I am using\n",
    "    def __init__(self, name, address, phone):\n",
    "        #I have to call from the superclass \n",
    "        self.__name = name \n",
    "        #i have put name in since I will be asking the user to input this\n",
    "        self.__address = address \n",
    "        # I will also need the user to input the address \n",
    "        self.__phone = phone \n",
    "        # I will need the user to input their phonenumber \n",
    "        #I spaced it out so it is more organized and I can rename each variable \n",
    "    def set_name(self, name):\n",
    "         self.__name\n",
    "    def set_address(self, address):\n",
    "         self.__address\n",
    "    #I am not returning anything since I am trying to change the name instead\n",
    "    def set_phone(self, phone):\n",
    "        self.__phone \n",
    "        #this is where I switched from 'set' to 'get'\n",
    "        #I did this because I already renamed the variables and now I am looking to return\n",
    "    def get_name(self):\n",
    "        return self.__name\n",
    "    def get_address(self):\n",
    "        return self.__address\n",
    "    def get_phone(self):\n",
    "        return self.__phone\n",
    "    \n",
    "#I can't get the file to show up so I'm just going to keep this code.\n"
   ]
  },
  {
   "cell_type": "code",
   "execution_count": 2,
   "id": "7c266453",
   "metadata": {},
   "outputs": [],
   "source": [
    "#It seems like it worked! "
   ]
  },
  {
   "cell_type": "code",
   "execution_count": 3,
   "id": "6a32b178",
   "metadata": {},
   "outputs": [
    {
     "ename": "AttributeError",
     "evalue": "type object 'person' has no attribute 'person'",
     "output_type": "error",
     "traceback": [
      "\u001b[0;31m---------------------------------------------------------------------------\u001b[0m",
      "\u001b[0;31mAttributeError\u001b[0m                            Traceback (most recent call last)",
      "Cell \u001b[0;32mIn[3], line 1\u001b[0m\n\u001b[0;32m----> 1\u001b[0m person1 \u001b[38;5;241m=\u001b[39m person\u001b[38;5;241m.\u001b[39mperson(\u001b[38;5;124m\"\u001b[39m\u001b[38;5;124mselma\u001b[39m\u001b[38;5;124m\"\u001b[39m, \u001b[38;5;124m\"\u001b[39m\u001b[38;5;124mEast Lansing\u001b[39m\u001b[38;5;124m\"\u001b[39m, \u001b[38;5;124m\"\u001b[39m\u001b[38;5;124m888-888-8888\u001b[39m\u001b[38;5;124m\"\u001b[39m)\n",
      "\u001b[0;31mAttributeError\u001b[0m: type object 'person' has no attribute 'person'"
     ]
    }
   ],
   "source": [
    "person1 = person.person(\"selma\", \"East Lansing\", \"888-888-8888\")"
   ]
  },
  {
   "cell_type": "code",
   "execution_count": null,
   "id": "a33d3976",
   "metadata": {},
   "outputs": [],
   "source": [
    "person1.get_name()"
   ]
  },
  {
   "cell_type": "code",
   "execution_count": null,
   "id": "49b49d08",
   "metadata": {},
   "outputs": [],
   "source": [
    "#I accidentally used telephone instead of writing phone"
   ]
  },
  {
   "cell_type": "code",
   "execution_count": null,
   "id": "3146f31c",
   "metadata": {},
   "outputs": [],
   "source": [
    "#my code literally matches exactly so im not sure why it's not working"
   ]
  },
  {
   "cell_type": "code",
   "execution_count": null,
   "id": "61e6bd90",
   "metadata": {},
   "outputs": [],
   "source": [
    "#Yay! it worked"
   ]
  },
  {
   "cell_type": "code",
   "execution_count": 11,
   "id": "f8d7f90a",
   "metadata": {},
   "outputs": [
    {
     "ename": "AttributeError",
     "evalue": "type object 'person' has no attribute 'Person'",
     "output_type": "error",
     "traceback": [
      "\u001b[0;31m---------------------------------------------------------------------------\u001b[0m",
      "\u001b[0;31mAttributeError\u001b[0m                            Traceback (most recent call last)",
      "Cell \u001b[0;32mIn[11], line 1\u001b[0m\n\u001b[0;32m----> 1\u001b[0m \u001b[38;5;28;01mclass\u001b[39;00m \u001b[38;5;21;01mCustomer\u001b[39;00m(person\u001b[38;5;241m.\u001b[39mPerson):\n\u001b[1;32m      2\u001b[0m     \u001b[38;5;28;01mdef\u001b[39;00m \u001b[38;5;21m__init__\u001b[39m(\u001b[38;5;28mself\u001b[39m, name, address, phone, customer_id, is_on_mailing_list):\n\u001b[1;32m      3\u001b[0m         \u001b[38;5;28msuper\u001b[39m()\u001b[38;5;241m.\u001b[39m\u001b[38;5;21m__init__\u001b[39m(name, address, phone)\n",
      "\u001b[0;31mAttributeError\u001b[0m: type object 'person' has no attribute 'Person'"
     ]
    }
   ],
   "source": [
    "class Customer(person.Person):\n",
    "    def __init__(self, name, address, phone, customer_id, is_on_mailing_list):\n",
    "        super().__init__(name, address, phone)\n",
    "        person.person.__init__(self, name, address, phone)\n",
    "        self.__customer_id = customer_id\n",
    "        self.__is_on_mailing_list = _is_on_mailing_list\n",
    "    def set_customer_id(self, customer_id):\n",
    "        self.__customer_id = customer_id\n",
    "        \n",
    "    def get_customer_id(self):\n",
    "        return self.__customer_id\n",
    "    \n",
    "    def set_is_on_mailing_list(self, is_on_mailing_list):\n",
    "        self.__is_on_mailing_list = _is_on_mailing_list\n",
    "        \n",
    "    def get_is_on_mailing_list(self):\n",
    "        return self.__is_on_mailing_list\n",
    "    "
   ]
  },
  {
   "cell_type": "code",
   "execution_count": null,
   "id": "b32d1a4e",
   "metadata": {},
   "outputs": [],
   "source": [
    "# I followed the walkthrough and am so lost on how mine doesn't work!!\n"
   ]
  }
 ],
 "metadata": {
  "kernelspec": {
   "display_name": "Python 3 (ipykernel)",
   "language": "python",
   "name": "python3"
  },
  "language_info": {
   "codemirror_mode": {
    "name": "ipython",
    "version": 3
   },
   "file_extension": ".py",
   "mimetype": "text/x-python",
   "name": "python",
   "nbconvert_exporter": "python",
   "pygments_lexer": "ipython3",
   "version": "3.11.4"
  }
 },
 "nbformat": 4,
 "nbformat_minor": 5
}
