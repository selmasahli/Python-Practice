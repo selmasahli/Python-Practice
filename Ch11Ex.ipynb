{
 "cells": [
  {
   "cell_type": "code",
   "execution_count": 14,
   "id": "683415ef",
   "metadata": {},
   "outputs": [],
   "source": [
    "class person:\n",
    "    # I am defining each of the variables so the uder understands what variables I am using\n",
    "    def __init__(self, name, address, phone):\n",
    "        self.__name = name \n",
    "        #i have put name in since I will be asking the user to input this\n",
    "        self.__address = address \n",
    "        # I will also need the user to input the address \n",
    "        self.__phone = phone \n",
    "        # I will need the user to input their phonenumber \n",
    "        #I spaced it out so it is more organized and I can rename each variable \n",
    "    def set_name(self, name):\n",
    "         self.__name\n",
    "    def set_address(self, address):\n",
    "         self.__address\n",
    "    #I am not returning anything since I am trying to change the name instead\n",
    "    def set_phone(self, phone):\n",
    "        self.__phone \n",
    "        #this is where I switched from 'set' to 'get'\n",
    "        #I did this because I already renamed the variables and now I am looking to return\n",
    "    def get_name(self):\n",
    "        return self.__name\n",
    "    def get_address(self):\n",
    "        return self.__address\n",
    "    def get_phone(self):\n",
    "        return self.__phone\n",
    "    \n",
    "    "
   ]
  },
  {
   "cell_type": "code",
   "execution_count": 12,
   "id": "31c7f167",
   "metadata": {},
   "outputs": [],
   "source": [
    "#It seems like it worked! "
   ]
  },
  {
   "cell_type": "code",
   "execution_count": 15,
   "id": "68facfdd",
   "metadata": {},
   "outputs": [
    {
     "ename": "AttributeError",
     "evalue": "type object 'person' has no attribute 'person'",
     "output_type": "error",
     "traceback": [
      "\u001b[0;31m---------------------------------------------------------------------------\u001b[0m",
      "\u001b[0;31mAttributeError\u001b[0m                            Traceback (most recent call last)",
      "Cell \u001b[0;32mIn[15], line 1\u001b[0m\n\u001b[0;32m----> 1\u001b[0m person \u001b[38;5;241m=\u001b[39m person\u001b[38;5;241m.\u001b[39mperson(\u001b[38;5;124m\"\u001b[39m\u001b[38;5;124mselma\u001b[39m\u001b[38;5;124m\"\u001b[39m, \u001b[38;5;124m\"\u001b[39m\u001b[38;5;124mEast Lansing\u001b[39m\u001b[38;5;124m\"\u001b[39m, \u001b[38;5;124m\"\u001b[39m\u001b[38;5;124m888-888-8888\u001b[39m\u001b[38;5;124m\"\u001b[39m)\n",
      "\u001b[0;31mAttributeError\u001b[0m: type object 'person' has no attribute 'person'"
     ]
    }
   ],
   "source": [
    "person = person.person(\"selma\", \"East Lansing\", \"888-888-8888\")"
   ]
  },
  {
   "cell_type": "code",
   "execution_count": 16,
   "id": "8d9c9740",
   "metadata": {},
   "outputs": [
    {
     "ename": "TypeError",
     "evalue": "person.get_phone() missing 1 required positional argument: 'self'",
     "output_type": "error",
     "traceback": [
      "\u001b[0;31m---------------------------------------------------------------------------\u001b[0m",
      "\u001b[0;31mTypeError\u001b[0m                                 Traceback (most recent call last)",
      "Cell \u001b[0;32mIn[16], line 1\u001b[0m\n\u001b[0;32m----> 1\u001b[0m person\u001b[38;5;241m.\u001b[39mget_phone()\n",
      "\u001b[0;31mTypeError\u001b[0m: person.get_phone() missing 1 required positional argument: 'self'"
     ]
    }
   ],
   "source": [
    "person.get_phone()"
   ]
  },
  {
   "cell_type": "code",
   "execution_count": 7,
   "id": "c78c9343",
   "metadata": {},
   "outputs": [],
   "source": [
    "#I accidentally used telephone instead of writing phone"
   ]
  },
  {
   "cell_type": "code",
   "execution_count": 17,
   "id": "de6c5154",
   "metadata": {},
   "outputs": [],
   "source": [
    "#my code literally matches exactly so im not sure why it's not working"
   ]
  },
  {
   "cell_type": "code",
   "execution_count": null,
   "id": "61164f00",
   "metadata": {},
   "outputs": [],
   "source": []
  }
 ],
 "metadata": {
  "kernelspec": {
   "display_name": "Python 3 (ipykernel)",
   "language": "python",
   "name": "python3"
  },
  "language_info": {
   "codemirror_mode": {
    "name": "ipython",
    "version": 3
   },
   "file_extension": ".py",
   "mimetype": "text/x-python",
   "name": "python",
   "nbconvert_exporter": "python",
   "pygments_lexer": "ipython3",
   "version": "3.11.4"
  }
 },
 "nbformat": 4,
 "nbformat_minor": 5
}
