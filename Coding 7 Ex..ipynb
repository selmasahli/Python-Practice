{
 "cells": [
  {
   "cell_type": "markdown",
   "id": "a9d296b2",
   "metadata": {},
   "source": [
    "## Coding 7 Algorithm Workbench Problems"
   ]
  },
  {
   "cell_type": "markdown",
   "id": "63e6a485",
   "metadata": {},
   "source": [
    "### Problem Number 1"
   ]
  },
  {
   "cell_type": "code",
   "execution_count": 5,
   "id": "032dfb4d",
   "metadata": {},
   "outputs": [
    {
     "name": "stdout",
     "output_type": "stream",
     "text": [
      "\n"
     ]
    }
   ],
   "source": [
    "#Since they don't want me to use the \"or\" operator I am going to convert it to lowercase by using the lower method \n",
    "#as suggested in the hint!\n",
    "choice = 'Y'\n",
    "if choice.lower() == 'y':\n",
    "    print()"
   ]
  },
  {
   "cell_type": "markdown",
   "id": "61c7f53a",
   "metadata": {},
   "source": [
    "### Problem Number 10"
   ]
  },
  {
   "cell_type": "code",
   "execution_count": 6,
   "id": "5384176a",
   "metadata": {},
   "outputs": [
    {
     "name": "stdout",
     "output_type": "stream",
     "text": [
      "['cookies', 'milk', 'fudge', 'cake', 'ice cream']\n"
     ]
    }
   ],
   "source": [
    "#first I have to input the initial string they gave me \n",
    "mystring = 'cookies>milk>fudge>cake>ice cream'\n",
    "#Next i have to change the '>' by using the split operation\n",
    "list = mystring.split('>')\n",
    "#I predict this will work! It should remove the '>' sign\n",
    "print(list)"
   ]
  },
  {
   "cell_type": "code",
   "execution_count": 7,
   "id": "04e0e4f8",
   "metadata": {},
   "outputs": [],
   "source": [
    "#It worked!"
   ]
  },
  {
   "cell_type": "markdown",
   "id": "21bc1b11",
   "metadata": {},
   "source": [
    "## Programming Questions"
   ]
  },
  {
   "cell_type": "code",
   "execution_count": 10,
   "id": "32048080",
   "metadata": {},
   "outputs": [
    {
     "name": "stdout",
     "output_type": "stream",
     "text": [
      "Enter first, middle, and last nameAnna Blair Kenzie\n"
     ]
    },
    {
     "ename": "NameError",
     "evalue": "name 'names' is not defined",
     "output_type": "error",
     "traceback": [
      "\u001b[0;31m---------------------------------------------------------------------------\u001b[0m",
      "\u001b[0;31mNameError\u001b[0m                                 Traceback (most recent call last)",
      "Cell \u001b[0;32mIn[10], line 12\u001b[0m\n\u001b[1;32m     10\u001b[0m user_name \u001b[38;5;241m=\u001b[39m \u001b[38;5;28minput\u001b[39m(\u001b[38;5;124m'\u001b[39m\u001b[38;5;124mEnter first, middle, and last name\u001b[39m\u001b[38;5;124m'\u001b[39m)\n\u001b[1;32m     11\u001b[0m \u001b[38;5;66;03m#now I have to display the initials from the initial file I defined\u001b[39;00m\n\u001b[0;32m---> 12\u001b[0m initials(user_name)\n",
      "Cell \u001b[0;32mIn[10], line 5\u001b[0m, in \u001b[0;36minitials\u001b[0;34m(full_name)\u001b[0m\n\u001b[1;32m      3\u001b[0m name \u001b[38;5;241m=\u001b[39m full_name\u001b[38;5;241m.\u001b[39msplit()\n\u001b[1;32m      4\u001b[0m initials \u001b[38;5;241m=\u001b[39m \u001b[38;5;124m'\u001b[39m\u001b[38;5;124m'\u001b[39m\n\u001b[0;32m----> 5\u001b[0m \u001b[38;5;28;01mfor\u001b[39;00m name \u001b[38;5;129;01min\u001b[39;00m names:\n\u001b[1;32m      6\u001b[0m     \u001b[38;5;66;03m#I have to seperate each of the names with a variable so I'm going to use ','\u001b[39;00m\n\u001b[1;32m      7\u001b[0m     initials \u001b[38;5;241m+\u001b[39m\u001b[38;5;241m=\u001b[39m name[\u001b[38;5;241m0\u001b[39m]\u001b[38;5;241m.\u001b[39mupper() \u001b[38;5;241m+\u001b[39m \u001b[38;5;124m'\u001b[39m\u001b[38;5;124m,\u001b[39m\u001b[38;5;124m'\u001b[39m\n\u001b[1;32m      8\u001b[0m     \u001b[38;5;66;03m#Next I have to display these initials with the 'print' function but take out the spaces in between them\u001b[39;00m\n",
      "\u001b[0;31mNameError\u001b[0m: name 'names' is not defined"
     ]
    }
   ],
   "source": [
    "def initials(full_name):\n",
    "    #I have to split the full name in seperate names so I could distingush the initials\n",
    "    name = full_name.split()\n",
    "    initials = ''\n",
    "    for name in names:\n",
    "        #I have to seperate each of the names with a variable so I'm going to use ','\n",
    "        initials += name[0].upper() + ','\n",
    "        #Next I have to display these initials with the 'print' function but take out the spaces in between them\n",
    "        print(initials.strip())\n",
    "user_name = input('Enter first, middle, and last name')\n",
    "#now I have to display the initials from the initial file I defined\n",
    "initials(user_name)"
   ]
  },
  {
   "cell_type": "code",
   "execution_count": null,
   "id": "fbd75376",
   "metadata": {},
   "outputs": [],
   "source": []
  }
 ],
 "metadata": {
  "kernelspec": {
   "display_name": "Python 3 (ipykernel)",
   "language": "python",
   "name": "python3"
  },
  "language_info": {
   "codemirror_mode": {
    "name": "ipython",
    "version": 3
   },
   "file_extension": ".py",
   "mimetype": "text/x-python",
   "name": "python",
   "nbconvert_exporter": "python",
   "pygments_lexer": "ipython3",
   "version": "3.11.4"
  }
 },
 "nbformat": 4,
 "nbformat_minor": 5
}
