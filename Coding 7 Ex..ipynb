{
 "cells": [
  {
   "cell_type": "markdown",
   "id": "09f2fe51",
   "metadata": {},
   "source": [
    "## Coding 7 Algorithm Workbench Problems"
   ]
  },
  {
   "cell_type": "markdown",
   "id": "c0b0d2be",
   "metadata": {},
   "source": [
    "### Problem Number 1"
   ]
  },
  {
   "cell_type": "code",
   "execution_count": 5,
   "id": "d966c579",
   "metadata": {},
   "outputs": [
    {
     "name": "stdout",
     "output_type": "stream",
     "text": [
      "\n"
     ]
    }
   ],
   "source": [
    "#Since they don't want me to use the \"or\" operator I am going to convert it to lowercase by using the lower method \n",
    "#as suggested in the hint!\n",
    "choice = 'Y'\n",
    "if choice.lower() == 'y':\n",
    "    print()"
   ]
  },
  {
   "cell_type": "markdown",
   "id": "a38e3791",
   "metadata": {},
   "source": [
    "### Problem Number 10"
   ]
  },
  {
   "cell_type": "code",
   "execution_count": 6,
   "id": "0663db85",
   "metadata": {},
   "outputs": [
    {
     "name": "stdout",
     "output_type": "stream",
     "text": [
      "['cookies', 'milk', 'fudge', 'cake', 'ice cream']\n"
     ]
    }
   ],
   "source": [
    "#first I have to input the initial string they gave me \n",
    "mystring = 'cookies>milk>fudge>cake>ice cream'\n",
    "#Next i have to change the '>' by using the split operation\n",
    "list = mystring.split('>')\n",
    "#I predict this will work! It should remove the '>' sign\n",
    "print(list)"
   ]
  },
  {
   "cell_type": "code",
   "execution_count": 7,
   "id": "660e6bf8",
   "metadata": {},
   "outputs": [],
   "source": [
    "#It worked!"
   ]
  },
  {
   "cell_type": "markdown",
   "id": "fc1f81bc",
   "metadata": {},
   "source": [
    "## Programming Questions"
   ]
  },
  {
   "cell_type": "code",
   "execution_count": 30,
   "id": "3191c479",
   "metadata": {
    "scrolled": false
   },
   "outputs": [
    {
     "name": "stdout",
     "output_type": "stream",
     "text": [
      "Enter first, middle, and last name Elle Lee Smith\n",
      "E.\n",
      "E.L.\n",
      "E.L.S.\n"
     ]
    }
   ],
   "source": [
    "def initials(full_name):\n",
    "    #I have to split the full name in seperate names so I could distingush the initials\n",
    "    names = full_name.split()\n",
    "    initials = ''\n",
    "    for name in names:\n",
    "        #I have to seperate each of the names with a variable so I'm going to use ','\n",
    "        initials += name[0].upper() + '.'\n",
    "        #Next I have to display these initials with the 'print' function but take out the spaces in between them\n",
    "        print(initials[-6:])\n",
    "user_name = input('Enter first, middle, and last name ')\n",
    "#now I have to display the initials from the initial file I defined\n",
    "initials(user_name)"
   ]
  },
  {
   "cell_type": "code",
   "execution_count": 12,
   "id": "19af0d3f",
   "metadata": {},
   "outputs": [],
   "source": [
    "#I just realized the problems asks to have periods not commas so I need to change that symbol.\n",
    "#since it is printing 3 seperate lines I think I have to change it from a split function. "
   ]
  },
  {
   "cell_type": "markdown",
   "id": "7d369c3e",
   "metadata": {},
   "source": [
    "### Question number 2"
   ]
  },
  {
   "cell_type": "code",
   "execution_count": 54,
   "id": "86d44d53",
   "metadata": {
    "scrolled": true
   },
   "outputs": [
    {
     "ename": "TypeError",
     "evalue": "'method' object is not iterable",
     "output_type": "error",
     "traceback": [
      "\u001b[0;31m---------------------------------------------------------------------------\u001b[0m",
      "\u001b[0;31mTypeError\u001b[0m                                 Traceback (most recent call last)",
      "Cell \u001b[0;32mIn[54], line 11\u001b[0m\n\u001b[1;32m      9\u001b[0m     \u001b[38;5;28;01mreturn\u001b[39;00m sum_of_numbers \n\u001b[1;32m     10\u001b[0m user_numbers \u001b[38;5;241m=\u001b[39m (\u001b[38;5;28minput\u001b[39m)\n\u001b[0;32m---> 11\u001b[0m result \u001b[38;5;241m=\u001b[39m digits(user_numbers)\n\u001b[1;32m     12\u001b[0m \u001b[38;5;28mprint\u001b[39m(result)\n",
      "Cell \u001b[0;32mIn[54], line 4\u001b[0m, in \u001b[0;36mdigits\u001b[0;34m(string)\u001b[0m\n\u001b[1;32m      1\u001b[0m \u001b[38;5;28;01mdef\u001b[39;00m \u001b[38;5;21mdigits\u001b[39m(string):\n\u001b[1;32m      2\u001b[0m     \u001b[38;5;66;03m#first I have to set the total to 0 for a fresh start\u001b[39;00m\n\u001b[1;32m      3\u001b[0m     sum_of_numbers \u001b[38;5;241m=\u001b[39m \u001b[38;5;241m0\u001b[39m\n\u001b[0;32m----> 4\u001b[0m     \u001b[38;5;28;01mfor\u001b[39;00m char \u001b[38;5;129;01min\u001b[39;00m string:\n\u001b[1;32m      5\u001b[0m         \u001b[38;5;66;03m#I am going to check if the input is between 0 and 9 to make sure it's a number since it didn't orginally \u001b[39;00m\n\u001b[1;32m      6\u001b[0m         \u001b[38;5;66;03m#work when I tried doing 'int(input())'\u001b[39;00m\n\u001b[1;32m      7\u001b[0m         \u001b[38;5;28;01mif\u001b[39;00m \u001b[38;5;124m'\u001b[39m\u001b[38;5;124m0\u001b[39m\u001b[38;5;124m'\u001b[39m\u001b[38;5;241m<\u001b[39m\u001b[38;5;241m=\u001b[39m char \u001b[38;5;241m<\u001b[39m\u001b[38;5;241m=\u001b[39m \u001b[38;5;124m'\u001b[39m\u001b[38;5;124m9\u001b[39m\u001b[38;5;124m'\u001b[39m:\n\u001b[1;32m      8\u001b[0m             sum_of_numbers \u001b[38;5;241m+\u001b[39m\u001b[38;5;241m=\u001b[39m (char)\n",
      "\u001b[0;31mTypeError\u001b[0m: 'method' object is not iterable"
     ]
    }
   ],
   "source": []
  },
  {
   "cell_type": "code",
   "execution_count": 57,
   "id": "58b8f98d",
   "metadata": {},
   "outputs": [
    {
     "name": "stdout",
     "output_type": "stream",
     "text": [
      "541\n",
      "10\n"
     ]
    }
   ],
   "source": [
    "def digits(string):\n",
    "    #first I have to set the total to 0 for a fresh start\n",
    "    sum_of_numbers = 0\n",
    "    for char in string:\n",
    "         #I am going to check if the input is between 0 and 9 to make sure it's a number since it didn't orginally \n",
    "        #work when I tried doing 'int(input())'\n",
    "        if '0' <= char <= '9':\n",
    "            sum_of_numbers += int(char)\n",
    "    return sum_of_numbers\n",
    "\n",
    "user_input = input()\n",
    "result = digits(user_input)\n",
    "print(result)"
   ]
  },
  {
   "cell_type": "markdown",
   "id": "e87316ad",
   "metadata": {},
   "source": [
    "### Problem number 8"
   ]
  },
  {
   "cell_type": "code",
   "execution_count": null,
   "id": "b2e91143",
   "metadata": {},
   "outputs": [],
   "source": []
  },
  {
   "cell_type": "code",
   "execution_count": 60,
   "id": "456831b9",
   "metadata": {},
   "outputs": [],
   "source": []
  },
  {
   "cell_type": "code",
   "execution_count": 62,
   "id": "c11cef08",
   "metadata": {},
   "outputs": [
    {
     "name": "stdout",
     "output_type": "stream",
     "text": [
      "my name is Selma. i am excited for break.\n",
      "My name is Selma. I am excited for break.. \n"
     ]
    }
   ],
   "source": [
    "#This problem is asking me to capitalize setences. I am going to use the capitalize function. \n",
    "def capitalize_sentences(text):\n",
    "    #now I have to split the sentences so I could capitalize each one\n",
    "    sentences = text.split('. ')\n",
    "    capitalized_text = ''\n",
    "    for sentence in sentences:\n",
    "        if sentence:\n",
    "            capitalized_text += sentence[0].capitalize() + sentence[1:] + '. '\n",
    "    return capitalized_text\n",
    "# I have to ask the user to input a couple sentences for the code to work \n",
    "# Asking the user to input a couple of sentences\n",
    "user_sentences = input()\n",
    "new_txt = capitalize_sentences(user_sentences)\n",
    "#lastly I have to print the function\n",
    "print(new_txt)"
   ]
  },
  {
   "cell_type": "code",
   "execution_count": 63,
   "id": "fbd833b8",
   "metadata": {},
   "outputs": [],
   "source": [
    "#I have an error\n",
    "#yay it worked!"
   ]
  },
  {
   "cell_type": "markdown",
   "id": "1c4769ae",
   "metadata": {},
   "source": [
    "### Problem 3"
   ]
  },
  {
   "cell_type": "code",
   "execution_count": 82,
   "id": "a62e7cab",
   "metadata": {},
   "outputs": [
    {
     "name": "stdout",
     "output_type": "stream",
     "text": [
      "March 12, 2018.\n"
     ]
    }
   ],
   "source": [
    "def main():\n",
    "# Create a string with a date. \n",
    "    date_string = 'March/12/2018'\n",
    "# Split the date.\n",
    "    date_list = date_string.split('/')\n",
    "# Display each piece of the date. print(f'Month: {date_list[0]}') print(f'Day: {date_list[1]}') print(f'Year: {date_list[2]}')\n",
    "    print(f'{date_list[0]} {date_list[1]}, {date_list[2]}.')\n",
    "# Call the main function.\n",
    "if __name__ == '__main__':\n",
    "    main()"
   ]
  },
  {
   "cell_type": "code",
   "execution_count": 80,
   "id": "6a3ce394",
   "metadata": {},
   "outputs": [],
   "source": [
    "#This was an example directly from the book. I am going to change it so it prints on the same line though!"
   ]
  },
  {
   "cell_type": "code",
   "execution_count": 81,
   "id": "107d6d19",
   "metadata": {},
   "outputs": [],
   "source": [
    "#I have to get 'March' to display instead of the 3. I predict replacing the '3' in '3/12/2018' to March will fix this."
   ]
  },
  {
   "cell_type": "code",
   "execution_count": null,
   "id": "8b85f696",
   "metadata": {},
   "outputs": [],
   "source": [
    "#it worked!"
   ]
  }
 ],
 "metadata": {
  "kernelspec": {
   "display_name": "Python 3 (ipykernel)",
   "language": "python",
   "name": "python3"
  },
  "language_info": {
   "codemirror_mode": {
    "name": "ipython",
    "version": 3
   },
   "file_extension": ".py",
   "mimetype": "text/x-python",
   "name": "python",
   "nbconvert_exporter": "python",
   "pygments_lexer": "ipython3",
   "version": "3.11.4"
  }
 },
 "nbformat": 4,
 "nbformat_minor": 5
}
