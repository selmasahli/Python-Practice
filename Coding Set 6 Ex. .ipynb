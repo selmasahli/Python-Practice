{
 "cells": [
  {
   "cell_type": "markdown",
   "id": "f1b56e87",
   "metadata": {},
   "source": [
    "# Coding Set 6 Exercises"
   ]
  },
  {
   "cell_type": "markdown",
   "id": "372aca7f",
   "metadata": {},
   "source": [
    "## Algorithm Workbench : Number 1\n",
    "#### This code is asking me to write a program that opens an output file with the filename my_name.txt, writes your name to the file, then closes the file."
   ]
  },
  {
   "cell_type": "code",
   "execution_count": 1,
   "id": "c941e765",
   "metadata": {},
   "outputs": [],
   "source": [
    "#first I have to open a file but do it in the 'w' mode since I'm asking the user to input a name "
   ]
  },
  {
   "cell_type": "code",
   "execution_count": 2,
   "id": "3a9ea02e",
   "metadata": {},
   "outputs": [],
   "source": [
    "#since I'm going to write the code with a \"with\" statement the program will automatically close \n",
    "with open('my_name.txt', 'w') as file:\n",
    "    #I'm going to input my actual name \n",
    "    file.write('Selma') \n",
    "    #I predict this will be correct since I don't need to close the program with the 'with' statement"
   ]
  },
  {
   "cell_type": "markdown",
   "id": "aafc6191",
   "metadata": {},
   "source": [
    "### Algorithm Workbench : Number 2 (continuation of first problem)"
   ]
  },
  {
   "cell_type": "code",
   "execution_count": 5,
   "id": "60f3a1fc",
   "metadata": {},
   "outputs": [
    {
     "name": "stdout",
     "output_type": "stream",
     "text": [
      "Selma\n"
     ]
    }
   ],
   "source": [
    "#I'm going to paste what I have already since it's a continuation\n",
    "with open('my_name.txt', 'w') as file:\n",
    "    file.write('Selma') \n",
    "    #I have to reopen the file but this time as read since it is not asking the user to add anything. \n",
    "    # I also have to realign the with statements \n",
    "with open('my_name.txt', 'r') as file:\n",
    "    print('Selma')"
   ]
  },
  {
   "cell_type": "markdown",
   "id": "d7472097",
   "metadata": {},
   "source": [
    "### Programming Questions : Question 1"
   ]
  },
  {
   "cell_type": "code",
   "execution_count": 10,
   "id": "5eccfc20",
   "metadata": {},
   "outputs": [
    {
     "ename": "IndentationError",
     "evalue": "expected an indented block after function definition on line 2 (3750647073.py, line 4)",
     "output_type": "error",
     "traceback": [
      "\u001b[0;36m  Cell \u001b[0;32mIn[10], line 4\u001b[0;36m\u001b[0m\n\u001b[0;31m    infile = open('numbers.txt', 'r')\u001b[0m\n\u001b[0m    ^\u001b[0m\n\u001b[0;31mIndentationError\u001b[0m\u001b[0;31m:\u001b[0m expected an indented block after function definition on line 2\n"
     ]
    }
   ],
   "source": [
    "#This program needs to display the contents of the numbers.txt file \n",
    "def main(): \n",
    "    #open a file names numbers.txt\n",
    "infile = open('numbers.txt', 'r')\n",
    "    #read the files contents \n",
    "    file_contents = infile.read()\n",
    "    #close the file \n",
    "    infile.close()\n",
    "    #Print the data that was in the contents of the file\n",
    "    print(file_contents)\n",
    "    # Call the main function.\n",
    "if __name__ == '__main__':\n",
    "    main()"
   ]
  },
  {
   "cell_type": "markdown",
   "id": "fc839193",
   "metadata": {},
   "source": [
    "### Programming Questions : Number 6"
   ]
  },
  {
   "cell_type": "code",
   "execution_count": 14,
   "id": "3af565c3",
   "metadata": {},
   "outputs": [],
   "source": [
    "#I'm going to use the previous code start up because it starts off the same\n",
    "def main():\n",
    "    with open('numbers.txt', 'r') as file:\n",
    "    #I am using the 'r' since i have to read the file contents\n",
    "        if infile: \n",
    "            total = 0\n",
    "            count = 0\n",
    "        # I am doing this to see if these variables exist in the file \n",
    "    # I am going to seperate all the numbers by a space\n",
    "    number = line.strip()\n",
    "    for i in numbers:\n",
    "        total+= number\n",
    "        count+= 1\n",
    "        #I have to take the average of the numbers\n",
    "        average = total / count \n",
    "        print(average)\n",
    "            \n",
    "    "
   ]
  },
  {
   "cell_type": "code",
   "execution_count": null,
   "id": "1ed508fb",
   "metadata": {},
   "outputs": [],
   "source": []
  }
 ],
 "metadata": {
  "kernelspec": {
   "display_name": "Python 3 (ipykernel)",
   "language": "python",
   "name": "python3"
  },
  "language_info": {
   "codemirror_mode": {
    "name": "ipython",
    "version": 3
   },
   "file_extension": ".py",
   "mimetype": "text/x-python",
   "name": "python",
   "nbconvert_exporter": "python",
   "pygments_lexer": "ipython3",
   "version": "3.11.4"
  }
 },
 "nbformat": 4,
 "nbformat_minor": 5
}
