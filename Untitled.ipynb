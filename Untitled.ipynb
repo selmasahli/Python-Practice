{
 "cells": [
  {
   "cell_type": "markdown",
   "id": "fc08e636",
   "metadata": {},
   "source": [
    "## Chapter 5 Exercises : Algorithm Workbench "
   ]
  },
  {
   "cell_type": "markdown",
   "id": "7db35ebd",
   "metadata": {},
   "source": [
    "###Number 1: this code asks me to create a code that asks the user for an input and prints it times ten. "
   ]
  },
  {
   "cell_type": "code",
   "execution_count": 5,
   "id": "548e64c2",
   "metadata": {},
   "outputs": [],
   "source": [
    "#Since the code is asking me to define a variable named 'times_ten' I am going to use the def function \n",
    "def times_ten(number):\n",
    "    #Now I'm going to input the math so the code multiplies by ten.\n",
    "    answer = number * 10\n",
    "    #lastly I'm going to print the statement\n",
    "    print(answer)"
   ]
  },
  {
   "cell_type": "code",
   "execution_count": 4,
   "id": "94c3dc85",
   "metadata": {},
   "outputs": [],
   "source": [
    "#It won't submit so I am going to plug it into an outside source. "
   ]
  },
  {
   "cell_type": "code",
   "execution_count": 6,
   "id": "099a8789",
   "metadata": {},
   "outputs": [],
   "source": [
    "#It works!! "
   ]
  },
  {
   "cell_type": "markdown",
   "id": "c74ac879",
   "metadata": {},
   "source": [
    "### Algorithm Workbench question 3"
   ]
  },
  {
   "cell_type": "code",
   "execution_count": 7,
   "id": "9b851c94",
   "metadata": {},
   "outputs": [],
   "source": [
    "#Look at the following function header:\n",
    "#def my_function(a, b, c):\n",
    "#Now look at the following call to my_function:\n",
    "#my_function(3, 2, 1)\n",
    "#When this call executes, what value will be assigned to a? What value will be assigned to b? What value will be assigned to c?"
   ]
  },
  {
   "cell_type": "markdown",
   "id": "054f938d",
   "metadata": {},
   "source": [
    "The number 3 will be assigned to letter a, the number 2 will be assigned to letter b and the number 1 will be assigned to letter c. This is because after they defined the function (a,b,c) they assigned it to the numbers (3,2,1) in that order."
   ]
  },
  {
   "cell_type": "code",
   "execution_count": null,
   "id": "292cde42",
   "metadata": {},
   "outputs": [],
   "source": []
  }
 ],
 "metadata": {
  "kernelspec": {
   "display_name": "Python 3 (ipykernel)",
   "language": "python",
   "name": "python3"
  },
  "language_info": {
   "codemirror_mode": {
    "name": "ipython",
    "version": 3
   },
   "file_extension": ".py",
   "mimetype": "text/x-python",
   "name": "python",
   "nbconvert_exporter": "python",
   "pygments_lexer": "ipython3",
   "version": "3.11.4"
  }
 },
 "nbformat": 4,
 "nbformat_minor": 5
}
