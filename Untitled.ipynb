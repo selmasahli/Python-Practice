{
 "cells": [
  {
   "cell_type": "markdown",
   "id": "0de7bcbf",
   "metadata": {},
   "source": [
    "# Code Set 3 (Chapter 3 Questions)"
   ]
  },
  {
   "cell_type": "markdown",
   "id": "0087d37b",
   "metadata": {},
   "source": [
    "##Algorithm Workbench number 4\n",
    "#this problem is asking to rewrite the statements using proper indentation and alignment"
   ]
  },
  {
   "cell_type": "code",
   "execution_count": 1,
   "id": "48a9d7be",
   "metadata": {},
   "outputs": [
    {
     "ename": "IndentationError",
     "evalue": "expected an indented block after 'else' statement on line 3 (875176795.py, line 4)",
     "output_type": "error",
     "traceback": [
      "\u001b[0;36m  Cell \u001b[0;32mIn[1], line 4\u001b[0;36m\u001b[0m\n\u001b[0;31m    if score >= B_score:\u001b[0m\n\u001b[0m    ^\u001b[0m\n\u001b[0;31mIndentationError\u001b[0m\u001b[0;31m:\u001b[0m expected an indented block after 'else' statement on line 3\n"
     ]
    }
   ],
   "source": [
    "if score >= A_score:\n",
    "    print('Your grade is A.') \n",
    "else:\n",
    "if score >= B_score: \n",
    "    print('Your grade is B.')\n",
    "else:\n",
    "if score >= C_score:\n",
    "    print('Your grade is C.') \n",
    "else:\n",
    "if score >= D_score:\n",
    "    print('Your grade is D.')\n",
    "else:\n",
    "    print('Your grade is F.')\n"
   ]
  },
  {
   "cell_type": "markdown",
   "id": "0096850f",
   "metadata": {},
   "source": [
    "#I accidentally submitted it already but I meant to commit this as my intial sumbission with the above code being my guess. "
   ]
  },
  {
   "cell_type": "markdown",
   "id": "3cc8cfa2",
   "metadata": {},
   "source": [
    "#Since each if else statement is different, I am going to seperate all the ifs from being aligned with each other"
   ]
  },
  {
   "cell_type": "code",
   "execution_count": 3,
   "id": "f0dd3665",
   "metadata": {},
   "outputs": [
    {
     "ename": "NameError",
     "evalue": "name 'score' is not defined",
     "output_type": "error",
     "traceback": [
      "\u001b[0;31m---------------------------------------------------------------------------\u001b[0m",
      "\u001b[0;31mNameError\u001b[0m                                 Traceback (most recent call last)",
      "Cell \u001b[0;32mIn[3], line 1\u001b[0m\n\u001b[0;32m----> 1\u001b[0m \u001b[38;5;28;01mif\u001b[39;00m score \u001b[38;5;241m>\u001b[39m\u001b[38;5;241m=\u001b[39m A_score:\n\u001b[1;32m      2\u001b[0m     \u001b[38;5;28mprint\u001b[39m(\u001b[38;5;124m'\u001b[39m\u001b[38;5;124mYour grade is A.\u001b[39m\u001b[38;5;124m'\u001b[39m) \n\u001b[1;32m      3\u001b[0m \u001b[38;5;28;01melse\u001b[39;00m:\n",
      "\u001b[0;31mNameError\u001b[0m: name 'score' is not defined"
     ]
    }
   ],
   "source": [
    "if score >= A_score:\n",
    "    print('Your grade is A.') \n",
    "else:\n",
    "    if score >= B_score: \n",
    "        print('Your grade is B.')\n",
    "    else:\n",
    "        if score >= C_score:\n",
    "            print('Your grade is C.') \n",
    "        else:\n",
    "            if score >= D_score:\n",
    "                print('Your grade is D.')\n",
    "            else:\n",
    "                print('Your grade is F.')"
   ]
  },
  {
   "cell_type": "markdown",
   "id": "f06d3d45",
   "metadata": {},
   "source": [
    "#this is my next guess"
   ]
  },
  {
   "cell_type": "code",
   "execution_count": 4,
   "id": "8c7b9591",
   "metadata": {},
   "outputs": [
    {
     "ename": "NameError",
     "evalue": "name 'A_score' is not defined",
     "output_type": "error",
     "traceback": [
      "\u001b[0;31m---------------------------------------------------------------------------\u001b[0m",
      "\u001b[0;31mNameError\u001b[0m                                 Traceback (most recent call last)",
      "Cell \u001b[0;32mIn[4], line 2\u001b[0m\n\u001b[1;32m      1\u001b[0m score \u001b[38;5;241m=\u001b[39m \u001b[38;5;241m76\u001b[39m\n\u001b[0;32m----> 2\u001b[0m \u001b[38;5;28;01mif\u001b[39;00m score \u001b[38;5;241m>\u001b[39m\u001b[38;5;241m=\u001b[39m A_score:\n\u001b[1;32m      3\u001b[0m     \u001b[38;5;28mprint\u001b[39m(\u001b[38;5;124m'\u001b[39m\u001b[38;5;124mYour grade is A.\u001b[39m\u001b[38;5;124m'\u001b[39m) \n\u001b[1;32m      4\u001b[0m \u001b[38;5;28;01melse\u001b[39;00m:\n",
      "\u001b[0;31mNameError\u001b[0m: name 'A_score' is not defined"
     ]
    }
   ],
   "source": [
    "score = 76\n",
    "if score >= A_score:\n",
    "    print('Your grade is A.') \n",
    "else:\n",
    "    if score >= B_score: \n",
    "        print('Your grade is B.')\n",
    "    else:\n",
    "        if score >= C_score:\n",
    "            print('Your grade is C.') \n",
    "        else:\n",
    "            if score >= D_score:\n",
    "                print('Your grade is D.')\n",
    "            else:\n",
    "                print('Your grade is F.')"
   ]
  },
  {
   "cell_type": "markdown",
   "id": "1babb749",
   "metadata": {},
   "source": [
    "#I believe the alignment is correct however I haven't assigned each score to a value. To see if my alignment is correct I'm going to assign a value that should work in the first statement."
   ]
  },
  {
   "cell_type": "code",
   "execution_count": 5,
   "id": "53497b68",
   "metadata": {},
   "outputs": [
    {
     "name": "stdout",
     "output_type": "stream",
     "text": [
      "Your grade is A.\n"
     ]
    }
   ],
   "source": [
    "score = 97\n",
    "A_score = 90\n",
    "if score >= A_score:\n",
    "    print('Your grade is A.') \n",
    "else:\n",
    "    if score >= B_score: \n",
    "        print('Your grade is B.')\n",
    "    else:\n",
    "        if score >= C_score:\n",
    "            print('Your grade is C.') \n",
    "        else:\n",
    "            if score >= D_score:\n",
    "                print('Your grade is D.')\n",
    "            else:\n",
    "                print('Your grade is F.')"
   ]
  },
  {
   "cell_type": "markdown",
   "id": "f7c73616",
   "metadata": {},
   "source": [
    "This depicts my alignment is correct. "
   ]
  },
  {
   "cell_type": "markdown",
   "id": "1099987b",
   "metadata": {},
   "source": [
    "## Algorithm Workbench number 5"
   ]
  },
  {
   "cell_type": "code",
   "execution_count": 6,
   "id": "fcca7cc9",
   "metadata": {},
   "outputs": [],
   "source": [
    "#I am assigned to write a nested decision structure"
   ]
  },
  {
   "cell_type": "code",
   "execution_count": null,
   "id": "3feaf8a5",
   "metadata": {},
   "outputs": [],
   "source": [
    "amount1 = int(input())\n",
    "amount2 = int(input())\n",
    "if amount1 > 10 and amount2 < 100:\n",
    "    if amount1 > amount2:\n",
    "        print(amount1)\n",
    "    else:\n",
    "        print(amount2)"
   ]
  },
  {
   "cell_type": "markdown",
   "id": "80b32cc4",
   "metadata": {},
   "source": [
    "#this is my initial guess for problem number 5"
   ]
  },
  {
   "cell_type": "code",
   "execution_count": null,
   "id": "879564ae",
   "metadata": {},
   "outputs": [],
   "source": [
    "amount1 = int(input())\n",
    "amount2 = int(input())\n",
    "if amount1 > 10 and amount2 < 100:\n",
    "    if amount1 > amount2:\n",
    "        print(amount1)\n",
    "    else:\n",
    "        print(amount2)"
   ]
  },
  {
   "cell_type": "markdown",
   "id": "f670414c",
   "metadata": {},
   "source": [
    "#I ran the code but it's not running."
   ]
  },
  {
   "cell_type": "code",
   "execution_count": null,
   "id": "2232ea0c",
   "metadata": {},
   "outputs": [],
   "source": [
    "amount1 = int(input())\n",
    "amount2 = int(input())\n",
    "if amount1 > 10 and amount2 < 100:\n",
    "    if amount1 > amount2:\n",
    "        print(amount1)\n",
    "    else:\n",
    "        print(amount2)"
   ]
  },
  {
   "cell_type": "markdown",
   "id": "a3d63b7b",
   "metadata": {},
   "source": [
    "#I'm not sure why, but I can't get my code to run. It isn't popping up with any error messages though. "
   ]
  },
  {
   "cell_type": "markdown",
   "id": "ec86efc5",
   "metadata": {},
   "source": [
    "# Programming Exercises number 1"
   ]
  },
  {
   "cell_type": "markdown",
   "id": "d1676a07",
   "metadata": {},
   "source": [
    "#I'm supposed to create a program that correlates the numbers 1-7 to a specific day of the week. "
   ]
  },
  {
   "cell_type": "code",
   "execution_count": null,
   "id": "a611289b",
   "metadata": {},
   "outputs": [],
   "source": [
    "1 = Monday\n",
    "2 = Tuesday\n",
    "3 = Wednesday\n",
    "4 = Thursday\n",
    "5 = Friday\n",
    "6 = Saturday\n",
    "7 = Sunday\n",
    "\n",
    "day_of_week = int(input())\n",
    "if day_of_week == 1:\n",
    "    print(1)\n",
    "else:\n",
    "    if day_of_week == 2:\n",
    "        print(2)\n",
    "    else:\n",
    "        if day_of_week == 3:\n",
    "            print(3)\n",
    "        else:\n",
    "            if day_of_week ==4:\n",
    "                print(4)\n",
    "            else:\n",
    "                if day_of_week == 5:\n",
    "                    print(5)\n",
    "                else:\n",
    "                    if day_of_week == 6:\n",
    "                        print(6)\n",
    "                    else:\n",
    "                        if day_of_week == 7:\n",
    "                            print(7)\n",
    "                        else:\n",
    "                            print(\"Not in the range of 1-7\")"
   ]
  },
  {
   "cell_type": "code",
   "execution_count": null,
   "id": "11d0888a",
   "metadata": {},
   "outputs": [],
   "source": [
    "#This is my prediction since it is similar to the grade problem. "
   ]
  },
  {
   "cell_type": "code",
   "execution_count": null,
   "id": "626ac179",
   "metadata": {},
   "outputs": [],
   "source": [
    "1 = Monday\n",
    "2 = Tuesday\n",
    "3 = Wednesday\n",
    "4 = Thursday\n",
    "5 = Friday\n",
    "6 = Saturday\n",
    "7 = Sunday\n",
    "\n",
    "day_of_week = int(input())\n",
    "if day_of_week == 1:\n",
    "    print(1)\n",
    "else:\n",
    "    if day_of_week == 2:\n",
    "        print(2)\n",
    "    else:\n",
    "        if day_of_week == 3:\n",
    "            print(3)\n",
    "        else:\n",
    "            if day_of_week ==4:\n",
    "                print(4)\n",
    "            else:\n",
    "                if day_of_week == 5:\n",
    "                    print(5)\n",
    "                else:\n",
    "                    if day_of_week == 6:\n",
    "                        print(6)\n",
    "                    else:\n",
    "                        if day_of_week == 7:\n",
    "                            print(7)\n",
    "                        else:\n",
    "                            print(\"Not in the range of 1 through 7\")"
   ]
  },
  {
   "cell_type": "markdown",
   "id": "bc4a44d7",
   "metadata": {},
   "source": [
    "## Programming Exercises number 5"
   ]
  },
  {
   "cell_type": "markdown",
   "id": "89069be3",
   "metadata": {},
   "source": [
    "#I have to create a program that runs a math equation as long as the mass is no heavier than 500 and lighter than 100"
   ]
  },
  {
   "cell_type": "code",
   "execution_count": null,
   "id": "ec4d0af8",
   "metadata": {},
   "outputs": [],
   "source": [
    "mass = int(input('Enter mass in kilograms'))\n",
    "weight = mass * 9.8\n",
    "if weight > 500:\n",
    "    print('This object is too heavy.')\n",
    "elif weight < 100:\n",
    "    print('This object is too light.')\n",
    "else:\n",
    "    print(f'The object is {weight} newtons.')"
   ]
  },
  {
   "cell_type": "markdown",
   "id": "529841f9",
   "metadata": {},
   "source": [
    "For some reason Jupiter notebook will not allow me to run my program"
   ]
  },
  {
   "cell_type": "markdown",
   "id": "22334acb",
   "metadata": {},
   "source": [
    "I have run it in chatgpt to see if it's correct and though it says I could have done it in a simpler method, the code itself is correct!"
   ]
  },
  {
   "cell_type": "markdown",
   "id": "46fb1321",
   "metadata": {},
   "source": [
    "## Programming Exercises number 17 (Wifi Diagnostic Tree)"
   ]
  },
  {
   "cell_type": "markdown",
   "id": "1eea4d1a",
   "metadata": {},
   "source": [
    "#I am asked to create a flowchart walking through someone having wifi problems and help them solve the issue"
   ]
  },
  {
   "cell_type": "code",
   "execution_count": null,
   "id": "7b67142f",
   "metadata": {},
   "outputs": [],
   "source": [
    "print('Reboot the computer and try again.')\n",
    "answer = input('Did that fix the problem? yes or no?')\n",
    "if answer == \"yes\":\n",
    "    print('Happy to help. Goodbye.')\n",
    "else:\n",
    "    print('Reboot the router and try again.')\n",
    "    answer = input('Did that fix the problem? yes or no?')\n",
    "    if asnwer == \"yes\":\n",
    "        print('Happy to help. Goodbye.')\n",
    "    else:\n",
    "        print('Make sure the cables between the router and modem are plugged in firmly.')\n",
    "        answer = input('Did that fix the problem? yes or no?')\n",
    "        if answer == \"yes\":\n",
    "            print('Happy to help. Goodbye.')\n",
    "            else:\n",
    "                print('get a new router.')\n",
    "                \n",
    "        "
   ]
  },
  {
   "cell_type": "code",
   "execution_count": null,
   "id": "ca6c5af4",
   "metadata": {},
   "outputs": [],
   "source": [
    "#This is my initial guess for problem 17"
   ]
  },
  {
   "cell_type": "markdown",
   "id": "7360928d",
   "metadata": {},
   "source": [
    "Again since my notebook is not working, I plugged it into chatgpt. It says it is mostly correct aside from the syntax error from me misspelling \"answer\"."
   ]
  }
 ],
 "metadata": {
  "kernelspec": {
   "display_name": "Python 3 (ipykernel)",
   "language": "python",
   "name": "python3"
  },
  "language_info": {
   "codemirror_mode": {
    "name": "ipython",
    "version": 3
   },
   "file_extension": ".py",
   "mimetype": "text/x-python",
   "name": "python",
   "nbconvert_exporter": "python",
   "pygments_lexer": "ipython3",
   "version": "3.11.4"
  }
 },
 "nbformat": 4,
 "nbformat_minor": 5
}
