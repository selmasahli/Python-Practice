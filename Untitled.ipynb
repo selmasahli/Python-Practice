{
 "cells": [
  {
   "cell_type": "markdown",
   "id": "5f8eaf45",
   "metadata": {},
   "source": [
    "# Code Set 3 (Chapter 3 Questions)"
   ]
  },
  {
   "cell_type": "markdown",
   "id": "8c4201b6",
   "metadata": {},
   "source": [
    "##Algorithm Workbench number 4\n",
    "#this problem is asking to rewrite the statements using proper indentation and alignment"
   ]
  },
  {
   "cell_type": "code",
   "execution_count": 1,
   "id": "43482562",
   "metadata": {},
   "outputs": [
    {
     "ename": "IndentationError",
     "evalue": "expected an indented block after 'else' statement on line 3 (875176795.py, line 4)",
     "output_type": "error",
     "traceback": [
      "\u001b[0;36m  Cell \u001b[0;32mIn[1], line 4\u001b[0;36m\u001b[0m\n\u001b[0;31m    if score >= B_score:\u001b[0m\n\u001b[0m    ^\u001b[0m\n\u001b[0;31mIndentationError\u001b[0m\u001b[0;31m:\u001b[0m expected an indented block after 'else' statement on line 3\n"
     ]
    }
   ],
   "source": [
    "if score >= A_score:\n",
    "    print('Your grade is A.') \n",
    "else:\n",
    "if score >= B_score: \n",
    "    print('Your grade is B.')\n",
    "else:\n",
    "if score >= C_score:\n",
    "    print('Your grade is C.') \n",
    "else:\n",
    "if score >= D_score:\n",
    "    print('Your grade is D.')\n",
    "else:\n",
    "    print('Your grade is F.')\n"
   ]
  },
  {
   "cell_type": "markdown",
   "id": "e756638f",
   "metadata": {},
   "source": [
    "#I accidentally submitted it already but I meant to commit this as my intial sumbission with the above code being my guess. "
   ]
  },
  {
   "cell_type": "markdown",
   "id": "96dc9a73",
   "metadata": {},
   "source": [
    "#Since each if else statement is different, I am going to seperate all the ifs from being aligned with each other"
   ]
  },
  {
   "cell_type": "code",
   "execution_count": 3,
   "id": "0ca5b12c",
   "metadata": {},
   "outputs": [
    {
     "ename": "NameError",
     "evalue": "name 'score' is not defined",
     "output_type": "error",
     "traceback": [
      "\u001b[0;31m---------------------------------------------------------------------------\u001b[0m",
      "\u001b[0;31mNameError\u001b[0m                                 Traceback (most recent call last)",
      "Cell \u001b[0;32mIn[3], line 1\u001b[0m\n\u001b[0;32m----> 1\u001b[0m \u001b[38;5;28;01mif\u001b[39;00m score \u001b[38;5;241m>\u001b[39m\u001b[38;5;241m=\u001b[39m A_score:\n\u001b[1;32m      2\u001b[0m     \u001b[38;5;28mprint\u001b[39m(\u001b[38;5;124m'\u001b[39m\u001b[38;5;124mYour grade is A.\u001b[39m\u001b[38;5;124m'\u001b[39m) \n\u001b[1;32m      3\u001b[0m \u001b[38;5;28;01melse\u001b[39;00m:\n",
      "\u001b[0;31mNameError\u001b[0m: name 'score' is not defined"
     ]
    }
   ],
   "source": [
    "if score >= A_score:\n",
    "    print('Your grade is A.') \n",
    "else:\n",
    "    if score >= B_score: \n",
    "        print('Your grade is B.')\n",
    "    else:\n",
    "        if score >= C_score:\n",
    "            print('Your grade is C.') \n",
    "        else:\n",
    "            if score >= D_score:\n",
    "                print('Your grade is D.')\n",
    "            else:\n",
    "                print('Your grade is F.')"
   ]
  },
  {
   "cell_type": "markdown",
   "id": "c38fbb67",
   "metadata": {},
   "source": [
    "#this is my next guess"
   ]
  },
  {
   "cell_type": "code",
   "execution_count": 4,
   "id": "b669b139",
   "metadata": {},
   "outputs": [
    {
     "ename": "NameError",
     "evalue": "name 'A_score' is not defined",
     "output_type": "error",
     "traceback": [
      "\u001b[0;31m---------------------------------------------------------------------------\u001b[0m",
      "\u001b[0;31mNameError\u001b[0m                                 Traceback (most recent call last)",
      "Cell \u001b[0;32mIn[4], line 2\u001b[0m\n\u001b[1;32m      1\u001b[0m score \u001b[38;5;241m=\u001b[39m \u001b[38;5;241m76\u001b[39m\n\u001b[0;32m----> 2\u001b[0m \u001b[38;5;28;01mif\u001b[39;00m score \u001b[38;5;241m>\u001b[39m\u001b[38;5;241m=\u001b[39m A_score:\n\u001b[1;32m      3\u001b[0m     \u001b[38;5;28mprint\u001b[39m(\u001b[38;5;124m'\u001b[39m\u001b[38;5;124mYour grade is A.\u001b[39m\u001b[38;5;124m'\u001b[39m) \n\u001b[1;32m      4\u001b[0m \u001b[38;5;28;01melse\u001b[39;00m:\n",
      "\u001b[0;31mNameError\u001b[0m: name 'A_score' is not defined"
     ]
    }
   ],
   "source": [
    "score = 76\n",
    "if score >= A_score:\n",
    "    print('Your grade is A.') \n",
    "else:\n",
    "    if score >= B_score: \n",
    "        print('Your grade is B.')\n",
    "    else:\n",
    "        if score >= C_score:\n",
    "            print('Your grade is C.') \n",
    "        else:\n",
    "            if score >= D_score:\n",
    "                print('Your grade is D.')\n",
    "            else:\n",
    "                print('Your grade is F.')"
   ]
  },
  {
   "cell_type": "markdown",
   "id": "fb33119d",
   "metadata": {},
   "source": [
    "#I believe the alignment is correct however I haven't assigned each score to a value. To see if my alignment is correct I'm going to assign a value that should work in the first statement."
   ]
  },
  {
   "cell_type": "code",
   "execution_count": 5,
   "id": "15695db7",
   "metadata": {},
   "outputs": [
    {
     "name": "stdout",
     "output_type": "stream",
     "text": [
      "Your grade is A.\n"
     ]
    }
   ],
   "source": [
    "score = 97\n",
    "A_score = 90\n",
    "if score >= A_score:\n",
    "    print('Your grade is A.') \n",
    "else:\n",
    "    if score >= B_score: \n",
    "        print('Your grade is B.')\n",
    "    else:\n",
    "        if score >= C_score:\n",
    "            print('Your grade is C.') \n",
    "        else:\n",
    "            if score >= D_score:\n",
    "                print('Your grade is D.')\n",
    "            else:\n",
    "                print('Your grade is F.')"
   ]
  },
  {
   "cell_type": "markdown",
   "id": "44b7459e",
   "metadata": {},
   "source": [
    "This depicts my alignment is correct. "
   ]
  },
  {
   "cell_type": "markdown",
   "id": "3c7e8933",
   "metadata": {},
   "source": [
    "## Algorithm Workbench number 5"
   ]
  },
  {
   "cell_type": "code",
   "execution_count": 6,
   "id": "9d970443",
   "metadata": {},
   "outputs": [],
   "source": [
    "#I am assigned to write a nested decision structure"
   ]
  },
  {
   "cell_type": "code",
   "execution_count": null,
   "id": "0e7d17ed",
   "metadata": {},
   "outputs": [],
   "source": [
    "amount1 = int(input())\n",
    "amount2 = int(input())\n",
    "if amount1 > 10 and amount2 < 100:\n",
    "    if amount1 > amount2:\n",
    "        print(amount1)\n",
    "    else:\n",
    "        print(amount2)"
   ]
  },
  {
   "cell_type": "markdown",
   "id": "b4cc485c",
   "metadata": {},
   "source": [
    "#this is my initial guess for problem number 5"
   ]
  },
  {
   "cell_type": "code",
   "execution_count": null,
   "id": "165c996f",
   "metadata": {},
   "outputs": [],
   "source": [
    "amount1 = int(input())\n",
    "amount2 = int(input())\n",
    "if amount1 > 10 and amount2 < 100:\n",
    "    if amount1 > amount2:\n",
    "        print(amount1)\n",
    "    else:\n",
    "        print(amount2)"
   ]
  },
  {
   "cell_type": "markdown",
   "id": "11dcf0f3",
   "metadata": {},
   "source": [
    "#I ran the code but it's not running."
   ]
  },
  {
   "cell_type": "code",
   "execution_count": null,
   "id": "1e107e0b",
   "metadata": {},
   "outputs": [],
   "source": [
    "amount1 = int(input())\n",
    "amount2 = int(input())\n",
    "if amount1 > 10 and amount2 < 100:\n",
    "    if amount1 > amount2:\n",
    "        print(amount1)\n",
    "    else:\n",
    "        print(amount2)"
   ]
  },
  {
   "cell_type": "markdown",
   "id": "8d2185c4",
   "metadata": {},
   "source": [
    "#I'm not sure why, but I can't get my code to run. It isn't popping up with any error messages though. "
   ]
  },
  {
   "cell_type": "markdown",
   "id": "de165b4e",
   "metadata": {},
   "source": [
    "# Programming Exercises number 1"
   ]
  },
  {
   "cell_type": "markdown",
   "id": "8ffab065",
   "metadata": {},
   "source": [
    "#I'm supposed to create a program that correlates the numbers 1-7 to a specific day of the week. "
   ]
  },
  {
   "cell_type": "code",
   "execution_count": null,
   "id": "75d38a9d",
   "metadata": {},
   "outputs": [],
   "source": [
    "1 = Monday\n",
    "2 = Tuesday\n",
    "3 = Wednesday\n",
    "4 = Thursday\n",
    "5 = Friday\n",
    "6 = Saturday\n",
    "7 = Sunday\n",
    "\n",
    "day_of_week = int(input())\n",
    "if day_of_week == 1:\n",
    "    print(1)\n",
    "else:\n",
    "    if day_of_week == 2:\n",
    "        print(2)\n",
    "    else:\n",
    "        if day_of_week == 3:\n",
    "            print(3)\n",
    "        else:\n",
    "            if day_of_week ==4:\n",
    "                print(4)\n",
    "            else:\n",
    "                if day_of_week == 5:\n",
    "                    print(5)\n",
    "                else:\n",
    "                    if day_of_week == 6:\n",
    "                        print(6)\n",
    "                    else:\n",
    "                        if day_of_week == 7:\n",
    "                            print(7)\n",
    "                        else:\n",
    "                            print(\"Not in the range of 1-7\")"
   ]
  },
  {
   "cell_type": "code",
   "execution_count": null,
   "id": "8a7e1af7",
   "metadata": {},
   "outputs": [],
   "source": [
    "#This is my prediction since it is similar to the grade problem. "
   ]
  }
 ],
 "metadata": {
  "kernelspec": {
   "display_name": "Python 3 (ipykernel)",
   "language": "python",
   "name": "python3"
  },
  "language_info": {
   "codemirror_mode": {
    "name": "ipython",
    "version": 3
   },
   "file_extension": ".py",
   "mimetype": "text/x-python",
   "name": "python",
   "nbconvert_exporter": "python",
   "pygments_lexer": "ipython3",
   "version": "3.11.4"
  }
 },
 "nbformat": 4,
 "nbformat_minor": 5
}
