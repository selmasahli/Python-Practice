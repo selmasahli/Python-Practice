{
 "cells": [
  {
   "cell_type": "markdown",
   "id": "624f8b2b",
   "metadata": {},
   "source": [
    "## Chapter 5 Exercises : Algorithm Workbench "
   ]
  },
  {
   "cell_type": "markdown",
   "id": "124cb3ff",
   "metadata": {},
   "source": [
    "###Number 1: this code asks me to create a code that asks the user for an input and prints it times ten. "
   ]
  },
  {
   "cell_type": "code",
   "execution_count": 1,
   "id": "82fa406d",
   "metadata": {},
   "outputs": [],
   "source": [
    "#Since the code is asking me to define a variable named 'times_ten' I am going to use the def function \n",
    "def times_ten(number):\n",
    "    #Now I'm going to input the math so the code multiplies by ten.\n",
    "    answer = number * 10\n",
    "    #lastly I'm going to print the statement\n",
    "    print(answer)"
   ]
  },
  {
   "cell_type": "code",
   "execution_count": null,
   "id": "046330ea",
   "metadata": {},
   "outputs": [],
   "source": []
  }
 ],
 "metadata": {
  "kernelspec": {
   "display_name": "Python 3 (ipykernel)",
   "language": "python",
   "name": "python3"
  },
  "language_info": {
   "codemirror_mode": {
    "name": "ipython",
    "version": 3
   },
   "file_extension": ".py",
   "mimetype": "text/x-python",
   "name": "python",
   "nbconvert_exporter": "python",
   "pygments_lexer": "ipython3",
   "version": "3.11.4"
  }
 },
 "nbformat": 4,
 "nbformat_minor": 5
}
