{
 "cells": [
  {
   "cell_type": "markdown",
   "id": "55651d10",
   "metadata": {},
   "source": [
    "## Algorithm Workbench question 1\n",
    "#Write a while loop that lets the user enter a number. The number should be multiplied by 10, and the result assigned to a variable named product. The loop should iterate as long as product is less than 100."
   ]
  },
  {
   "cell_type": "code",
   "execution_count": 1,
   "id": "dcb2ea49",
   "metadata": {},
   "outputs": [
    {
     "name": "stdout",
     "output_type": "stream",
     "text": [
      "60\n"
     ]
    }
   ],
   "source": [
    "#I have to create a variable to control the loop \n",
    "number = float(int(input()))\n",
    "#multiply the number by ten \n",
    "product = number * 10\n",
    "#I have to create a while loop to iterate as long as product is less than 100 \n",
    "while product < 100:\n",
    "    print(product)"
   ]
  },
  {
   "cell_type": "markdown",
   "id": "f007089c",
   "metadata": {},
   "source": [
    "## Question 2\n",
    "#Write a while loop that asks the user to enter two numbers. The numbers should be added and the sum displayed. The loop should ask the user if he or she wishes to per- form the operation again. If so, the loop should repeat, otherwise it should terminate."
   ]
  },
  {
   "cell_type": "code",
   "execution_count": null,
   "id": "5e9fe3ba",
   "metadata": {},
   "outputs": [],
   "source": [
    "#I have to create a variable to control the loop and ask the user to input two variables \n",
    "keep_going = 'y'\n",
    "while keep_going == 'y':\n",
    "    first_num = float(input())\n",
    "    second_num = float(input())\n",
    "#I have to write the equation to sum the two numbers and display it \n",
    "    answer = first_num + second_num \n",
    "# I have to print the sum \n",
    "    print(answer)\n",
    "#I have to print a statement to ask the user if they wish to rerun it \n",
    "    keep_going_again = input('Do you wish to continue? y or n')\n",
    "#I believe this should work because it is a while loop that is also formatted correctly. \n",
    "if keep_going == 'n':\n",
    "    print(goodbye)"
   ]
  },
  {
   "cell_type": "markdown",
   "id": "cfa80d63",
   "metadata": {},
   "source": [
    "I received a ValueError for the number input variables. I think it is because I'm asking for a number after trying to input 'y'. "
   ]
  },
  {
   "cell_type": "markdown",
   "id": "5f45ed8b",
   "metadata": {},
   "source": [
    "this doesn't terminate after i say n"
   ]
  },
  {
   "cell_type": "markdown",
   "id": "777f7b1c",
   "metadata": {},
   "source": [
    "## Programming Ex. 1 Bug Collector "
   ]
  },
  {
   "cell_type": "code",
   "execution_count": null,
   "id": "547d2e5c",
   "metadata": {},
   "outputs": [],
   "source": [
    "#I have to write a running program that collects the data of bugs collected over the course of 5 days."
   ]
  },
  {
   "cell_type": "code",
   "execution_count": null,
   "id": "2cb04f66",
   "metadata": {},
   "outputs": [],
   "source": [
    "#first I have to make a variable for the total amount of bugs as a starting point \n",
    "total_amt = 0\n",
    "# i am using range of numbers 1-6 so it includes numbers 1,2,3,4,5 \n",
    "for day in range(1,6):\n",
    "\n"
   ]
  }
 ],
 "metadata": {
  "kernelspec": {
   "display_name": "Python 3 (ipykernel)",
   "language": "python",
   "name": "python3"
  },
  "language_info": {
   "codemirror_mode": {
    "name": "ipython",
    "version": 3
   },
   "file_extension": ".py",
   "mimetype": "text/x-python",
   "name": "python",
   "nbconvert_exporter": "python",
   "pygments_lexer": "ipython3",
   "version": "3.11.4"
  }
 },
 "nbformat": 4,
 "nbformat_minor": 5
}
