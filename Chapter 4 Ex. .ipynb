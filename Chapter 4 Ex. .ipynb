{
 "cells": [
  {
   "cell_type": "markdown",
   "id": "aed01837",
   "metadata": {},
   "source": [
    "## Algorithm Workbench question 1\n",
    "#Write a while loop that lets the user enter a number. The number should be multiplied by 10, and the result assigned to a variable named product. The loop should iterate as long as product is less than 100."
   ]
  },
  {
   "cell_type": "code",
   "execution_count": 1,
   "id": "761324ab",
   "metadata": {},
   "outputs": [
    {
     "name": "stdout",
     "output_type": "stream",
     "text": [
      "60\n"
     ]
    }
   ],
   "source": [
    "#I have to create a variable to control the loop \n",
    "number = float(int(input()))\n",
    "#multiply the number by ten \n",
    "product = number * 10\n",
    "#I have to create a while loop to iterate as long as product is less than 100 \n",
    "while product < 100:\n",
    "    print(product)"
   ]
  },
  {
   "cell_type": "markdown",
   "id": "e877d2ea",
   "metadata": {},
   "source": [
    "## Question 2\n",
    "#Write a while loop that asks the user to enter two numbers. The numbers should be added and the sum displayed. The loop should ask the user if he or she wishes to per- form the operation again. If so, the loop should repeat, otherwise it should terminate."
   ]
  },
  {
   "cell_type": "code",
   "execution_count": null,
   "id": "b1456c60",
   "metadata": {},
   "outputs": [],
   "source": []
  }
 ],
 "metadata": {
  "kernelspec": {
   "display_name": "Python 3 (ipykernel)",
   "language": "python",
   "name": "python3"
  },
  "language_info": {
   "codemirror_mode": {
    "name": "ipython",
    "version": 3
   },
   "file_extension": ".py",
   "mimetype": "text/x-python",
   "name": "python",
   "nbconvert_exporter": "python",
   "pygments_lexer": "ipython3",
   "version": "3.11.4"
  }
 },
 "nbformat": 4,
 "nbformat_minor": 5
}
