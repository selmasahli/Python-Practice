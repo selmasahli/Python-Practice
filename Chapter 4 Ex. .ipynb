{
 "cells": [
  {
   "cell_type": "markdown",
   "id": "b7779fd6",
   "metadata": {},
   "source": [
    "## Algorithm Workbench question 1\n",
    "#Write a while loop that lets the user enter a number. The number should be multiplied by 10, and the result assigned to a variable named product. The loop should iterate as long as product is less than 100."
   ]
  },
  {
   "cell_type": "code",
   "execution_count": 1,
   "id": "01eb01ee",
   "metadata": {},
   "outputs": [
    {
     "name": "stdout",
     "output_type": "stream",
     "text": [
      "60\n"
     ]
    }
   ],
   "source": [
    "#I have to create a variable to control the loop \n",
    "number = float(int(input()))\n",
    "#multiply the number by ten \n",
    "product = number * 10\n",
    "#I have to create a while loop to iterate as long as product is less than 100 \n",
    "while product < 100:\n",
    "    print(product)"
   ]
  },
  {
   "cell_type": "markdown",
   "id": "a0d7d28d",
   "metadata": {},
   "source": [
    "## Question 2\n",
    "#Write a while loop that asks the user to enter two numbers. The numbers should be added and the sum displayed. The loop should ask the user if he or she wishes to per- form the operation again. If so, the loop should repeat, otherwise it should terminate."
   ]
  },
  {
   "cell_type": "code",
   "execution_count": null,
   "id": "45c78edf",
   "metadata": {},
   "outputs": [],
   "source": [
    "#I have to create a variable to control the loop and ask the user to input two variables \n",
    "keep_going = 'y'\n",
    "while keep_going == 'y':\n",
    "    first_num = float(input())\n",
    "    second_num = float(input())\n",
    "#I have to write the equation to sum the two numbers and display it \n",
    "    answer = first_num + second_num \n",
    "# I have to print the sum \n",
    "    print(answer)\n",
    "#I have to print a statement to ask the user if they wish to rerun it \n",
    "    keep_going_again = input('Do you wish to continue? y or n')\n",
    "#I believe this should work because it is a while loop that is also formatted correctly. \n",
    "if keep_going == 'n':\n",
    "    print(goodbye)"
   ]
  },
  {
   "cell_type": "markdown",
   "id": "6ae595cb",
   "metadata": {},
   "source": [
    "I received a ValueError for the number input variables. I think it is because I'm asking for a number after trying to input 'y'. "
   ]
  },
  {
   "cell_type": "markdown",
   "id": "fdd89f0a",
   "metadata": {},
   "source": [
    "this doesn't terminate after i say n"
   ]
  },
  {
   "cell_type": "markdown",
   "id": "146741e0",
   "metadata": {},
   "source": [
    "## Programming Ex. 1 Bug Collector "
   ]
  },
  {
   "cell_type": "code",
   "execution_count": null,
   "id": "56a6c108",
   "metadata": {},
   "outputs": [],
   "source": [
    "#I have to write a running program that collects the data of bugs collected over the course of 5 days."
   ]
  },
  {
   "cell_type": "code",
   "execution_count": null,
   "id": "e8c842a6",
   "metadata": {},
   "outputs": [],
   "source": [
    "#first I have to make a variable for the total amount of bugs as a starting point \n",
    "total_amt = 0\n",
    "# i am using range of numbers 1-6 so it includes numbers 1,2,3,4,5 \n",
    "for day in range(1,6):\n",
    "    collected_data = int(input())\n",
    "    total_amt = total_amt + collected_data\n",
    "    print(total_amt)\n",
    "#I'm not sure if this will work because I'm still a bit confused on the 'for _ in' programs.\n"
   ]
  },
  {
   "cell_type": "code",
   "execution_count": null,
   "id": "d3686b81",
   "metadata": {},
   "outputs": [],
   "source": [
    "#I ran it and it isn't saying I have an issue so I think it worked!!"
   ]
  },
  {
   "cell_type": "markdown",
   "id": "816450e4",
   "metadata": {},
   "source": [
    "## Programming Ex. 4"
   ]
  },
  {
   "cell_type": "code",
   "execution_count": null,
   "id": "09527a54",
   "metadata": {},
   "outputs": [],
   "source": [
    "#first I have to ask for the user for the speed and the hours traveled\n",
    "speed = int(input())\n",
    "hours = int(input())\n",
    "#I am going to copy and paste the heading from the textbook for spacing \n",
    "print('Hour         Distance Traveled')\n",
    "for hour in range(1, hours+1):\n",
    "    distance = speed * hours\n",
    "#I'm not sure if this is correct however i predict the range for this will be from one and the input value hours plus one\n",
    "    print(hour, distance)"
   ]
  },
  {
   "cell_type": "code",
   "execution_count": null,
   "id": "51cda774",
   "metadata": {},
   "outputs": [],
   "source": [
    "#first I have to ask for the user for the speed and the hours traveled\n",
    "speed = int(input())\n",
    "hours = int(input())\n",
    "#I am going to copy and paste the heading from the textbook for spacing \n",
    "print('Hour         Distance Traveled')\n",
    "for hour in range(1, hours+1):\n",
    "    distance = speed * hours\n",
    "#I'm not sure if this is correct however i predict the range for this will be from one and the input value hours plus one\n",
    "    print(hour, distance)"
   ]
  },
  {
   "cell_type": "code",
   "execution_count": null,
   "id": "1787d48a",
   "metadata": {},
   "outputs": [],
   "source": [
    "#It worked without any errors!! "
   ]
  },
  {
   "cell_type": "markdown",
   "id": "95ed4649",
   "metadata": {},
   "source": [
    "## number 11: Weight loss question"
   ]
  },
  {
   "cell_type": "code",
   "execution_count": null,
   "id": "ee992867",
   "metadata": {},
   "outputs": [],
   "source": [
    "#first I have to ask for the input of weight starting point \n",
    "starting_weight = int(input())\n",
    "#the problem said there has to be a deduction od 4 lbs a month \n",
    "# I am going to create a statement equaling four to the goal weight deduction\n",
    "weight_deduction = 4 \n",
    "#next I have to create a table that gives a spot for the month and the weight since it is over the course of 6 momths\n",
    "print('Month    Weight')\n",
    "#I have to print a range statement for the course of 6 months so I will go up to the number 7 \n",
    "for month in range(1,7):\n",
    "    starting_weight = starting_weight - weight_deduction\n",
    "    print(month, starting_weight)\n",
    "#I predict this will work"
   ]
  },
  {
   "cell_type": "code",
   "execution_count": null,
   "id": "c69c1aad",
   "metadata": {},
   "outputs": [],
   "source": [
    "#My code is not running so I had to print it in another source again.\n",
    "#There is a syntax error since I accidentally put a space between starting and weight \n"
   ]
  },
  {
   "cell_type": "code",
   "execution_count": null,
   "id": "88539f45",
   "metadata": {},
   "outputs": [],
   "source": [
    "#I fixed the issue and now the code works!!"
   ]
  },
  {
   "cell_type": "markdown",
   "id": "6a6b34f0",
   "metadata": {},
   "source": [
    "## number 14 (the **** problem)"
   ]
  },
  {
   "cell_type": "code",
   "execution_count": null,
   "id": "5781c066",
   "metadata": {},
   "outputs": [],
   "source": [
    "#first I have to state how many rows I'm going to have which is 7.\n",
    "base_size = 7\n",
    "for r in range(base_size):\n",
    "    for c in range(base_size - r):\n",
    "        print('*', end='')\n",
    "        print()\n",
    "# I predict this will work since I used the example in the textbook that had the same design except upside down so I flipped the symbols from + to -\n",
    "#This should work but I am inputting it into a different source to see. "
   ]
  }
 ],
 "metadata": {
  "kernelspec": {
   "display_name": "Python 3 (ipykernel)",
   "language": "python",
   "name": "python3"
  },
  "language_info": {
   "codemirror_mode": {
    "name": "ipython",
    "version": 3
   },
   "file_extension": ".py",
   "mimetype": "text/x-python",
   "name": "python",
   "nbconvert_exporter": "python",
   "pygments_lexer": "ipython3",
   "version": "3.11.4"
  }
 },
 "nbformat": 4,
 "nbformat_minor": 5
}
